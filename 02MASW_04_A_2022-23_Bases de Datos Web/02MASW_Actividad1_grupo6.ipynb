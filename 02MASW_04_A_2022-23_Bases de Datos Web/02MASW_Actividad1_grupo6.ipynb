{
 "cells": [
  {
   "cell_type": "markdown",
   "id": "40b79843-459c-453e-8b4c-9d5e0578ed53",
   "metadata": {
    "tags": []
   },
   "source": [
    "# Portada\n",
    "Integrantes del grupo:\n",
    "- Rubén Gómez Olivencia"
   ]
  },
  {
   "cell_type": "markdown",
   "id": "9cd6576b-9bc2-4f3b-8727-b175dbfcfe50",
   "metadata": {
    "tags": []
   },
   "source": [
    "# Índice\n",
    "## [1. Introducción](#introduccion)\n",
    "## [2. Necesidades y requisitos del cliente (análisis de requisitos)](#requisitos)\n",
    "## [3. Diseño de base de datos relacional](#diseño)\n",
    "### [3.1 Diseño conceptual](#diseño_conceptual)"
   ]
  },
  {
   "cell_type": "markdown",
   "id": "bfd6644e-2e16-4744-8c70-673da43cd442",
   "metadata": {
    "tags": []
   },
   "source": [
    "# Introducción <a class=\"anchor\" id=\"introduccion\"></a>"
   ]
  },
  {
   "cell_type": "markdown",
   "id": "8fadf910-927e-4b45-854c-bd71e0a01d38",
   "metadata": {},
   "source": [
    "<font color='red'>TODO: ¿PONER NOMBRE A LA EMPRESA?</font>\n",
    "\n",
    "La empresa quiere abrirse camino en el mundo deportivo que está tan de moda actualmente queriéndose convertir en un referente entre los deportistas del mundo del ciclismo, running y andar, pero de cara a futuro abarcar más deportes como la natación, triatlón, …\n",
    "\n",
    "Entre los nuevos servicios que quiere ofrecer está un portal web donde los deportistas se puedan registrar e ir registrando sus entrenamientos. Para que los deportistas federados puedan tener una mejor gestión de las pruebas oficiales que realizan en los distintos campeonatos que dirigen las federaciones, quiere que puedan tener un histórico de sus tiempos oficiales realizados.\n",
    "\n",
    "Así mismo, y para abrirse camino entre deportistas no federados, quiere incentivar el deporte proponiendo retos a estos deportistas, que en caso de ser completados se les entregarán logros virtuales."
   ]
  },
  {
   "cell_type": "markdown",
   "id": "c95d422b-bd89-4f98-943c-d0336bb11ee1",
   "metadata": {
    "tags": []
   },
   "source": [
    "# 2. Necesidades y requisitos del cliente (análisis de requisitos) <a class=\"anchor\" id=\"requisitos\"></a>"
   ]
  },
  {
   "cell_type": "markdown",
   "id": "328e59fc-91b4-4429-a0dc-3aa7f160e4e5",
   "metadata": {},
   "source": []
  },
  {
   "cell_type": "markdown",
   "id": "eb3570f8-fe8c-4bb0-9f30-7db15893ccea",
   "metadata": {
    "tags": []
   },
   "source": [
    "# 3. Diseño de base de datos relacional <a class=\"anchor\" id=\"diseño\"></a>"
   ]
  },
  {
   "cell_type": "markdown",
   "id": "092203aa-44b4-40c4-bd73-236ab2b8bf84",
   "metadata": {},
   "source": []
  },
  {
   "cell_type": "markdown",
   "id": "fccd19c0-b669-4ac9-bba0-ed820d9354a3",
   "metadata": {
    "tags": []
   },
   "source": [
    "## 3.1 Diseño conceptual <a class=\"anchor\" id=\"diseño_conceptual\"></a>"
   ]
  },
  {
   "cell_type": "markdown",
   "id": "d19f5b6a-f297-4fc5-a170-11337b3507a5",
   "metadata": {},
   "source": []
  }
 ],
 "metadata": {
  "kernelspec": {
   "display_name": "Python 3 (ipykernel)",
   "language": "python",
   "name": "python3"
  },
  "language_info": {
   "codemirror_mode": {
    "name": "ipython",
    "version": 3
   },
   "file_extension": ".py",
   "mimetype": "text/x-python",
   "name": "python",
   "nbconvert_exporter": "python",
   "pygments_lexer": "ipython3",
   "version": "3.10.4"
  }
 },
 "nbformat": 4,
 "nbformat_minor": 5
}
