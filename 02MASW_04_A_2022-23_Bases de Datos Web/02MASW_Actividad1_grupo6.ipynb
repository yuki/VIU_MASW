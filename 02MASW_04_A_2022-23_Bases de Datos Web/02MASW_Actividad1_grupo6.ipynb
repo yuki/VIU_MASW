{
 "cells": [
  {
   "cell_type": "markdown",
   "id": "40b79843-459c-453e-8b4c-9d5e0578ed53",
   "metadata": {
    "tags": []
   },
   "source": [
    "# Portada\n",
    "Integrantes del grupo:\n",
    "- Rubén Gómez Olivencia"
   ]
  },
  {
   "cell_type": "markdown",
   "id": "9cd6576b-9bc2-4f3b-8727-b175dbfcfe50",
   "metadata": {
    "tags": []
   },
   "source": [
    "# Índice\n",
    "## [1. Introducción](#introduccion)\n",
    "## [2. Necesidades y requisitos del cliente (análisis de requisitos)](#requisitos)\n",
    "## [3. Diseño de base de datos relacional](#diseño)\n",
    "### [3.1 Diseño conceptual](#diseño_conceptual)\n",
    "### [3.2 Diseño lógico](#diseño_logico)\n",
    "\n"
   ]
  },
  {
   "cell_type": "markdown",
   "id": "bfd6644e-2e16-4744-8c70-673da43cd442",
   "metadata": {
    "tags": []
   },
   "source": [
    "# 1. Introducción <a class=\"anchor\" id=\"introduccion\"></a>"
   ]
  },
  {
   "cell_type": "markdown",
   "id": "8fadf910-927e-4b45-854c-bd71e0a01d38",
   "metadata": {},
   "source": [
    "<font color='red'>TODO: ¿PONER NOMBRE A LA EMPRESA?</font>\n"
   ]
  },
  {
   "cell_type": "markdown",
   "id": "c95d422b-bd89-4f98-943c-d0336bb11ee1",
   "metadata": {
    "tags": []
   },
   "source": [
    "# 2. Necesidades y requisitos del cliente (análisis de requisitos) <a class=\"anchor\" id=\"requisitos\"></a>"
   ]
  },
  {
   "cell_type": "markdown",
   "id": "328e59fc-91b4-4429-a0dc-3aa7f160e4e5",
   "metadata": {},
   "source": [
    "De cara a la realización del portal web, y de cara a conocer en profundida lo ñapc \n",
    "\n",
    "A continuación se van a exponer las necesidades de"
   ]
  },
  {
   "cell_type": "markdown",
   "id": "eb3570f8-fe8c-4bb0-9f30-7db15893ccea",
   "metadata": {
    "tags": []
   },
   "source": [
    "# 3. Diseño de base de datos relacional <a class=\"anchor\" id=\"diseño\"></a>"
   ]
  },
  {
   "cell_type": "markdown",
   "id": "7e54efee-b615-4f6e-8431-1938f06c8d3d",
   "metadata": {},
   "source": [
    "qwe\n",
    "\n",
    "<table>\n",
    "  <tr>\n",
    "   <th>Tarea\n",
    "   </th>\n",
    "   <th>Datos necesarios\n",
    "   </th>\n",
    "  </tr>\n",
    "  <tr>\n",
    "   <td>asdasd \n",
    "   </td>\n",
    "   <td>Lorem ipsum dolor sit amet, consectetur adipiscing elit. Quisque vitae semper urna. Mauris dignissim nibh ac purus cursus, et sagittis turpis condimentum. Cras justo elit, vulputate sed dapibus a, venenatis quis est. In mattis nisl et nulla placerat, non ornare orci dignissim. Phasellus congue, erat condimentum ullamcorper dignissim, ligula ex dignissim sem, vel auctor lacus ex non sem. Nulla ullamcorper id lacus a fringilla. Aliquam blandit, velit vitae rhoncus faucibus, leo tortor vehicula nunc, eget rutrum velit augue nec ligula. Nullam non enim eget nibh condimentum condimentum. Sed efficitur ex lacus, eu iaculis ligula laoreet ut. Vivamus commodo consequat dui id pulvinar. Donec elit leo, pharetra ac leo ac, pharetra aliquet ex. Cras nibh orci, eleifend sit amet leo quis, lacinia bibendum urna. Praesent accumsan, mauris tincidunt blandit viverra, nulla lectus consectetur nunc, ut finibus tellus risus nec turpis. Cras auctor imperdiet mi, vel condimentum tellus consequat a. Nam lacinia purus auctor, interdum nibh at, lobortis nulla. Pellentesque convallis mi ex, ac feugiat arcu tincidunt et.\n",
    "   </td>\n",
    "  </tr>\n",
    "  <tr>\n",
    "   <td>\n",
    "   </td>\n",
    "   <td>\n",
    "   </td>\n",
    "  </tr>\n",
    "  <tr>\n",
    "   <td>\n",
    "   </td>\n",
    "   <td>\n",
    "   </td>\n",
    "  </tr>\n",
    "</table>"
   ]
  },
  {
   "cell_type": "markdown",
   "id": "fccd19c0-b669-4ac9-bba0-ed820d9354a3",
   "metadata": {
    "tags": []
   },
   "source": [
    "## 3.1 Diseño conceptual <a class=\"anchor\" id=\"diseño_conceptual\"></a>"
   ]
  },
  {
   "cell_type": "markdown",
   "id": "d19f5b6a-f297-4fc5-a170-11337b3507a5",
   "metadata": {},
   "source": []
  },
  {
   "cell_type": "markdown",
   "id": "31e3443d",
   "metadata": {},
   "source": []
  },
  {
   "cell_type": "markdown",
   "id": "987340a9-1376-49fa-8482-aaa9b35ab9a7",
   "metadata": {},
   "source": []
  },
  {
   "cell_type": "markdown",
   "id": "d51764a4-65d1-4d99-bc88-4a88d737b1b0",
   "metadata": {
    "tags": []
   },
   "source": [
    "## 3.2 Diseño lógico <a class=\"anchor\" id=\"diseño_logico\"></a>"
   ]
  },
  {
   "cell_type": "markdown",
   "id": "fbb0ba19-a4d2-4281-8da8-81ea17c013a5",
   "metadata": {},
   "source": [
    "Una vez realizado el diseño conceptual realizamos el diseño lógico del mismo. Primero partimos del diseño para las entidades"
   ]
  },
  {
   "cell_type": "markdown",
   "id": "019f9460-ea92-46c1-8b2e-53077eb0d546",
   "metadata": {
    "tags": []
   },
   "source": [
    "### Entidades\n"
   ]
  },
  {
   "cell_type": "markdown",
   "id": "cc13056b-061e-4dea-b987-4f5817139fe6",
   "metadata": {},
   "source": [
    "## 3.3 Diseño físico"
   ]
  },
  {
   "cell_type": "markdown",
   "id": "f0acd6a6-575d-42d1-8614-268dfa80a795",
   "metadata": {},
   "source": [
    "```postgresql\n",
    "\n",
    "CREATE DOMAIN genero_deportista as varchar CHECK(\n",
    "    VALUE IN ('masculino','femenino','nd')\n",
    ");\n",
    "\n",
    "\n",
    "\n",
    "CREATE TABLE DEPORTISTA(\n",
    "    deportista_id serial not null primary key,\n",
    "    nombre varchar(20) not null,\n",
    "    apellidos varchar(30),\n",
    "    fecha_nacimiento date,\n",
    "    genero genero_deportista\n",
    ");\n",
    "\n",
    "\n",
    "CREATE TABLE FEDERACION(\n",
    "    federacion_id serial not null primary key,\n",
    "\tnombre varchar(50),\n",
    "\tdireccion varchar(70),\n",
    "\tweb varchar(50)\n",
    ");\n",
    "\n",
    "CREATE TABLE DEPORTE(\n",
    "    deporte_id serial not null primary key,\n",
    "\tnombre varchar(50),\n",
    "\tfederacion_id integer not null REFERENCES federacion(federacion_id) ON DELETE CASCADE ON UPDATE CASCADE\n",
    ");\n",
    "\n",
    "CREATE TABLE ENTRENAMIENTO(\n",
    "    entrenamiento_id serial not null primary key,\n",
    "\tnombre varchar(50),\n",
    "\tfecha timestamptz,\n",
    "\tduracion integer,\n",
    "\tdistancia integer,\n",
    "\tdeportista_id integer not null REFERENCES deportista(deportista_id) ON DELETE CASCADE ON UPDATE CASCADE,\n",
    "\tdeporte_id integer not null REFERENCES deporte(deporte_id) ON DELETE SET NULL ON UPDATE CASCADE\n",
    ");\n",
    "```"
   ]
  },
  {
   "cell_type": "markdown",
   "id": "a9929adc-77d4-47bc-83c0-cef64d331828",
   "metadata": {},
   "source": [
    "# Despliegue de la base de datos"
   ]
  },
  {
   "cell_type": "markdown",
   "id": "c0fdfab4-e856-469e-9811-9ae37ca5dc77",
   "metadata": {},
   "source": []
  },
  {
   "cell_type": "markdown",
   "id": "77ebc541-ebfd-4dae-b512-003c2229fffd",
   "metadata": {
    "tags": []
   },
   "source": [
    "## Consultas a base de datos"
   ]
  },
  {
   "cell_type": "markdown",
   "id": "3012e553-1bb1-42b1-8bb5-c867a1f0e656",
   "metadata": {},
   "source": []
  },
  {
   "cell_type": "markdown",
   "id": "d34e20a1-aa2f-4a18-9d68-aa156049500d",
   "metadata": {},
   "source": [
    "# Conclusiones"
   ]
  },
  {
   "cell_type": "markdown",
   "id": "6e000b31-0da9-45ba-a2c1-aa8a8fa7e4d4",
   "metadata": {},
   "source": []
  }
 ],
 "metadata": {
  "kernelspec": {
   "display_name": "Python 3 (ipykernel)",
   "language": "python",
   "name": "python3"
  },
  "language_info": {
   "codemirror_mode": {
    "name": "ipython",
    "version": 3
   },
   "file_extension": ".py",
   "mimetype": "text/x-python",
   "name": "python",
   "nbconvert_exporter": "python",
   "pygments_lexer": "ipython3",
   "version": "3.10.4"
  }
 },
 "nbformat": 4,
 "nbformat_minor": 5
}
