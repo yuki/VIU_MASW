{
 "cells": [
  {
   "cell_type": "markdown",
   "id": "40b79843-459c-453e-8b4c-9d5e0578ed53",
   "metadata": {
    "tags": []
   },
   "source": [
    "# Portada\n",
    "Integrantes del grupo:\n",
    "- Rubén Gómez Olivencia"
   ]
  },
  {
   "cell_type": "markdown",
   "id": "9cd6576b-9bc2-4f3b-8727-b175dbfcfe50",
   "metadata": {
    "tags": []
   },
   "source": [
    "# Índice"
   ]
  },
  {
   "cell_type": "markdown",
   "id": "cfd46cfb-614a-4538-aacd-0572e83375e4",
   "metadata": {},
   "source": [
    "- [1. Introducción](#introduccion)\n",
    "- [2. Necesidades y requisitos del usuario (análisis de requisitos)](#requisitos)\n",
    "  - [2.1. Estado actual de los datos](#estado_actual)\n",
    "  - [2.2. Necesidades](#necesidades)\n",
    "  - [2.3. Tareas sobre datos](#tareas)\n",
    "  - [2.4. Requisitos finales](#requisitos_finales)\n",
    "- [3. Diseño de la base de datos](#diseño)\n",
    "  - [3.1. Diseño conceptual](#diseño_conceptual)\n",
    "    - [3.1.1. Identificar las entidades](#identificar_identidades)\n",
    "    - [3.1.2. Identificar relaciones](#identificar_relaciones)\n",
    "    - [3.1.3. Identificar atributos](#identificar_atributos)\n",
    "    - [3.1.4. Identificar dominios](#identificar_dominios)\n",
    "    - [3.1.5. Identificar los atributos únicos en las entidades](#identificar_atributos_unicos)\n",
    "    - [3.1.6. Diagrama Entidad-Relación](#diagrama_er)\n",
    "  - [3.2. Diseño lógico](#diseño_logico)\n",
    "    - [3.2.1. Entidades a tablas](#entidades_tablas)\n",
    "    - [3.2.2. Relaciones de N a M a tablas](#relaciones_nm)\n",
    "    - [3.2.3. Relaciones 1 a N](#relaciones_1n)\n",
    "    - [3.2.4. Relaciones 1 a 1](#relaciones_11)\n",
    "    - [3.2.5. Añadir reglas de integridad](#reglas_integridad)\n",
    "    - [3.2.6. Normalización](#normalizacion)\n",
    "    - [3.2.7. Diseño lógico resultante](#diseño_logico_final)\n",
    "  - [3.3. Diseño físico](#diseño_fisico)\n",
    "    - [3.3.1. Elección del SGBD a utilizar](#eleccion_sgbd)\n",
    "    - [3.3.2. Transformar los elementos del esquema lógico](#transformar)\n",
    "    - [3.3.3. Reglas de integridad para claves primarias y ajenas](#integridad)\n",
    "    - [3.3.4. Diseño físico resultante](#diseño_fisico)\n",
    "    - [3.3.5. Creación de vistas](#vistas)\n",
    "- [4. Despliegue de la base de datos](#despliegue)\n",
    "  - [4.1 Conexión a servidores](#conexion)\n",
    "    - [4.1.1 Conexión local](#conexion_local)\n",
    "    - [4.1.2 Conexión remota](#conexion_remota)\n",
    "  - [4.2 Creación de tablas y vistas](#creacion)\n",
    "    - [4.2.1 Creación en local](#creacion_local)\n",
    "    - [4.2.2 Creación en remoto](#creacion_remoto)\n",
    "  - [4.3. Inserción de datos](#insercion)\n",
    "    - [4.3.1. Inserción en local](#insercion_local)\n",
    "    - [4.3.2. Inserción en remoto](#insercion_remoto)\n",
    "- [5. Consultas a base de datos](#consultas)\n",
    "- [6. Conclusiones](#conclusiones)\n",
    "\n",
    "<font color='red'>TODO: COMPLETAR INDICE</font>"
   ]
  },
  {
   "cell_type": "markdown",
   "id": "bfd6644e-2e16-4744-8c70-673da43cd442",
   "metadata": {
    "tags": []
   },
   "source": [
    "# 1. Introducción <a class=\"anchor\" id=\"introduccion\"></a>"
   ]
  },
  {
   "cell_type": "markdown",
   "id": "8fadf910-927e-4b45-854c-bd71e0a01d38",
   "metadata": {},
   "source": [
    "La empresa **KulunSport** quiere abrirse camino en el mundo deportivo que está tan de moda actualmente queriéndose convertir en un referente entre los deportistas del mundo del ciclismo, running y andar, pero de cara a futuro abarcar más deportes como la natación, triatlón, …\n",
    "\n",
    "Entre los nuevos servicios que quiere ofrecer está un portal web donde los deportistas se puedan registrar e ir registrando sus entrenamientos.\n",
    "\n",
    "Para que los deportistas federados puedan tener una mejor gestión de las pruebas oficiales que realizan en los distintos campeonatos que dirigen las federaciones, quiere que puedan tener un histórico de sus tiempos oficiales realizados.\n",
    "\n",
    "Así mismo, y para abrirse camino entre deportistas no federados, quiere incentivar el deporte proponiendo retos a estos deportistas, que en caso de ser completados se les entregarán logros virtuales."
   ]
  },
  {
   "cell_type": "markdown",
   "id": "c95d422b-bd89-4f98-943c-d0336bb11ee1",
   "metadata": {
    "tags": []
   },
   "source": [
    "# 2. Necesidades y requisitos del usuario (análisis de requisitos) <a class=\"anchor\" id=\"requisitos\"></a>"
   ]
  },
  {
   "cell_type": "markdown",
   "id": "328e59fc-91b4-4429-a0dc-3aa7f160e4e5",
   "metadata": {},
   "source": [
    "Para conocer de manera exacta las necesidades del cliente se han realizado varias entrevistas a las que han asistido:\n",
    "\n",
    "\n",
    "* **María de los Ángeles Rodríguez**: Responsable de la empresa KulunSport y encargada de negocio.\n",
    "* **Rubén Gómez Olivencia**: Jefe de proyecto y diseñador de bases de datos.\n",
    "\n",
    "De esta manera, se ha podido recabar la información necesaria del estado actual de los datos que contiene la empresa, de las necesidades básicas que tienen, de los requisitos exigidos de cara a la terminación de proyecto, así como de sus ideas de futuro.\n",
    "\n",
    "Toda esta información será explicada en los apartados que vienen a continuación."
   ]
  },
  {
   "cell_type": "markdown",
   "id": "d403050a-4fb3-49bc-9693-fbda9122066a",
   "metadata": {
    "tags": []
   },
   "source": [
    "## 2.1. Estado actual de los datos <a class=\"anchor\" id=\"estado_actual\"></a>"
   ]
  },
  {
   "cell_type": "markdown",
   "id": "58c77cc1-e81b-41ff-8bea-99072a663e92",
   "metadata": {},
   "source": [
    "Actualmente la empresa cuenta con los datos de muy pocos deportistas profesionales, y estos datos están almacenados en una hoja de cálculo sin ningún sistema de respaldo automatizado. Un día al mes se realiza una copia de seguridad del fichero que lo realiza la persona encargada del departamento de comunicación.\n",
    "\n",
    "Sobre el calendario de competiciones, se avisa a los deportistas directamente, sin quedar registrado ningún histórico de las pruebas que han realizado.\n",
    "\n",
    "Es por eso que la empresa quiere aprovechar la idea de la creación del portal web para crear una base de datos y ya de paso un sistema automatizado de copias de seguridad de los datos."
   ]
  },
  {
   "cell_type": "markdown",
   "id": "2931db3c-dad8-4499-a5c6-9c4a8cae3687",
   "metadata": {},
   "source": [
    "## 2.2. Necesidades <a class=\"anchor\" id=\"necesidades\"></a>"
   ]
  },
  {
   "cell_type": "markdown",
   "id": "af319e22-2e9d-4017-9324-8c2fb0d0ced2",
   "metadata": {},
   "source": [
    "Desde KulunSport se nos informa que la necesidad principal del proyecto es la de crear un portal web, y con ello una base de datos, en la que se puedan gestionar deportistas que practican distintos deportes, ya sea de forma federada o no.\n",
    "\n",
    "La empresa quiere ofrecer a todos los deportistas que utilicen su portal  la gestión de sus entrenamientos. De inicio se van a centrar en los deportes de ciclismo, correr y andar, pero quieren dejar abierta la posibilidad de que el diseño permita añadir más deportes de cara a futuro.\n",
    "\n",
    "Para incentivar al uso de la plataforma, quieren que los deportistas federados puedan registrar sus tiempos oficiales realizados en pruebas de campeonatos. \n",
    "\n",
    "Para los deportistas no federados quieren crear retos que una vez terminados otorgarán logros virtuales. Para el disfrute de todos los deportistas, quieren mantener el registro de asistencia a eventos deportivos."
   ]
  },
  {
   "cell_type": "markdown",
   "id": "50e1315e-a0ae-4b39-b0a1-37d5f81d212b",
   "metadata": {},
   "source": [
    "## 2.3. Tareas sobre datos <a class=\"anchor\" id=\"tareas\"></a>"
   ]
  },
  {
   "cell_type": "markdown",
   "id": "2b4c4816-f93a-45db-9a9e-bf879a256160",
   "metadata": {},
   "source": [
    "Una vez entendida las necesidades generales del cliente, llegó el momento de recabar la información de las tareas que se deben permitir realizar y sobre qué tipo de datos se efectuarán dichas tareas.\n",
    "\n",
    "Esta información se va a reflejar en la siguiente tabla:"
   ]
  },
  {
   "cell_type": "markdown",
   "id": "ac5cddd4-2519-410f-9e5a-b7f66c8b7b42",
   "metadata": {},
   "source": [
    "| **Tarea** | **Datos necesarios** | \n",
    "|-----------------|------------|\n",
    "| Registro y edición del deportista | Nombre, apellidos, fecha de nacimiento, género del deportista, usuario y password  |\n",
    "| Registro de entrenamiento  | Deporte del entrenamiento, nombre del entrenamiento, la fecha en la que se ha realizado, duración del mismo y la distancia realizada |\n",
    "| Consulta de entrenamientos | Deporte del entrenamiento, nombre del entrenamiento, la fecha en la que se ha realizado, duración del mismo y la distancia realizada |\n",
    "| Registro de número de federado | Usuario, deporte ynúmero de federado. |\n",
    "| Registro de federación | Nombre, dirección y la web de la federación  |                    \n",
    "| Consulta de las federaciones | Nombre, dirección y web de la federación |                     \n",
    "| Registro de deportes | Nombre del deporte |                                                                         \n",
    "| Consultar deportes | Nombre de los deportes y federaciones a las que pertenecen |\n",
    "| Registro de pruebas  | Nombre y distancia |                                                                         \n",
    "| Registro de campeonato | Nombre del campeonato, fecha de inicio y fecha de finalización |\n",
    "| Registrar tiempo en prueba de campeonato | Deportista, prueba de campeonato y tiempo  |\n",
    "| Consulta de pruebas en competiciones | Pruebas realizadas y tiempos |\n",
    "| Registro de eventos  | Nombre del evento, fecha y distancia |\n",
    "| Registro de asistencia a eventos | Deportista, evento y tiempo realizado  |\n",
    "| Consulta de eventos  | Eventos, por fecha, por distancia… |\n",
    "| Creación de retos  | Nombre del reto, fecha inicio, fecha fin, distancia y tiempo |\n",
    "| Consulta de retos  | Retos por fecha, distancia…  |\n",
    "| Hacer reto | Fecha unión, fecha completado  |\n",
    "| Crear logros | Nombre del logro |\n",
    "| Obtener logros | Fecha de obtención |\n",
    "| Listar logros  | Logros por deportista  |"
   ]
  },
  {
   "cell_type": "markdown",
   "id": "76717471-a141-41c6-9d4e-a88b2af2c6d3",
   "metadata": {},
   "source": [
    "## 2.4. Requisitos finales <a class=\"anchor\" id=\"requisitos_finales\"></a>"
   ]
  },
  {
   "cell_type": "markdown",
   "id": "1284b79a-6c54-4ffd-b256-cbbdcf2b08de",
   "metadata": {},
   "source": [
    "Tras ver las tareas que se quieren realizar sobre los datos, a continuación se van a desgranar y convertir en requisitos atómicos indicando los datos que tomarán parte."
   ]
  },
  {
   "cell_type": "markdown",
   "id": "25fe2db4-dc28-4f7a-aad1-7af7c7e1520a",
   "metadata": {},
   "source": [
    "| **Requisitos Finales** | **Datos necesarios**|\n",
    "|--------------------|----------------------------------|\n",
    "| Registro del deportista| Nombre, apellidos, fecha de nacimiento, género del deportista, usuario y password |\n",
    "| Edición de los datos del deportista | Nombre, apellidos, fecha de nacimiento, género del deportista, usuario y password |\n",
    "| Registro de número de federado| Usuario, deporte ynúmero de federado. |\n",
    "| Registro de federación| Nombre, dirección y web de la federación|\n",
    "| Consulta de las federaciones | Nombre, dirección y web de la federación |\n",
    "| Registro de deportes | Nombre del deporte, federación a la que pertenece  |\n",
    "| Consulta de deportes | Nombre de los deportes y federaciones a las que pertenecen |\n",
    "| Registro de pruebas  | Nombre, distancia y federación a la que pertenece  |\n",
    "| Registro de campeonato | Nombre del campeonato, fecha de inicio, fecha de finalización, y federación que organiza |\n",
    "| Registrar tiempo en prueba de campeonato | Deportista, prueba de campeonato y tiempo  |\n",
    "| Consulta de pruebas en competiciones | Deportista, pruebas de campeonatos y tiempos |\n",
    "| Registro de eventos  | Nombre del evento, fecha y distancia |\n",
    "| Registro de asistencia a eventos | Deportista, evento y tiempo realizado  |\n",
    "| Consulta de eventos  | Nombre, fecha, y distancia de eventos  |\n",
    "| Registro de retos  | Nombre del reto, fecha inicio, fecha fin, distancia y tiempo |\n",
    "| Consulta de retos  | Deportista, retos por fecha, distancia |\n",
    "| Hacer reto | Deportista, reto, fecha unión  |\n",
    "| Completar reto | Deportista, reto, fecha de finalización  |\n",
    "| Registro de logros | Nombre del logro, evento asociado  |\n",
    "| Obtener logros | Fecha de obtención |\n",
    "| Listar logros  | Deportista y logros obtenidos  |"
   ]
  },
  {
   "cell_type": "markdown",
   "id": "eb3570f8-fe8c-4bb0-9f30-7db15893ccea",
   "metadata": {
    "tags": []
   },
   "source": [
    "# 3. Diseño de la base de datos <a class=\"anchor\" id=\"diseño\"></a>"
   ]
  },
  {
   "cell_type": "markdown",
   "id": "7e54efee-b615-4f6e-8431-1938f06c8d3d",
   "metadata": {},
   "source": [
    "Una vez realizada la toma de requisitos, habiendo entendido cuáles son las necesidades del cliente y habiendo cerrados los requisitos finales que se van a implantar, procedemos a realizar el diseño de la base de datos.\n",
    "\n",
    "A la hora de realizar el diseño realizaremos varios pasos de manera secuencial para llevar a buen  término la generación final de la base de datos. Estos pasos a su vez pueden contar con apartados para realizar tareas atómicas y que de esta manera el diseño cuente con todas las necesidades previamente expuestas."
   ]
  },
  {
   "cell_type": "markdown",
   "id": "fccd19c0-b669-4ac9-bba0-ed820d9354a3",
   "metadata": {
    "tags": []
   },
   "source": [
    "## 3.1. Diseño conceptual <a class=\"anchor\" id=\"diseño_conceptual\"></a>"
   ]
  },
  {
   "cell_type": "markdown",
   "id": "d19f5b6a-f297-4fc5-a170-11337b3507a5",
   "metadata": {},
   "source": [
    "A la hora de realizar el diseño conceptual se han seguido los siguientes pasos:\n",
    "\n",
    "\n",
    "1. Identificar las **entidades** que formarán parte del diseño de datos.\n",
    "2. Identificar las **relaciones** que existen entre las entidades obtenidas.\n",
    "3. Identificar los **atributos** que tienen las entidades y las relaciones\n",
    "4. Determinar el **dominio** de los distintos atributos.\n",
    "5. Identificar los **atributos únicos** en las entidades.\n",
    "6. Plasmar el resultado en un diagrama Entidad-Relación\n",
    "\n",
    "A continuación se detallan cada apartado por separado y los datos obtenidos"
   ]
  },
  {
   "cell_type": "markdown",
   "id": "31e3443d",
   "metadata": {},
   "source": [
    "### 3.1.1. Identificar las entidades <a class=\"anchor\" id=\"identificar_identidades\"></a>"
   ]
  },
  {
   "cell_type": "markdown",
   "id": "987340a9-1376-49fa-8482-aaa9b35ab9a7",
   "metadata": {},
   "source": [
    "Las entidades que van a formar parte de nuestra base de datos son las siguientes:\n",
    "\n",
    "* **Deportista**: Son los usuarios que van a utilizar la aplicación\n",
    "* **Entrenamiento**: Son los entrenamientos que van a realizar los deportistas\n",
    "* **Deporte**: Los deportes que van a practicar los usuarios\n",
    "* **Federación**: Los deportes están reglados por distintas federaciones deportivas\n",
    "* **Prueba**: Cada deporte consta de distintas pruebas oficiales\n",
    "* **Campeonato**: Las federaciones dirigen campeonatos donde se realizan pruebas oficiales\n",
    "* **Evento**: Las federaciones organizan eventos para todo tipo de deportistas.\n",
    "* **Reto**: Retos propuestos por la empresa KulunSport para incentivar el ejercicio entre los deportistas\n",
    "* **Logros**: Logros virtuales obtenidos por los deportistas tras completar retos"
   ]
  },
  {
   "cell_type": "markdown",
   "id": "267a365b-3bcd-41d1-a93c-f9eb5ea993da",
   "metadata": {},
   "source": [
    "### 3.1.2. Identificar relaciones <a class=\"anchor\" id=\"identificar_relaciones\"></a>"
   ]
  },
  {
   "cell_type": "markdown",
   "id": "8ea32bc6-f142-4ddc-a571-a61a97822706",
   "metadata": {},
   "source": [
    "Las relaciones surgidas del análisis de requisito son las siguientes:\n",
    "\n",
    "* **Realiza**, es una relación entre deportista y entrenamiento\n",
    "* **Practíca**, es una relación entre deportista y deporte\n",
    "* **Pertenece**, es una relación entre un entrenamiento y deporte\n",
    "* **Regla**, es una relación entre la federación y el deporte al que crea las reglas\n",
    "* **Tiene**, es una relación entre deporte y pruebas\n",
    "* **Dirige**, es una relación entre federación y campeonato\n",
    "* **Compite**, es una relación entre deportista, que compite en una la prueba de un campeonato\n",
    "* **Organiza**, es una relación entre federación y los eventos\n",
    "* **Asiste**, es una relación entre deportista y eventos\n",
    "* **Tiene**, es una relación entre deporte y retos\n",
    "* **Hace**, es una relación entre deportista y retos\n",
    "* **Regala**, es una relación entre retos y logros\n",
    "* **Obtiene**, es una relación entre deportista y logros"
   ]
  },
  {
   "cell_type": "markdown",
   "id": "a66918a6-f709-4185-a84a-25df625e9904",
   "metadata": {},
   "source": [
    "### 3.1.3. Identificar atributos <a class=\"anchor\" id=\"identificar_atributos\"></a>"
   ]
  },
  {
   "cell_type": "markdown",
   "id": "0e9e9ace-a40a-4926-a7b7-84a7d9f3f60b",
   "metadata": {},
   "source": [
    "Las entidades obtenidas requieren de atributos que son mostrados a continuación:\n",
    "\n",
    "\n",
    "* **Deportista**: nombre, apellidos, fecha de nacimiento, género, usuario y password\n",
    "* **Entrenamiento**: nombre, fecha, duracion, distancia\n",
    "* **Deporte**: nombre\n",
    "* **Federación**:nombre, direccion, web\n",
    "* **Prueba**: nombre, distancia\n",
    "* **Campeonato**: nombre, fecha_inicio, fecha_fin\n",
    "* **Evento**: nombre, fecha, distancia\n",
    "* **Reto**: nombre, descripcion, fecha_inicio, fecha_fin, distancia, tiempo\n",
    "* **Logros**: nombre\n",
    "\n",
    "Y algunas de las relaciones identificadas previamente también requieren de atributos:\n",
    "\n",
    "\n",
    "* **Practíca**: federado, numero_federado\n",
    "* **Compite**: tiempo_realizado\n",
    "* **Asiste**: tiempo_realizado\n",
    "* **Hace**: fecha_unirse, fecha_completado\n",
    "* **Obtiene**: fecha"
   ]
  },
  {
   "cell_type": "markdown",
   "id": "ec98454d-3368-4c0d-86ec-d62b9fc65444",
   "metadata": {},
   "source": [
    "### 3.1.4. Identificar dominios <a class=\"anchor\" id=\"identificar_dominios\"></a>"
   ]
  },
  {
   "cell_type": "markdown",
   "id": "c9eb8770-dd73-4ed3-93d2-2e9e345e6342",
   "metadata": {},
   "source": [
    "Entre todos los atributos especificados previamente, sólo existe un dominio:\n",
    "\n",
    "\n",
    "\n",
    "* **Genero**: posibles valores: “masculino”, “femenino” o “nd”\n",
    "\n",
    "Donde “nd” significa “no disponible” ya que el deportista ha preferido no indicarlo."
   ]
  },
  {
   "cell_type": "markdown",
   "id": "ce126afc-bd90-4141-b253-8fbc1eaf9ac3",
   "metadata": {},
   "source": [
    "### 3.1.5. Identificar los atributos únicos en las entidades  <a class=\"anchor\" id=\"identificar_atributos_unicos\"></a>"
   ]
  },
  {
   "cell_type": "markdown",
   "id": "9c7eaf61-3439-4045-a024-72486be1b14c",
   "metadata": {},
   "source": [
    "Las entidades deben de contar con atributos que deben ser únicos en la base de datos para poder ser identificados. En este caso, hemos optado por añadir un nuevo atributo a las entidades para que sea un identificador entero único, que será el siguiente para cada entidad:\n",
    "\n",
    "\n",
    "\n",
    "* **Deportista**: deportista_id\n",
    "* **Entrenamiento**: entrenamiento_id\n",
    "* **Deporte**: deporte_id\n",
    "* **Federación**: federacion_id\n",
    "* **Prueba**: prueba_id\n",
    "* **Campeonato**: campeonato_id\n",
    "* **Evento**: evento_id\n",
    "* **Reto**: reto_id\n",
    "* **Logros**: logro_id"
   ]
  },
  {
   "cell_type": "markdown",
   "id": "81801c2a-d5a4-4400-a4ee-47b5367e94cf",
   "metadata": {},
   "source": [
    "### 3.1.6. Diagrama Entidad-Relación <a class=\"anchor\" id=\"diagrama_er\"></a>"
   ]
  },
  {
   "cell_type": "markdown",
   "id": "9dfc294c-5f8e-41e8-aae4-905386697af0",
   "metadata": {},
   "source": [
    "![conceptual.png](conceptual.png)"
   ]
  },
  {
   "cell_type": "markdown",
   "id": "d51764a4-65d1-4d99-bc88-4a88d737b1b0",
   "metadata": {
    "tags": []
   },
   "source": [
    "## 3.2 Diseño lógico <a class=\"anchor\" id=\"diseño_logico\"></a>"
   ]
  },
  {
   "cell_type": "markdown",
   "id": "fbb0ba19-a4d2-4281-8da8-81ea17c013a5",
   "metadata": {},
   "source": [
    "Con el diseño conceptual previamente realizado, vamos a pasar a realizar el diseño lógico de datos. \n",
    "\n",
    "Para la realización del diseño lógico los pasos realizados han sido los expuestos a continuación."
   ]
  },
  {
   "cell_type": "markdown",
   "id": "019f9460-ea92-46c1-8b2e-53077eb0d546",
   "metadata": {
    "tags": []
   },
   "source": [
    "### 3.2.1. Entidades a tablas <a class=\"anchor\" id=\"entidades_tablas\"></a>"
   ]
  },
  {
   "cell_type": "markdown",
   "id": "1f915312-f1f4-48c4-ab35-851deafdeeb0",
   "metadata": {},
   "source": [
    "El primer paso es el de transformar  las entidades con todos sus atributos en tablas. De esta manera, vamos a formar tablas en las que deberemos asegurar que realizamos:\n",
    "\n",
    "* Identificar cuál es la clave primaria\n",
    "* Identificar si existen claves ajenas y a qué tabla y atributo va a referenciar\n",
    "* Determinar el dominio de los atributos"
   ]
  },
  {
   "cell_type": "markdown",
   "id": "162061e6-e2aa-49e2-86e4-d4d04b8b33d2",
   "metadata": {
    "tags": []
   },
   "source": [
    "### 3.2.2. Relaciones de N a M a tablas <a class=\"anchor\" id=\"relaciones_nm\"></a>"
   ]
  },
  {
   "cell_type": "markdown",
   "id": "6c9774a8-2857-4081-bd3f-dd80563a9fd1",
   "metadata": {},
   "source": [
    "La transformación de las relaciones “N a M” del diseño conceptual al lógico es el método más sencillo, ya que de esta relación surgirá una nueva tabla. En estas nuevas tablas tenemos que realizar los siguientes pasos:\n",
    "\n",
    "\n",
    "\n",
    "* Identificar cuáles son las claves primarias\n",
    "* Determinar las claves foráneas y a qué tabla y atributo van a referenciar\n",
    "* Añadir si existen otros atributos mencionados en el esquema conceptual"
   ]
  },
  {
   "cell_type": "markdown",
   "id": "d9674279-afba-4f36-828b-13d3f6321acf",
   "metadata": {},
   "source": [
    "### 3.2.3. Relaciones 1 a N <a class=\"anchor\" id=\"relaciones_1n\"></a>"
   ]
  },
  {
   "cell_type": "markdown",
   "id": "0dcbb5fa-4194-4fef-ab44-a18649fde883",
   "metadata": {},
   "source": [
    "En las relaciones “1 a N” del esquema conceptual lo habitual es tener que pensar dónde se sitúa la clave ajena y a qué tabla y atributo va a referenciar. "
   ]
  },
  {
   "cell_type": "markdown",
   "id": "f87d5e1b-c30f-419d-b4d7-53cf9952e67d",
   "metadata": {},
   "source": [
    "### 3.2.4. Relaciones 1 a 1 <a class=\"anchor\" id=\"relaciones_11\"></a>"
   ]
  },
  {
   "cell_type": "markdown",
   "id": "54c4727d-c6cd-4ba0-8fcc-1c4fbf939bce",
   "metadata": {},
   "source": [
    "Por último, para terminar con las relaciones 1 a 1, deberemos pensar cuál de las entidades que forman parte de la relación es fuerte o débil, o si ambas son fuertes. Una vez pensado, toca determinar dónde se sitúa la clave ajena (en cuál de las dos tablas de entidades) y a qué tabla y atributo va a referenciar."
   ]
  },
  {
   "cell_type": "markdown",
   "id": "de626d24-b039-45d9-864a-cca6cb41f313",
   "metadata": {},
   "source": [
    "### 3.2.5. Añadir reglas de integridad <a class=\"anchor\" id=\"reglas_integridad\"></a>"
   ]
  },
  {
   "cell_type": "markdown",
   "id": "e32451f6-bc0f-4f17-82b1-ec08fda389f9",
   "metadata": {},
   "source": [
    "En este paso vamos a tener que revisar todas las claves foráneas existentes y determinar para cada una de ellas las reglas de integridad que va a tener:\n",
    "\n",
    "* Si acepta nulos\n",
    "* Regla al ser borrada la clave referenciada\n",
    "* Regla al ser modificada la clave referenciada"
   ]
  },
  {
   "cell_type": "markdown",
   "id": "6990e075-d3a3-4c5a-bfca-a60399a45857",
   "metadata": {},
   "source": [
    "### 3.2.6. Normalización <a class=\"anchor\" id=\"normalizacion\"></a>"
   ]
  },
  {
   "cell_type": "markdown",
   "id": "1e8ffd73-7f59-424c-83b0-7d58f0829fb5",
   "metadata": {},
   "source": [
    "Al tratarse del diseño de una base de datos relacional, el último paso es el de realizar la normalización y confirmar que cumplen, al menos, las primeras tres formas normales:\n",
    "\n",
    "\n",
    "\n",
    "* **Primera forma normal**: se produce cuando ningún atributo de la relación es una relación en sí mismo ni se puede descomponer; los atributos entonces deben de ser atómicos.\n",
    "* **Segunda forma normal**: solo cuando está ya en la primera forma normal y todo atributo que no forma parte de una clave candidata depende completamente de cada una de las claves candidatas de la relación.\n",
    "* **Tercera forma normal**: solo cuando está ya en segunda forma normal y ningún atributo que forma parte de una clave candidata depende de un conjunto de atributos que contiene algunos que no forman parte de una clave candidata.\n",
    "\n",
    "En nuestro caso, hemos realizado todos estos procesos, incluyendo la normalización, y no ha sido necesario desnormalizar."
   ]
  },
  {
   "cell_type": "markdown",
   "id": "c88015cc-7b5b-43a1-b007-cf5cba77f452",
   "metadata": {},
   "source": [
    "### 3.2.7. Diseño lógico resultante  <a class=\"anchor\" id=\"diseño_logico_final\"></a>"
   ]
  },
  {
   "cell_type": "markdown",
   "id": "123e8779-a029-4a97-a0d3-0aa2b4666e40",
   "metadata": {},
   "source": [
    "Tras la realización de los pasos comentados previamente, se ha concluído con el siguiente diseño lógico, en el que comenzamos con las tablas para posteriormente pasar a las relaciones obtenidas."
   ]
  },
  {
   "cell_type": "markdown",
   "id": "428d1dc0-1d03-41af-9cb7-1a53852c1c7e",
   "metadata": {},
   "source": [
    "```\n",
    "DEPORTISTA(deportista_id, nombre, apellidos, fecha_nacimiento, genero, usuario, password)\n",
    "    PK: {deportista_id}\n",
    "    Dominio genero: [masculino, femenino, nd]\n",
    "\n",
    "\n",
    "FEDERACION(federacion_id, nombre, direccion, web)\n",
    "    PK:{federacion_id}\n",
    "\n",
    "\n",
    "DEPORTE(deporte_id,nombre, _federacion_id_)\n",
    "    PK:{deporte_id}\n",
    "    FK: DEPORTE.federacion_id → FEDERACION.federacion_id\n",
    "        ¿Acepta nulos?: NO\n",
    "        Borrado: PROPAGAR\n",
    "        Modificación: PROPAGAR\n",
    "\n",
    "\n",
    "ENTRENAMIENTO(entrenamiento_id, nombre, fecha, duracion, distancia, _deportista_id_, _deporte_id_)\n",
    "    PK: {entrenamiento_id}\n",
    "    FK: ENTRENAMIENTO.deportista_id → DEPORTISTA.deportista_id\n",
    "        ¿Acepta nulos?: NO\n",
    "        Borrado: PROPAGAR\n",
    "        Modificación: PROPAGAR\n",
    "    FK: ENTRENAMIENTO.deporte_id → DEPORTE.deporte_id\n",
    "        ¿Acepta nulos?: NO\n",
    "        Borrado: RESTRINGIR\n",
    "        Modificación: PROPAGAR\n",
    "\n",
    "\n",
    "CAMPEONATO(campeonato_id, nombre, fecha_inicio, fecha_fin, _federacion_id_)\n",
    "    PK: {campeonato_id}\n",
    "    FK: CAMPEONATO.federacion_id → FEDERACION.federacion_id\n",
    "        ¿Acepta nulos?: NO\n",
    "        Borrado: PROPAGAR\n",
    "        Modificación: PROPAGAR\n",
    "\n",
    "\n",
    "PRUEBA(prueba_id, nombre, distancia, _deporte_id_)\n",
    "    PK: {prueba_id}\n",
    "    FK: PRUEBA.deporte_id → DEPORTE.deporte_id\n",
    "        ¿Acepta nulos?: NO\n",
    "        Borrado: RESTRINGIR\n",
    "        Modificación: PROPAGAR\n",
    "\n",
    "LOGRO(logro_id, nombre)\n",
    "    PK:{logro_id}\n",
    "\n",
    "\n",
    "RETO(reto_id, nombre, descripcion, fecha_inicio, fecha_fin, distancia, tiempo, _deporte_id_, _logro_id_)\n",
    "    PK: {reto_id}\n",
    "    FK: RETO.deporte_id → DEPORTE.deporte_id\n",
    "        ¿Acepta nulos?: NO\n",
    "        Borrado: RESTRINGIR\n",
    "        Modificación: PROPAGAR\n",
    "    FK: RETO.logro_id → LOGRO.logro_id\n",
    "        ¿Acepta nulos?: NO\n",
    "        Borrado: RESTRINGIR\n",
    "        Modificación: PROPAGAR\n",
    "\n",
    "\n",
    "EVENTO(evento_id, nombre, fecha, distancia, _federacion_id_)\n",
    "    PK: {evento_id}\n",
    "    FK: EVENTO.federacion_id → FEDERACION.federacion_id\n",
    "        ¿Acepta nulos?: NO\n",
    "        Borrado: PROPAGAR\n",
    "        Modificación: PROPAGAR\n",
    "\n",
    "\n",
    "PRACTICA(_deportista_id_,_deporte_id_, federado, numero_federado)\n",
    "    PK: {deportista_id,deporte_id}\n",
    "    FK: PRACTICA.deportista_id → DEPORTISTA.deportista_id\n",
    "        ¿Acepta nulos?: NO\n",
    "        Borrado: PROPAGAR\n",
    "        Modificación: PROPAGAR\n",
    "    FK: PRACTICA.deporte_id → DEPORTE.deporte_id\n",
    "        ¿Acepta nulos?: NO\n",
    "        Borrado: RESTRINGIR\n",
    "        Modificación: PROPAGAR\n",
    "\n",
    "\n",
    "ASISTE(_deportista_id_,_evento_id_,tiempo_realizado)\n",
    "    PK: {deportista_id,evento_id}\n",
    "    FK: ASISTE.deportista_id → DEPORTISTA.deportista_id\n",
    "        ¿Acepta nulos?: NO\n",
    "        Borrado: PROPAGAR\n",
    "        Modificación: PROPAGAR\n",
    "    FK: ASISTE.evento_id → EVENTO.evento_id\n",
    "        ¿Acepta nulos?: NO\n",
    "        Borrado: RESTRINGIR\n",
    "        Modificación: PROPAGAR\n",
    "\n",
    "\n",
    "COMPITE(_deportista_id,prueba_id,campeonato_id_,tiempo_realizado)\n",
    "    PK: {deportista_id,prueba_id,campeonato_id}\n",
    "    FK: COMPITE.deportista_id → DEPORTISTA.deportista_id\n",
    "        ¿Acepta nulos?: NO\n",
    "        Borrado: PROPAGAR\n",
    "        Modificación: PROPAGAR\n",
    "    FK: COMPITE.prueba_id → PRUEBA.prueba_id\n",
    "        ¿Acepta nulos?: NO\n",
    "        Borrado: RESTRINGIR\n",
    "        Modificación: PROPAGAR\n",
    "    FK: COMPITE.campeonato_id → CAMPEONATO.campeonato_id\n",
    "        ¿Acepta nulos?: NO\n",
    "        Borrado: RESTRINGIR\n",
    "        Modificación: PROPAGAR\n",
    "\n",
    "\n",
    "HACE(_deportista_id_,_reto_id_,fecha_unirse,fecha_completado)\n",
    "    PK: {deportista_id,reto_id}\n",
    "    FK: HACE.deportista_id → DEPORTISTA.deportista_id\n",
    "        ¿Acepta nulos?: NO\n",
    "        Borrado: PROPAGAR\n",
    "        Modificación: PROPAGAR\n",
    "    FK: HACE.reto_id → RETO.reto_id\n",
    "        ¿Acepta nulos?: NO\n",
    "        Borrado: RESTRINGIR\n",
    "        Modificación: PROPAGAR\n",
    "\n",
    "\n",
    "OBTIENE(_deportista_id_,_logro_id_,fecha)\n",
    "    PK: {deportista_id,logro_id}\n",
    "    FK:OBTIENE.deportista_id → DEPORTISTA.deportista_id\n",
    "        ¿Acepta nulos?: NO\n",
    "        Borrado: PROPAGAR\n",
    "        Modificación: PROPAGAR\n",
    "    FK:OBTIENE.logro_id → LOGRO.logro_id\n",
    "        ¿Acepta nulos?: NO\n",
    "        Borrado: RESTRINGIR\n",
    "        Modificación: PROPAGAR\n",
    "```"
   ]
  },
  {
   "cell_type": "markdown",
   "id": "cc13056b-061e-4dea-b987-4f5817139fe6",
   "metadata": {
    "tags": []
   },
   "source": [
    "## 3.3 Diseño físico <a class=\"anchor\" id=\"diseño_fisico\"></a>"
   ]
  },
  {
   "cell_type": "markdown",
   "id": "f0acd6a6-575d-42d1-8614-268dfa80a795",
   "metadata": {},
   "source": [
    "Tras la realización del diseño lógico, es el momento para la realización del diseño físico, y para ello seguiremos los pasos detallados a continuación."
   ]
  },
  {
   "cell_type": "markdown",
   "id": "8077527e-a399-4f54-9700-7de9720e261f",
   "metadata": {},
   "source": [
    "### 3.3.1. Elección del SGBD a utilizar <a class=\"anchor\" id=\"eleccion_sgbd\"></a>"
   ]
  },
  {
   "cell_type": "markdown",
   "id": "afd77ea8-d5e7-45af-8732-483cb2a3f4bb",
   "metadata": {},
   "source": [
    "En nuestro caso, vamos a hacer uso de PostgreSQL en su versión 13.6 ya que es el sistema gestor de base de datos relacional que mejor se adapta a las necesidades de nuestro cliente.\n",
    "\n",
    "Es importante realizar la elección del SGBD de manera correcta y conociendo las características de este ya que afectará al diseño físico que vamos a realizar a continuación."
   ]
  },
  {
   "cell_type": "markdown",
   "id": "a3bedd69-be04-4ed6-bd7b-133c3267dd1f",
   "metadata": {},
   "source": [
    "### 3.3.2. Transformar los elementos del esquema lógico  <a class=\"anchor\" id=\"transformar\"></a>"
   ]
  },
  {
   "cell_type": "markdown",
   "id": "6fa50219-946e-4f49-b055-b78f3097b8df",
   "metadata": {},
   "source": [
    "En este paso realizaremos el cambio de las tablas, junto con sus atributos, al lenguaje SQL utilizado en las bases de datos relacionales.\n",
    "\n",
    "Durante el proceso de creación de los atributos, hemos comprobado los tipos de datos que se pueden utilizar en PostgreSQL para utilizar los más adecuados para cada atributo."
   ]
  },
  {
   "cell_type": "markdown",
   "id": "6c498457-4398-4ddc-ab5c-07110dc8057e",
   "metadata": {},
   "source": [
    "### 3.3.3. Reglas de integridad para claves primarias y ajenas  <a class=\"anchor\" id=\"integridad\"></a>"
   ]
  },
  {
   "cell_type": "markdown",
   "id": "2ba220bd-c90a-47e4-acc1-8562e7fdd222",
   "metadata": {},
   "source": [
    "Junto con el paso anterior, a medida que vamos creando los atributos, para aquellos que hemos indicado en el paso anterior como claves primarias y claves ajenas tendremos que darle el tratamiento especial que merecen. Es por ello que aplicaremos las reglas de integridad detalladas previamente."
   ]
  },
  {
   "cell_type": "markdown",
   "id": "9f8d85ec-247b-453c-9258-0fef9447d61f",
   "metadata": {},
   "source": [
    "### 3.3.4. Diseño físico resultante <a class=\"anchor\" id=\"diseño_fisico\"></a>"
   ]
  },
  {
   "cell_type": "markdown",
   "id": "59b9a65a-f19b-4d81-911e-63dd03cf0c3a",
   "metadata": {},
   "source": [
    "Tras seguir todos los pasos, a continuación aparece el diseño físico resultante.\n",
    "\n",
    "<font color='red'>TODO: CONFIRMAR QUE EL ESQUEMA FISICO NO HA CAMBIADO</font>"
   ]
  },
  {
   "cell_type": "markdown",
   "id": "1539e061-cd08-44b7-b67b-68569ec60088",
   "metadata": {},
   "source": [
    "```sql\n",
    "CREATE DOMAIN genero_deportista as VARCHAR CHECK(\n",
    "    VALUE IN ('masculino','femenino','nd')\n",
    ");\n",
    "\n",
    "\n",
    "CREATE TABLE DEPORTISTA(\n",
    "    deportista_id SERIAL not null primary key,\n",
    "    nombre VARCHAR(20) not null,\n",
    "    apellidos VARCHAR(30),\n",
    "    fecha_nacimiento date,\n",
    "    genero genero_deportista,\n",
    "    usuario VARCHAR (20) not null,\n",
    "    password VARCHAR (20) not null\n",
    ");\n",
    "\n",
    "\n",
    "CREATE TABLE FEDERACION(\n",
    "    federacion_id SERIAL not null primary key,\n",
    "    nombre VARCHAR(50),\n",
    "    direccion VARCHAR(70),\n",
    "    web VARCHAR(50)\n",
    ");\n",
    "\n",
    "\n",
    "CREATE TABLE DEPORTE(\n",
    "    deporte_id SERIAL not null primary key,\n",
    "    nombre VARCHAR(50),\n",
    "    federacion_id INTEGER not null REFERENCES federacion(federacion_id) ON DELETE CASCADE ON UPDATE CASCADE\n",
    ");\n",
    "\n",
    "\n",
    "CREATE TABLE ENTRENAMIENTO(\n",
    "    entrenamiento_id SERIAL not null primary key,\n",
    "    nombre VARCHAR(50),\n",
    "    fecha TIMESTAMPTZ,\n",
    "    duracion INTEGER,\n",
    "    distancia INTEGER,\n",
    "    deportista_id INTEGER not null REFERENCES deportista(deportista_id) ON DELETE CASCADE ON UPDATE CASCADE,\n",
    "    deporte_id INTEGER not null REFERENCES deporte(deporte_id) ON DELETE RESTRICT ON UPDATE CASCADE\n",
    ");\n",
    "\n",
    "\n",
    "CREATE TABLE CAMPEONATO(\n",
    "    campeonato_id SERIAL not null primary key,\n",
    "    nombre VARCHAR(50),\n",
    "    fecha_inicio TIMESTAMPTZ,\n",
    "    fecha_fin TIMESTAMPTZ,\n",
    "    federacion_id INTEGER not null REFERENCES federacion(federacion_id) ON DELETE CASCADE ON UPDATE CASCADE\n",
    ");\n",
    "\n",
    "\n",
    "CREATE TABLE PRUEBA(\n",
    "    prueba_id SERIAL not null primary key,\n",
    "    nombre VARCHAR(50),\n",
    "    distancia INTEGER,\n",
    "    deporte_id INTEGER not null REFERENCES deporte(deporte_id) ON DELETE RESTRICT ON UPDATE CASCADE\n",
    ");\n",
    "\n",
    "\n",
    "CREATE TABLE LOGRO(\n",
    "    logro_id SERIAL not null primary key,\n",
    "    nombre VARCHAR(50)\n",
    ");\n",
    "\n",
    "\n",
    "CREATE TABLE RETO(\n",
    "    reto_id SERIAL not null primary key,\n",
    "    nombre VARCHAR(50),\n",
    "    descripcion VARCHAR(200),\n",
    "    fecha_inicio TIMESTAMPTZ,\n",
    "    fecha_fin TIMESTAMPTZ,\n",
    "    distancia INTEGER,\n",
    "    tiempo INTEGER,\n",
    "    deporte_id INTEGER not null REFERENCES deporte(deporte_id) ON DELETE RESTRICT ON UPDATE CASCADE,\n",
    "    logro_id INTEGER not null REFERENCES logro(logro_id) ON DELETE RESTRICT ON UPDATE CASCADE\n",
    ");\n",
    "\n",
    "\n",
    "CREATE TABLE EVENTO(\n",
    "    evento_id SERIAL not null primary key,\n",
    "    nombre VARCHAR(50),\n",
    "    fecha_inicio TIMESTAMPTZ,\n",
    "    distancia INTEGER,\n",
    "    federacion_id INTEGER not null REFERENCES federacion(federacion_id) ON DELETE CASCADE ON UPDATE CASCADE\n",
    ");\n",
    "\n",
    "\n",
    "CREATE TABLE PRACTICA(\n",
    "    deportista_id INTEGER not null REFERENCES deportista(deportista_id) ON DELETE CASCADE ON UPDATE CASCADE,\n",
    "    deporte_id INTEGER not null REFERENCES deporte(deporte_id) ON DELETE RESTRICT ON UPDATE CASCADE,\n",
    "    federado boolean,\n",
    "    numero_federado INTEGER,\n",
    "    PRIMARY KEY (deportista_id,deporte_id)\n",
    ");\n",
    "\n",
    "\n",
    "CREATE TABLE ASISTE(\n",
    "    deportista_id INTEGER not null REFERENCES deportista(deportista_id) ON DELETE CASCADE ON UPDATE CASCADE,\n",
    "    evento_id INTEGER not null REFERENCES evento(evento_id) ON DELETE RESTRICT ON UPDATE CASCADE,\n",
    "    tiempo_realizado INTEGER,\n",
    "    PRIMARY KEY (deportista_id,evento_id)\n",
    ");\n",
    "\n",
    "\n",
    "-- para la competición se necesita que el tiempo (en segundos) tenga decimales\n",
    "CREATE TABLE COMPITE(\n",
    "    deportista_id INTEGER not null REFERENCES deportista(deportista_id) ON DELETE CASCADE ON UPDATE CASCADE,\n",
    "    prueba_id INTEGER not null REFERENCES prueba(prueba_id) ON DELETE RESTRICT ON UPDATE CASCADE,\n",
    "    campeonato_id INTEGER not null REFERENCES campeonato(campeonato_id) ON DELETE RESTRICT ON UPDATE CASCADE,\n",
    "    tiempo_realizado FLOAT,\n",
    "    PRIMARY KEY (deportista_id,prueba_id,campeonato_id)\n",
    ");\n",
    "\n",
    "\n",
    "CREATE TABLE HACE(\n",
    "    deportista_id INTEGER not null REFERENCES deportista(deportista_id) ON DELETE CASCADE ON UPDATE CASCADE,\n",
    "    reto_id INTEGER not null REFERENCES reto(reto_id) ON DELETE RESTRICT ON UPDATE CASCADE,\n",
    "    fecha_unirse TIMESTAMPTZ,\n",
    "    fecha_completado TIMESTAMPTZ,\n",
    "    PRIMARY KEY (deportista_id,reto_id)\n",
    ");\n",
    "\n",
    "\n",
    "CREATE TABLE OBTIENE(\n",
    "    deportista_id INTEGER not null REFERENCES deportista(deportista_id) ON DELETE CASCADE ON UPDATE CASCADE,\n",
    "    logro_id INTEGER not null REFERENCES logro(logro_id) ON DELETE RESTRICT ON UPDATE CASCADE,\n",
    "    fecha TIMESTAMPTZ,\n",
    "    PRIMARY KEY (deportista_id,logro_id)\n",
    ");\n",
    "\n",
    "\n",
    "-- Vistas\n",
    "CREATE VIEW deportista_logro AS\n",
    "  SELECT d.nombre as deportista_nombre, genero, l.nombre as logro_nombre, o.fecha\n",
    "    FROM deportista AS d, logro AS l, obtiene AS o\n",
    "    WHERE d.deportista_id = o.deportista_id AND o.logro_id = l.logro_id\n",
    ";\n",
    "\n",
    "\n",
    "CREATE VIEW marcas_oficiales AS\n",
    "  SELECT d.nombre, d.apellidos, c.tiempo_realizado, p.nombre AS prueba, cmp.nombre AS campeonato\n",
    "    FROM deportista d, compite c, prueba p, campeonato cmp\n",
    "    WHERE d.deportista_id = c.deportista_id AND c.campeonato_id = cmp.campeonato_id AND c.prueba_id = p.prueba_id\n",
    ";\n",
    "```"
   ]
  },
  {
   "cell_type": "markdown",
   "id": "72164f16-4a7b-40b6-9830-17e043478693",
   "metadata": {},
   "source": [
    "### 3.3.5. Creación de vistas <a class=\"anchor\" id=\"vistas\"></a>"
   ]
  },
  {
   "cell_type": "markdown",
   "id": "2584628f-a3d4-42af-8b75-26bfe18e8603",
   "metadata": {},
   "source": [
    "Al diseño físico anterior se le han añadido dos vistas que serán utilizadas y explicadas posteriormente.\n",
    "<font color='red'>TODO: CONFIRMAR QUE LAS VISTAS NO HAN CAMBIADO</font>"
   ]
  },
  {
   "cell_type": "markdown",
   "id": "cebe4c0b-36f1-4e44-a0a4-42dddfb8e436",
   "metadata": {},
   "source": [
    "```sql\n",
    "-- Vistas\n",
    "CREATE VIEW deportista_logro AS\n",
    "  SELECT d.nombre as deportista_nombre, genero, l.nombre as logro_nombre, o.fecha\n",
    "    FROM deportista AS d, logro AS l, obtiene AS o\n",
    "    WHERE d.deportista_id = o.deportista_id AND o.logro_id = l.logro_id\n",
    ";\n",
    "\n",
    "\n",
    "CREATE VIEW marcas_oficiales AS\n",
    "  SELECT d.nombre, d.apellidos, c.tiempo_realizado, p.nombre AS prueba, cmp.nombre AS campeonato\n",
    "    FROM deportista d, compite c, prueba p, campeonato cmp\n",
    "    WHERE d.deportista_id = c.deportista_id AND c.campeonato_id = cmp.campeonato_id AND c.prueba_id = p.prueba_id\n",
    ";\n",
    "```"
   ]
  },
  {
   "cell_type": "markdown",
   "id": "a9929adc-77d4-47bc-83c0-cef64d331828",
   "metadata": {},
   "source": [
    "# 4. Despliegue de la base de datos <a class=\"anchor\" id=\"despliegue\"></a>"
   ]
  },
  {
   "cell_type": "markdown",
   "id": "624489da-1f48-4f8d-b709-0db72474972a",
   "metadata": {},
   "source": [
    "Tras realizar todo los pasos explicados previamente para llegar al esquema físico, es el momento de hacer el despliegue de nuestro esquema físico en PostgreSQL. \n",
    "\n",
    "Para la realización de este despliegue se va a utilizar dos servidores:\n",
    "* **Servidor local**: Desplegado a través de un contenedor Docker exponiendo los puertos necesario.\n",
    "* **Servidor remoto**: Servidor desplegado en la nube de Amazon (AWS) a través del proveedor [Elephantsql.com](https://www.elephantsql.com/)"
   ]
  },
  {
   "cell_type": "markdown",
   "id": "6f71c8dd-6ec1-46fe-a753-c64549037779",
   "metadata": {},
   "source": [
    "## 4.1. Conexión a servidores <a class=\"anchor\" id=\"conexion\"></a>"
   ]
  },
  {
   "cell_type": "markdown",
   "id": "afe5bfb8-455b-465f-b446-9c114edec86f",
   "metadata": {},
   "source": [
    "En este apartado se va a explicar cómo realizar la conexión a servidores PostgreSQL a través del lenguaje de programación Python. Antes de realizar la conexión es necesario tener la librería **psycopg2** instalada en nuestro sistema. Para ello realizaremos:"
   ]
  },
  {
   "cell_type": "code",
   "execution_count": 1,
   "id": "4746929a-e0be-4336-851d-d81e2d19ac53",
   "metadata": {},
   "outputs": [
    {
     "name": "stdout",
     "output_type": "stream",
     "text": [
      "Defaulting to user installation because normal site-packages is not writeable\n",
      "Requirement already satisfied: psycopg2-binary in /home/yuki/.local/lib/python3.10/site-packages (2.9.3)\n"
     ]
    }
   ],
   "source": [
    "# Para realizar la conexión necesitamos de la API de python.\n",
    "# Para realizar la instalación del paquete necesario deberíamos ejecutar el siguiente comando que se descarga la librería y la compila. \n",
    "# ¿Cuál es el problema? Que requiere del path donde está instalado PostgreSQL y por tanto en mi entorno local no funciona por estar \n",
    "# utilizando PostgreSQL en un contenedor Docker\n",
    "# !pip install psycopg2\n",
    "\n",
    "# Para poder funcionar en un entorno donde PostgreSQL está en Docker, necesitamos instalar la librería en formato binario de esta manera:\n",
    "!pip install psycopg2-binary"
   ]
  },
  {
   "cell_type": "markdown",
   "id": "451d6768-03d1-444f-bf8e-de007e9a81e5",
   "metadata": {},
   "source": [
    "Y tras esto, necesitamos cargar la librería para poder hacer uso de ella:"
   ]
  },
  {
   "cell_type": "code",
   "execution_count": 2,
   "id": "57819b93-96e2-4c97-944b-769409cbbbf3",
   "metadata": {},
   "outputs": [],
   "source": [
    "# importamos la librería para poder hacer uso de ella:\n",
    "import psycopg2"
   ]
  },
  {
   "cell_type": "markdown",
   "id": "f259048e-9579-4578-bf70-bff1a8af96cd",
   "metadata": {},
   "source": [
    "A partir de aquí, ya podremos realizar las conexiones que necesitemos, tal como vamos a explicar a continuación."
   ]
  },
  {
   "cell_type": "markdown",
   "id": "846ac4aa-bdb9-4129-bf75-2ad1f970c13a",
   "metadata": {},
   "source": [
    "### 4.1.1. Conexión local <a class=\"anchor\" id=\"conexion_local\"></a>"
   ]
  },
  {
   "cell_type": "markdown",
   "id": "51a76f1c-7827-436b-aa59-bd3e19784852",
   "metadata": {},
   "source": [
    "Tal como se ha dicho previamente, para hacer uso de PostgreSQL en local se ha utilizado el sistema de contenedores Docker, haciendo uso de **docker-compose** para levantar los servicios. Para ello se ha utilizado un fichero **compose.yaml** con el siguiente contenido de despliegue:\n",
    "\n",
    "```yaml\n",
    "services:\n",
    "  postgres13:\n",
    "    image: postgres:13\n",
    "    restart: always\n",
    "    environment:\n",
    "      POSTGRES_PASSWORD: example\n",
    "    ports:\n",
    "      - 5432:5432\n",
    "  adminer:\n",
    "    image: adminer\n",
    "    restart: always\n",
    "    ports:\n",
    "      - 8080:8080\n",
    "  pgadmin4:\n",
    "    image: dpage/pgadmin4:latest\n",
    "    restart: always\n",
    "    environment:\n",
    "      PGADMIN_DEFAULT_EMAIL: user@domain.com\n",
    "      PGADMIN_DEFAULT_PASSWORD: SuperSecret\n",
    "    ports:\n",
    "      - 8088:80\n",
    "```\n",
    "\n",
    "Si nuestro sistema está correctamente configurado, si realizamos ```docker-compose up``` levantará los tres servicios que hemos configurado:\n",
    "\n",
    "* PostgreSQL versión 13\n",
    "* PGAdmin4: interfaz web para administrar PostgreSQL\n",
    "* Adminer: interfaz web más sencilla que la anterior\n",
    "\n",
    "Para realizar la conexión al servidor local vamos a hacer uso del siguiente código python:"
   ]
  },
  {
   "cell_type": "code",
   "execution_count": 3,
   "id": "47f85160-29a1-4323-9904-a7ba9e73a536",
   "metadata": {},
   "outputs": [],
   "source": [
    "# Para realizar la conexión a servidor local:\n",
    "\n",
    "# db: el nombre de la base de datos\n",
    "db = \"postgres\"\n",
    "\n",
    "# user: nombre de usuario de la base de datos\n",
    "user = \"postgres\"\n",
    "\n",
    "# password: contraseña de la base de datos\n",
    "password = \"example\"\n",
    "\n",
    "# host: server name\n",
    "host = \"localhost\"\n",
    "\n",
    "# Puerto: puerto de la base de datos, en este caso: 5432 (puerto por defecto)\n",
    "port = \"5432\"\n",
    "\n",
    "# Conectar a la base de datos\n",
    "con_local = psycopg2.connect(\n",
    "    dbname=db,\n",
    "    user=user,\n",
    "    password=password,\n",
    "    host=host,\n",
    "    port=port\n",
    ")"
   ]
  },
  {
   "cell_type": "markdown",
   "id": "57fdb615-77c2-4c9c-bb6a-0c9e7c5e1d05",
   "metadata": {},
   "source": [
    "Una vez realizada, vamos a necesitar un \"cursor\" para poder realizar operaciones en la base de datos:"
   ]
  },
  {
   "cell_type": "code",
   "execution_count": 4,
   "id": "cb3c6522-d137-4f88-b4c6-8e62003628a8",
   "metadata": {},
   "outputs": [],
   "source": [
    "# abrimos un cursor para poder realizar operaciones\n",
    "cur_local = con_local.cursor()"
   ]
  },
  {
   "cell_type": "markdown",
   "id": "54fe6f6a-2668-4389-82fb-248124b89a5e",
   "metadata": {},
   "source": [
    "### 4.1.2. Conexión remota <a class=\"anchor\" id=\"conexion_remota\"></a>"
   ]
  },
  {
   "cell_type": "markdown",
   "id": "f98bf964-3cc1-420f-b61f-2861e276d4db",
   "metadata": {},
   "source": [
    "Para la conexión remota se va a utilizar el proveedor [Elephantsql](https://www.elephantsql.com/), donde hemos creado una cuenta y se ha realizado el despliegue de una instancia en los servidores de Amazon (AWS).\n",
    "\n",
    "Para realizar la conexión a esta instancia, necesitaremos los siguientes datos de conexión:"
   ]
  },
  {
   "cell_type": "code",
   "execution_count": 5,
   "id": "2048ea18-020b-460f-88e8-87c54b4268c8",
   "metadata": {},
   "outputs": [],
   "source": [
    "# Para realizar la conexión a servidor remoto en ElephantSQL:\n",
    "\n",
    "# db: el nombre de la base de datos\n",
    "db = \"aaaesjzo\"\n",
    "\n",
    "# user: nombre de usuario de la base de datos\n",
    "user = \"aaaesjzo\"\n",
    "\n",
    "# password: contraseña de la base de datos\n",
    "password = \"tUJ5LuXYxr5_NykC6h_Pdh2bGa0ZGIcC\"\n",
    "\n",
    "# host: server name\n",
    "host = \"abul.db.elephantsql.com\"\n",
    "\n",
    "# Puerto: puerto de la base de datos, en este caso: 5432 (puerto por defecto)\n",
    "port = \"5432\"\n",
    "\n",
    "# Conectar a la base de datos\n",
    "con_remoto = psycopg2.connect(\n",
    "    dbname=db,\n",
    "    user=user,\n",
    "    password=password,\n",
    "    host=host,\n",
    "    port=port\n",
    ")"
   ]
  },
  {
   "cell_type": "markdown",
   "id": "c3533620-dd5b-4a40-8c65-0bc79fc4b1ad",
   "metadata": {},
   "source": [
    "Al igual que en la conexión local, necesitamos un cursor para realizar operaciones:"
   ]
  },
  {
   "cell_type": "code",
   "execution_count": 6,
   "id": "5305ebee-0334-47ac-ab34-2d5d6982581a",
   "metadata": {},
   "outputs": [],
   "source": [
    "# abrimos un cursor para poder realizar operaciones\n",
    "cur_remoto = con_remoto.cursor()"
   ]
  },
  {
   "cell_type": "markdown",
   "id": "b1caa325-191d-45c6-8c0e-a05397634b18",
   "metadata": {},
   "source": [
    "## 4.2. Creación de tablas y vistas <a class=\"anchor\" id=\"creacion\"></a>"
   ]
  },
  {
   "cell_type": "markdown",
   "id": "0c9cfa72-724c-459a-b44d-7eaa0de10bb4",
   "metadata": {},
   "source": [
    "En este apartado vamos a hacer uso del diseño físico que hemos creado en apartados anteriores para desplegarlo en los dos servidores que tenemos actualmente. Para ello, y con intención de no repetir código, se va a asignar todo el código del diseño físico a una variable:"
   ]
  },
  {
   "cell_type": "code",
   "execution_count": 7,
   "id": "56635c17-071c-407c-9584-920343ce7941",
   "metadata": {},
   "outputs": [],
   "source": [
    "tablas = \"\"\"\n",
    "CREATE DOMAIN genero_deportista as VARCHAR CHECK(\n",
    "    VALUE IN ('masculino','femenino','nd')\n",
    ");\n",
    "\n",
    "\n",
    "CREATE TABLE DEPORTISTA(\n",
    "    deportista_id SERIAL not null primary key,\n",
    "    nombre VARCHAR(20) not null,\n",
    "    apellidos VARCHAR(30),\n",
    "    fecha_nacimiento date,\n",
    "    genero genero_deportista,\n",
    "    usuario VARCHAR (20) not null,\n",
    "    password VARCHAR (20) not null\n",
    ");\n",
    "\n",
    "\n",
    "CREATE TABLE FEDERACION(\n",
    "    federacion_id SERIAL not null primary key,\n",
    "    nombre VARCHAR(50),\n",
    "    direccion VARCHAR(70),\n",
    "    web VARCHAR(50)\n",
    ");\n",
    "\n",
    "\n",
    "CREATE TABLE DEPORTE(\n",
    "    deporte_id SERIAL not null primary key,\n",
    "    nombre VARCHAR(50),\n",
    "    federacion_id INTEGER not null REFERENCES federacion(federacion_id) ON DELETE CASCADE ON UPDATE CASCADE\n",
    ");\n",
    "\n",
    "\n",
    "CREATE TABLE ENTRENAMIENTO(\n",
    "    entrenamiento_id SERIAL not null primary key,\n",
    "    nombre VARCHAR(50),\n",
    "    fecha TIMESTAMPTZ,\n",
    "    duracion INTEGER,\n",
    "    distancia INTEGER,\n",
    "    deportista_id INTEGER not null REFERENCES deportista(deportista_id) ON DELETE CASCADE ON UPDATE CASCADE,\n",
    "    deporte_id INTEGER not null REFERENCES deporte(deporte_id) ON DELETE RESTRICT ON UPDATE CASCADE\n",
    ");\n",
    "\n",
    "\n",
    "CREATE TABLE CAMPEONATO(\n",
    "    campeonato_id SERIAL not null primary key,\n",
    "    nombre VARCHAR(50),\n",
    "    fecha_inicio TIMESTAMPTZ,\n",
    "    fecha_fin TIMESTAMPTZ,\n",
    "    federacion_id INTEGER not null REFERENCES federacion(federacion_id) ON DELETE CASCADE ON UPDATE CASCADE\n",
    ");\n",
    "\n",
    "\n",
    "CREATE TABLE PRUEBA(\n",
    "    prueba_id SERIAL not null primary key,\n",
    "    nombre VARCHAR(50),\n",
    "    distancia INTEGER,\n",
    "    deporte_id INTEGER not null REFERENCES deporte(deporte_id) ON DELETE RESTRICT ON UPDATE CASCADE\n",
    ");\n",
    "\n",
    "\n",
    "CREATE TABLE LOGRO(\n",
    "    logro_id SERIAL not null primary key,\n",
    "    nombre VARCHAR(50)\n",
    ");\n",
    "\n",
    "\n",
    "CREATE TABLE RETO(\n",
    "    reto_id SERIAL not null primary key,\n",
    "    nombre VARCHAR(50),\n",
    "    descripcion VARCHAR(200),\n",
    "    fecha_inicio TIMESTAMPTZ,\n",
    "    fecha_fin TIMESTAMPTZ,\n",
    "    distancia INTEGER,\n",
    "    tiempo INTEGER,\n",
    "    deporte_id INTEGER not null REFERENCES deporte(deporte_id) ON DELETE RESTRICT ON UPDATE CASCADE,\n",
    "    logro_id INTEGER not null REFERENCES logro(logro_id) ON DELETE RESTRICT ON UPDATE CASCADE\n",
    ");\n",
    "\n",
    "\n",
    "CREATE TABLE EVENTO(\n",
    "    evento_id SERIAL not null primary key,\n",
    "    nombre VARCHAR(50),\n",
    "    fecha_inicio TIMESTAMPTZ,\n",
    "    distancia INTEGER,\n",
    "    federacion_id INTEGER not null REFERENCES federacion(federacion_id) ON DELETE CASCADE ON UPDATE CASCADE\n",
    ");\n",
    "\n",
    "\n",
    "CREATE TABLE PRACTICA(\n",
    "    deportista_id INTEGER not null REFERENCES deportista(deportista_id) ON DELETE CASCADE ON UPDATE CASCADE,\n",
    "    deporte_id INTEGER not null REFERENCES deporte(deporte_id) ON DELETE RESTRICT ON UPDATE CASCADE,\n",
    "    federado boolean,\n",
    "    numero_federado INTEGER,\n",
    "    PRIMARY KEY (deportista_id,deporte_id)\n",
    ");\n",
    "\n",
    "\n",
    "CREATE TABLE ASISTE(\n",
    "    deportista_id INTEGER not null REFERENCES deportista(deportista_id) ON DELETE CASCADE ON UPDATE CASCADE,\n",
    "    evento_id INTEGER not null REFERENCES evento(evento_id) ON DELETE RESTRICT ON UPDATE CASCADE,\n",
    "    tiempo_realizado INTEGER,\n",
    "    PRIMARY KEY (deportista_id,evento_id)\n",
    ");\n",
    "\n",
    "\n",
    "-- para la competición se necesita que el tiempo (en segundos) tenga decimales\n",
    "CREATE TABLE COMPITE(\n",
    "    deportista_id INTEGER not null REFERENCES deportista(deportista_id) ON DELETE CASCADE ON UPDATE CASCADE,\n",
    "    prueba_id INTEGER not null REFERENCES prueba(prueba_id) ON DELETE RESTRICT ON UPDATE CASCADE,\n",
    "    campeonato_id INTEGER not null REFERENCES campeonato(campeonato_id) ON DELETE RESTRICT ON UPDATE CASCADE,\n",
    "    tiempo_realizado FLOAT,\n",
    "    PRIMARY KEY (deportista_id,prueba_id,campeonato_id)\n",
    ");\n",
    "\n",
    "\n",
    "CREATE TABLE HACE(\n",
    "    deportista_id INTEGER not null REFERENCES deportista(deportista_id) ON DELETE CASCADE ON UPDATE CASCADE,\n",
    "    reto_id INTEGER not null REFERENCES reto(reto_id) ON DELETE RESTRICT ON UPDATE CASCADE,\n",
    "    fecha_unirse TIMESTAMPTZ,\n",
    "    fecha_completado TIMESTAMPTZ,\n",
    "    PRIMARY KEY (deportista_id,reto_id)\n",
    ");\n",
    "\n",
    "\n",
    "CREATE TABLE OBTIENE(\n",
    "    deportista_id INTEGER not null REFERENCES deportista(deportista_id) ON DELETE CASCADE ON UPDATE CASCADE,\n",
    "    logro_id INTEGER not null REFERENCES logro(logro_id) ON DELETE RESTRICT ON UPDATE CASCADE,\n",
    "    fecha TIMESTAMPTZ,\n",
    "    PRIMARY KEY (deportista_id,logro_id)\n",
    ");\n",
    "\"\"\""
   ]
  },
  {
   "cell_type": "markdown",
   "id": "b85086fb-b08d-4391-8579-b80c3c9c4fc1",
   "metadata": {},
   "source": [
    "Y lo mismo con las dos vistas que vamos a necesitar en nuestra plataforma:"
   ]
  },
  {
   "cell_type": "code",
   "execution_count": 8,
   "id": "240af4da-d0df-4bfc-bf86-580a9b897746",
   "metadata": {},
   "outputs": [],
   "source": [
    "vistas = \"\"\"\n",
    "-- Vistas\n",
    "CREATE VIEW deportista_logro AS\n",
    "  SELECT d.nombre as deportista_nombre, genero, l.nombre as logro_nombre, o.fecha\n",
    "    FROM deportista AS d, logro AS l, obtiene AS o\n",
    "    WHERE d.deportista_id = o.deportista_id AND o.logro_id = l.logro_id\n",
    ";\n",
    "\n",
    "\n",
    "CREATE VIEW marcas_oficiales AS\n",
    "  SELECT d.nombre, d.apellidos, c.tiempo_realizado, p.nombre AS prueba, cmp.nombre AS campeonato\n",
    "    FROM deportista d, compite c, prueba p, campeonato cmp\n",
    "    WHERE d.deportista_id = c.deportista_id AND c.campeonato_id = cmp.campeonato_id AND c.prueba_id = p.prueba_id\n",
    ";\n",
    "\"\"\""
   ]
  },
  {
   "cell_type": "markdown",
   "id": "11692310-aafc-4fdf-a46c-8d9055803d86",
   "metadata": {},
   "source": [
    "### 4.2.1 Despliegue en local <a class=\"anchor\" id=\"creacion_local\"></a>"
   ]
  },
  {
   "cell_type": "markdown",
   "id": "f714c54b-f6cb-44b7-b9b2-727eb9d780df",
   "metadata": {},
   "source": [
    "Vamos a realizar el despliegue de creación de las tablas en el servidor local haciendo uso del cursor creado previamente:"
   ]
  },
  {
   "cell_type": "code",
   "execution_count": 9,
   "id": "91a55b54-2714-421c-8de1-19a04b7a2858",
   "metadata": {},
   "outputs": [],
   "source": [
    "# creamos las tablas haciendo uso de la variable creada previamente\n",
    "cur_local.execute(tablas)"
   ]
  },
  {
   "cell_type": "markdown",
   "id": "393c9249-b63c-4ed5-a960-f65f56a2782e",
   "metadata": {},
   "source": [
    "Lo mismo para las vistas:"
   ]
  },
  {
   "cell_type": "code",
   "execution_count": 10,
   "id": "24f05de0-2bfc-45b5-a612-1574d193b42e",
   "metadata": {},
   "outputs": [],
   "source": [
    "# creamos las vistas haciendo uso de la variable creada previamente\n",
    "cur_local.execute(vistas)"
   ]
  },
  {
   "cell_type": "markdown",
   "id": "cf588ec0-2a4e-4d0a-b9b7-4c9353bdf073",
   "metadata": {},
   "source": [
    "Y por último, es obligatorio hacer persistentes los cambios realizados:"
   ]
  },
  {
   "cell_type": "code",
   "execution_count": 11,
   "id": "adb8e5c0-9dd8-4849-8414-9c896b1daf1a",
   "metadata": {},
   "outputs": [],
   "source": [
    "# Hacemos persistentes los cambios\n",
    "con_local.commit()"
   ]
  },
  {
   "cell_type": "markdown",
   "id": "778f756c-d84e-47dc-a729-82342f0e3717",
   "metadata": {},
   "source": [
    "### 4.2.2 Despliegue en remoto <a class=\"anchor\" id=\"creacion_remoto\"></a>"
   ]
  },
  {
   "cell_type": "markdown",
   "id": "19f0cb97-3521-4fba-94ec-1ae3327da477",
   "metadata": {},
   "source": [
    "Al igual que el paso anterior, vamos a realizar el despliegue de las tablas y vistas, pero esta vez en un único apartado, y lógicamente utilizando las variables de conexión del servidor remoto creadas en el paso anterior:"
   ]
  },
  {
   "cell_type": "code",
   "execution_count": 12,
   "id": "a1111cee-de5c-4cea-8dd8-e57731261556",
   "metadata": {},
   "outputs": [],
   "source": [
    "cur_remoto.execute(tablas)\n",
    "cur_remoto.execute(vistas)\n",
    "con_remoto.commit()"
   ]
  },
  {
   "cell_type": "markdown",
   "id": "32f7ff3d-86f7-4481-9688-b4ffd7827880",
   "metadata": {},
   "source": [
    "## 4.3. Inserción de datos <a class=\"anchor\" id=\"insercion\"></a>"
   ]
  },
  {
   "cell_type": "markdown",
   "id": "e05735a9-2da9-4b6f-8735-acd0055f5135",
   "metadata": {},
   "source": [
    "Para finalizar con el despliegue, vamos a insertar datos en las bases de datos desplegadas. De esta manera, tendremos datos de prueba para poder realizar el paso siguiente, que es el de las consultas.\n",
    "\n",
    "Al igual que se ha realizado en el paso anterior, vamos a hacer uso de una variable donde guardaremos los comandos de inserción de datos para no repetir código:"
   ]
  },
  {
   "cell_type": "code",
   "execution_count": 13,
   "id": "5796cdad-4fe3-4ec4-ac14-67388413433a",
   "metadata": {},
   "outputs": [],
   "source": [
    "inserts = \"\"\"\n",
    "INSERT INTO federacion (nombre, direccion, web) VALUES\n",
    " ('Real Federación Española de Atletismo', 'Av. Valladolid, 81, 1º - 28008 Madrid', 'https://www.rfea.es/'),\n",
    " ('Real Federación Española De Ciclismo','C/ Ferraz 16 - 5º Derecha - 28008, Madrid','https://rfec.com/')\n",
    ";\n",
    "\n",
    "\n",
    "INSERT INTO deporte (nombre, federacion_id) VALUES\n",
    "  ('Footing', 1),\n",
    "  ('Andar', 1),\n",
    "  ('Ciclismo', 2),\n",
    "  ('Atletismo', 1)\n",
    ";\n",
    "\n",
    "\n",
    "INSERT INTO deportista (nombre, apellidos, fecha_nacimiento, genero, usuario, \"password\") VALUES\n",
    "  ('Rubén', 'Gómez Olivencia', '1983-03-30', 'masculino', 'ruben', 'password'),\n",
    "  ('Asier', 'Gómez Olivencia', '1979-08-22', 'masculino', 'asier', 'password'),\n",
    "  ('Rafael', 'Gómez Millán', '1954-04-19', 'masculino', 'rafa', 'password'),\n",
    "  ('Carmen', 'Olivencia Cardenas', '1952-02-21', 'femenino', 'carmen', 'password')\n",
    ";\n",
    "\n",
    "\n",
    "INSERT INTO entrenamiento (nombre, fecha, duracion, distancia, deportista_id, deporte_id) VALUES\n",
    "  ('Entrenamieto de mañana', '2022-05-15 11:00', 53, 8, 1, 1),\n",
    "  ('Monte de tarde', '2022-05-16 19:15', 95, 10, 1, 2),\n",
    "  ('Ciclismo de mañana', '2022-05-17  11:00', 83, 27, 1, 3),\n",
    "  ('Entrenamieto de mañana', '2022-05-15  11:00', 53, 8, 2, 2),\n",
    "  ('Monte de tarde', '2022-05-13  11:00', 95, 10, 2, 2),\n",
    "  ('Ciclismo de tarde', '2022-05-10  19:00', 83, 22, 2, 3),\n",
    "  ('Arariz', '2022-05-15  8:00', 97, 8, 3, 2),\n",
    "  ('Monte caramelo', '2022-05-16 8:00', 95, 7, 3, 2),\n",
    "  ('Arraiz', '2022-05-17 8:00', 83, 6, 3, 2),\n",
    "  ('Andar', '2022-05-15 11:00', 15, 1, 4, 2),\n",
    "  ('Andar', '2022-05-16 11:00', 20, 1, 4, 2),\n",
    "  ('Andar', '2022-05-17 11:00', 28, 3, 4, 2)\n",
    ";\n",
    "\n",
    "\n",
    "INSERT INTO campeonato (nombre, fecha_inicio, fecha_fin, federacion_id) VALUES\n",
    "  ('Campeonato de España', '2022-07-15', '2022-07-20', 1),\n",
    "  ('Campeonato de España cubierto', '2022-11-15', '2022-11-20', 1),\n",
    "  ('Vuelta a España', '2022-08-30', '2022-09-20', 2)\n",
    ";\n",
    "\n",
    "\n",
    "INSERT INTO prueba (nombre, distancia, deporte_id) VALUES\n",
    "  ('100 metros lisos', 100, 4),\n",
    "  ('110 metros vallas', 110, 4),\n",
    "  ('Maratón', 42195, 4),\n",
    "  ('30  kilómetros velódromo', 3000, 3)\n",
    ";\n",
    "\n",
    "\n",
    "INSERT INTO logro (nombre) VALUES\n",
    "  ('Día de la tierra'),\n",
    "  ('Empezando bien el año')\n",
    ";\n",
    "\n",
    "\n",
    "INSERT INTO reto (nombre, descripcion, fecha_inicio, fecha_fin, distancia, tiempo, deporte_id, logro_id) VALUES\n",
    "  ('10 kilómetros en menos de 1 hora', 'Realizar 10 kilómetros a paso rápido antes de una semana', '2022-05-18', '2022-05-25', 10000, 60, 1, 1),\n",
    "  ('Correr 5 km', 'Correr 5 kilómetros antes de que termine el mes', '2022-05-01', '2022-05-31', 5000, 0, 4, 1),\n",
    "  ('200 kilómetros en bici', 'Andar 200 kilómetros antes de que termine el mes', '2022-05-01', '2022-05-31', 200000, 0, 3, 1),\n",
    "  ('10 kilómetros de inicio de año', 'Realizar 10 kilómetros para empezar bien el año', '2022-01-01', '2022-01-07', 10000, 60, 1, 2)\n",
    ";\n",
    "\n",
    "\n",
    "INSERT INTO evento (nombre, fecha_inicio, distancia, federacion_id) VALUES\n",
    "  ('Marcha popular', '2022-02-01', 10000, 1),\n",
    "  ('Carrera popular', '2022-03-01', 5000, 1),\n",
    "  ('Ciclismo popular', '2022-04-01', 25000, 2),\n",
    "  ('Ciclismo por la seguridad en carretera', '2022-05-01', 35000, 2)\n",
    ";\n",
    "\n",
    "\n",
    "INSERT INTO practica (deportista_id, deporte_id, federado, numero_federado) VALUES\n",
    "  (1, 4, true, 1264),\n",
    "  (2, 3, true, 6745)\n",
    ";\n",
    "\n",
    "\n",
    "INSERT INTO asiste (deportista_id, evento_id, tiempo_realizado) VALUES\n",
    "  (1, 1, 900),\n",
    "  (1, 2, 240),\n",
    "  (1, 3, 3600),\n",
    "  (2, 1, 800),\n",
    "  (2, 3, 300),\n",
    "  (3, 1, 1200)\n",
    ";\n",
    "\n",
    "\n",
    "INSERT INTO compite (deportista_id, prueba_id, campeonato_id, tiempo_realizado) VALUES\n",
    "  (1, 1, 1, 10.432),\n",
    "  (1, 2, 1, 11.98),\n",
    "  (1, 1, 2, 10.12),\n",
    "  (1, 2, 2, 12.04)\n",
    ";\n",
    "\n",
    "INSERT INTO hace (deportista_id, reto_id, fecha_unirse, fecha_completado) VALUES\n",
    "  (1, 1, '2022-05-19', null),\n",
    "  (1, 2, '2022-05-02', '2022-05-11'),\n",
    "  (2, 1, '2022-05-20', '2022-05-21'),\n",
    "  (3, 1, '2022-05-19', '2022-05-22')\n",
    ";\n",
    "\n",
    "\n",
    "INSERT INTO obtiene (deportista_id, logro_id, fecha) VALUES\n",
    "  (1, 1, '2022-05-19 19:14'),\n",
    "  (1, 2, '2022-01-03 11:24'),\n",
    "  (2, 1, '2022-05-21 18:02'),\n",
    "  (3, 1, '2022-05-22 12:54')\n",
    ";\n",
    "\"\"\""
   ]
  },
  {
   "cell_type": "markdown",
   "id": "0d240dcf-15d8-4376-a6c9-640d1f662002",
   "metadata": {},
   "source": [
    "### 4.3.1. Inserción en local <a class=\"anchor\" id=\"insercion_local\"></a>"
   ]
  },
  {
   "cell_type": "markdown",
   "id": "f77cd171-2c38-4513-9fe6-56d2366c4ec4",
   "metadata": {},
   "source": [
    "Para realizar la inserción en local se va a hacer uso de las variables previamente creadas, para posteriormente hacer persistentes los cambios"
   ]
  },
  {
   "cell_type": "code",
   "execution_count": 14,
   "id": "be436044-f118-4958-9e35-8849fae3e4ee",
   "metadata": {},
   "outputs": [],
   "source": [
    "# insertamos los datos\n",
    "cur_local.execute(inserts)\n",
    "# Hacemos persistentes los cambios\n",
    "con_local.commit()"
   ]
  },
  {
   "cell_type": "markdown",
   "id": "8375edb5-9192-4d16-8701-d25a5c6ef1b4",
   "metadata": {},
   "source": [
    "### 4.3.2. Inserción en remoto <a class=\"anchor\" id=\"insercion_remoto\"></a>"
   ]
  },
  {
   "cell_type": "markdown",
   "id": "e68e8652-36d5-466d-90a7-085a0ee52fbd",
   "metadata": {},
   "source": [
    "Se realiza lo mismo para el servidor remoto"
   ]
  },
  {
   "cell_type": "code",
   "execution_count": 15,
   "id": "aa6f8a68-ff81-4437-bdeb-e44b0537a188",
   "metadata": {},
   "outputs": [],
   "source": [
    "# insertamos los datos\n",
    "cur_remoto.execute(inserts)\n",
    "# Hacemos persistentes los cambios\n",
    "con_remoto.commit()"
   ]
  },
  {
   "cell_type": "markdown",
   "id": "77ebc541-ebfd-4dae-b512-003c2229fffd",
   "metadata": {
    "tags": []
   },
   "source": [
    "# 5. Consultas a base de datos <a class=\"anchor\" id=\"consultas\"></a>"
   ]
  },
  {
   "cell_type": "markdown",
   "id": "3012e553-1bb1-42b1-8bb5-c867a1f0e656",
   "metadata": {},
   "source": []
  },
  {
   "cell_type": "markdown",
   "id": "d34e20a1-aa2f-4a18-9d68-aa156049500d",
   "metadata": {},
   "source": [
    "# 6. Conclusiones <a class=\"anchor\" id=\"conclusiones\"></a>"
   ]
  },
  {
   "cell_type": "markdown",
   "id": "6e000b31-0da9-45ba-a2c1-aa8a8fa7e4d4",
   "metadata": {},
   "source": []
  }
 ],
 "metadata": {
  "kernelspec": {
   "display_name": "Python 3 (ipykernel)",
   "language": "python",
   "name": "python3"
  },
  "language_info": {
   "codemirror_mode": {
    "name": "ipython",
    "version": 3
   },
   "file_extension": ".py",
   "mimetype": "text/x-python",
   "name": "python",
   "nbconvert_exporter": "python",
   "pygments_lexer": "ipython3",
   "version": "3.10.4"
  },
  "toc-autonumbering": false,
  "toc-showcode": false,
  "toc-showmarkdowntxt": false,
  "toc-showtags": false
 },
 "nbformat": 4,
 "nbformat_minor": 5
}
