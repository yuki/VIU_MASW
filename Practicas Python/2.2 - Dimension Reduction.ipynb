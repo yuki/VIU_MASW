{
 "cells": [
  {
   "cell_type": "markdown",
   "metadata": {},
   "source": [
    "#### Ejercicio: Mejora del ejercicio de clasificación (práctica 2.0) mediante reducción de dimensiones\n",
    "\n",
    "__Paso 1__. Repetimos el ejercicio de clasficación de la anterior práctica (sistema de Machine Learning predictivo) sobre datos de fraude bancario"
   ]
  },
  {
   "cell_type": "code",
   "execution_count": 1,
   "metadata": {},
   "outputs": [
    {
     "name": "stdout",
     "output_type": "stream",
     "text": [
      "<class 'pandas.core.frame.DataFrame'>\n",
      "RangeIndex: 284807 entries, 0 to 284806\n",
      "Data columns (total 31 columns):\n",
      " #   Column  Non-Null Count   Dtype  \n",
      "---  ------  --------------   -----  \n",
      " 0   Time    284807 non-null  float64\n",
      " 1   V1      284807 non-null  float64\n",
      " 2   V2      284807 non-null  float64\n",
      " 3   V3      284807 non-null  float64\n",
      " 4   V4      284807 non-null  float64\n",
      " 5   V5      284807 non-null  float64\n",
      " 6   V6      284807 non-null  float64\n",
      " 7   V7      284807 non-null  float64\n",
      " 8   V8      284807 non-null  float64\n",
      " 9   V9      284807 non-null  float64\n",
      " 10  V10     284807 non-null  float64\n",
      " 11  V11     284807 non-null  float64\n",
      " 12  V12     284807 non-null  float64\n",
      " 13  V13     284807 non-null  float64\n",
      " 14  V14     284807 non-null  float64\n",
      " 15  V15     284807 non-null  float64\n",
      " 16  V16     284807 non-null  float64\n",
      " 17  V17     284807 non-null  float64\n",
      " 18  V18     284807 non-null  float64\n",
      " 19  V19     284807 non-null  float64\n",
      " 20  V20     284807 non-null  float64\n",
      " 21  V21     284807 non-null  float64\n",
      " 22  V22     284807 non-null  float64\n",
      " 23  V23     284807 non-null  float64\n",
      " 24  V24     284807 non-null  float64\n",
      " 25  V25     284807 non-null  float64\n",
      " 26  V26     284807 non-null  float64\n",
      " 27  V27     284807 non-null  float64\n",
      " 28  V28     284807 non-null  float64\n",
      " 29  Amount  284807 non-null  float64\n",
      " 30  Class   284807 non-null  int64  \n",
      "dtypes: float64(30), int64(1)\n",
      "memory usage: 67.4 MB\n"
     ]
    }
   ],
   "source": [
    "import pandas as pd\n",
    "import numpy as np\n",
    "import matplotlib.pyplot as plt\n",
    "\n",
    "#Leemos los datos de fraude y revisamos el contenido del csv\n",
    "df = pd.read_csv(\"./Data/creditcard.csv\")\n",
    "df.info()"
   ]
  },
  {
   "cell_type": "code",
   "execution_count": 2,
   "metadata": {},
   "outputs": [
    {
     "data": {
      "text/plain": [
       "0    284315\n",
       "1       492\n",
       "Name: Class, dtype: int64"
      ]
     },
     "execution_count": 2,
     "metadata": {},
     "output_type": "execute_result"
    }
   ],
   "source": [
    "#Revisamos cuántas transacciones son correctas (Class = 0) y fraudulentas (Class = 1)\n",
    "df.Class.value_counts()"
   ]
  },
  {
   "cell_type": "code",
   "execution_count": 3,
   "metadata": {},
   "outputs": [
    {
     "name": "stdout",
     "output_type": "stream",
     "text": [
      "Tamaño de nuestro dataset inicial: (284807, 30)\n"
     ]
    }
   ],
   "source": [
    "#Extraemos los nombres de las columnas que usaremos para aprender (todas menos la última)\n",
    "features = df.columns[0:30]\n",
    "\n",
    "X = df[features].to_numpy()\n",
    "print(f\"Tamaño de nuestro dataset inicial: {X.shape}\")"
   ]
  },
  {
   "cell_type": "code",
   "execution_count": 4,
   "metadata": {},
   "outputs": [
    {
     "name": "stdout",
     "output_type": "stream",
     "text": [
      "Tamaño de etiquetas iniciales: (284807,)\n"
     ]
    }
   ],
   "source": [
    "#Extraemos el nombre de la columna target (la columna Class, que es la última)\n",
    "target   = df.columns[-1]\n",
    "\n",
    "y = df[target].to_numpy()\n",
    "print(f\"Tamaño de etiquetas iniciales: {y.shape}\")"
   ]
  },
  {
   "cell_type": "code",
   "execution_count": 5,
   "metadata": {},
   "outputs": [
    {
     "name": "stdout",
     "output_type": "stream",
     "text": [
      "Tamaño dataset entrenamiento: (199364, 30)\n",
      "Tamaño dataset test: (85443, 30)\n"
     ]
    }
   ],
   "source": [
    "#Hacemos la segmentacion del dataset inicial en entrenamiento y test\n",
    "from sklearn.model_selection import train_test_split\n",
    "X_train, X_test, y_train, y_test = train_test_split(X, y, test_size=0.30, random_state = 111)\n",
    "print(f\"Tamaño dataset entrenamiento: {X_train.shape}\")\n",
    "print(f\"Tamaño dataset test: {X_test.shape}\")"
   ]
  },
  {
   "cell_type": "code",
   "execution_count": 6,
   "metadata": {},
   "outputs": [
    {
     "name": "stdout",
     "output_type": "stream",
     "text": [
      "Numero de operaciones en test: (85443,)\n",
      "Numero de operaciones 'Legales' en test: 85290\n",
      "Numero de operaciones 'Fraude' en test:  153\n",
      "Numero de veces que se ha equivocado mi sistema: 84\n"
     ]
    }
   ],
   "source": [
    "#Definimos un objeto DecisionTreeClassifier, y usamos el hiperparámetro random_state = 101\n",
    "from sklearn.tree import DecisionTreeClassifier\n",
    "classifier_tree = DecisionTreeClassifier(random_state = 101)\n",
    "\n",
    "#Entrenamos con los datos de entrenamiento\n",
    "classifier_tree.fit(X_train, y_train)\n",
    "\n",
    "#Predecimos sobre los datos de test\n",
    "y_predict = classifier_tree.predict(X_test)\n",
    "print(f\"Numero de operaciones en test: {y_test.shape}\")\n",
    "print(f\"Numero de operaciones 'Legales' en test: {y_test.shape[0]-np.sum(y_test)}\")\n",
    "print(f\"Numero de operaciones 'Fraude' en test:  {np.sum(y_test)}\")\n",
    "print(f\"Numero de veces que se ha equivocado mi sistema: {np.sum(np.abs(y_test-y_predict))}\")"
   ]
  },
  {
   "cell_type": "code",
   "execution_count": 7,
   "metadata": {},
   "outputs": [
    {
     "name": "stdout",
     "output_type": "stream",
     "text": [
      "[[85236    54]\n",
      " [   30   123]]\n"
     ]
    }
   ],
   "source": [
    "#Analizamos la matriz de confusion\n",
    "from sklearn.metrics import confusion_matrix\n",
    "\n",
    "cm = confusion_matrix(y_test, y_predict)\n",
    "print(cm)"
   ]
  },
  {
   "cell_type": "code",
   "execution_count": 8,
   "metadata": {},
   "outputs": [
    {
     "data": {
      "image/png": "[encoded data removed]",
      "text/plain": [
       "<Figure size 432x288 with 2 Axes>"
      ]
     },
     "metadata": {
      "needs_background": "light"
     },
     "output_type": "display_data"
    }
   ],
   "source": [
    "#(EXTRA) Sacamos una matriz de confusión más detallada\n",
    "import seaborn as sns\n",
    "import matplotlib.pyplot as plt     \n",
    "\n",
    "ax= plt.subplot()\n",
    "cm_normalized = np.array([cm[0]/cm.sum(axis=1)[0], cm[1]/cm.sum(axis=1)[1]])\n",
    "sns.heatmap(cm_normalized, annot=True, fmt='g', ax=ax);\n",
    "\n",
    "# labels, title and ticks\n",
    "ax.set_xlabel('Predicted labels');ax.set_ylabel('True labels'); \n",
    "ax.set_title('Confusion Matrix'); \n",
    "ax.xaxis.set_ticklabels(['Legal', 'Fraude']); ax.yaxis.set_ticklabels(['Legal', 'Fraude']);"
   ]
  },
  {
   "cell_type": "markdown",
   "metadata": {},
   "source": [
    "__Paso 2__. Repetimos el ejercicio de clasficación pero aplicando escalado de datos y reducción de dimensiones y comparamos resultados\n",
    "\n",
    "* Normalización de los datos"
   ]
  },
  {
   "cell_type": "code",
   "execution_count": 9,
   "metadata": {},
   "outputs": [],
   "source": [
    "#Importamos la clase StandardScaler del paquete preprocessing de sklearn\n",
    "from sklearn.preprocessing import StandardScaler\n",
    "\n",
    "#Generamos una instancia de un objeto StandardScaler\n",
    "ss = StandardScaler()\n",
    "\n",
    "#Normalizmos con fit_transform (calcula y aplica la normalización a la vez sobre los datos)\n",
    "X_train_scaled = ss.fit_transform(X_train)"
   ]
  },
  {
   "cell_type": "markdown",
   "metadata": {},
   "source": [
    "* Análisis de reducción de dimensiones"
   ]
  },
  {
   "cell_type": "code",
   "execution_count": 10,
   "metadata": {},
   "outputs": [
    {
     "name": "stdout",
     "output_type": "stream",
     "text": [
      "Nuestros datos tienen originalmente 30 dimensiones\n"
     ]
    }
   ],
   "source": [
    "#Cuántas dimensiones tienen nuestros datos?\n",
    "print(f'Nuestros datos tienen originalmente {X_train_scaled.shape[1]} dimensiones')"
   ]
  },
  {
   "cell_type": "code",
   "execution_count": 11,
   "metadata": {},
   "outputs": [],
   "source": [
    "#Importamos la clase PCA del paquete decomposition de sklearn\n",
    "from sklearn.decomposition import PCA\n",
    "\n",
    "#Primero vamos a 'no-reducir' las dimensiones\n",
    "#Generamos una variable PCA de 30 dimensiones (hiperparametro n_componentes = 30)\n",
    "pca = PCA(n_components=30)\n",
    "\n",
    "#Entrenamos y transformamos nuestros datos\n",
    "X_train_reduced = pca.fit_transform(X_train_scaled)"
   ]
  },
  {
   "cell_type": "markdown",
   "metadata": {},
   "source": [
    "¿Si no hemos reducido dimensiones, para qué sirve lo que hemos hecho? --> Para analizar la cantidad de información que va con cada dimensión PCA"
   ]
  },
  {
   "cell_type": "code",
   "execution_count": 12,
   "metadata": {},
   "outputs": [
    {
     "data": {
      "image/png": "[encoded data removed]",
      "text/plain": [
       "<Figure size 1080x360 with 1 Axes>"
      ]
     },
     "metadata": {
      "needs_background": "light"
     },
     "output_type": "display_data"
    }
   ],
   "source": [
    "#Ploteamos la cantidad de información que va con cada dimensión\n",
    "plt.figure(figsize=(15,5))\n",
    "plt.plot(np.arange(30)+1,np.cumsum(pca.explained_variance_ratio_*100))\n",
    "plt.xticks(range(31))\n",
    "plt.yticks(np.arange(0,101,5))\n",
    "plt.xlabel(\"Numero de dimensiones\")\n",
    "plt.ylabel(\"Información retenida %\")\n",
    "plt.grid()"
   ]
  },
  {
   "cell_type": "markdown",
   "metadata": {},
   "source": [
    "¡¡Las dos últimas dimensiones no aportan información!!\n",
    "\n",
    "Las 28 primeras dimensiones tienen el 99% del a información, así que podemos reducir sin peligro\n",
    "\n",
    "* Reducción de dimensiones y nuevo clasificador"
   ]
  },
  {
   "cell_type": "code",
   "execution_count": 13,
   "metadata": {},
   "outputs": [],
   "source": [
    "#Repetimos la operación de reducción, pero ahora para 28 dimensiones \n",
    "pca = PCA(n_components=28) #Equivalente a PCA(n_components = 0.99)\n",
    "\n",
    "X_train_reduced = pca.fit_transform(X_train_scaled)"
   ]
  },
  {
   "cell_type": "code",
   "execution_count": 14,
   "metadata": {},
   "outputs": [
    {
     "data": {
      "text/html": [
       "<style>#sk-container-id-1 {color: black;background-color: white;}#sk-container-id-1 pre{padding: 0;}#sk-container-id-1 div.sk-toggleable {background-color: white;}#sk-container-id-1 label.sk-toggleable__label {cursor: pointer;display: block;width: 100%;margin-bottom: 0;padding: 0.3em;box-sizing: border-box;text-align: center;}#sk-container-id-1 label.sk-toggleable__label-arrow:before {content: \"▸\";float: left;margin-right: 0.25em;color: #696969;}#sk-container-id-1 label.sk-toggleable__label-arrow:hover:before {color: black;}#sk-container-id-1 div.sk-estimator:hover label.sk-toggleable__label-arrow:before {color: black;}#sk-container-id-1 div.sk-toggleable__content {max-height: 0;max-width: 0;overflow: hidden;text-align: left;background-color: #f0f8ff;}#sk-container-id-1 div.sk-toggleable__content pre {margin: 0.2em;color: black;border-radius: 0.25em;background-color: #f0f8ff;}#sk-container-id-1 input.sk-toggleable__control:checked~div.sk-toggleable__content {max-height: 200px;max-width: 100%;overflow: auto;}#sk-container-id-1 input.sk-toggleable__control:checked~label.sk-toggleable__label-arrow:before {content: \"▾\";}#sk-container-id-1 div.sk-estimator input.sk-toggleable__control:checked~label.sk-toggleable__label {background-color: #d4ebff;}#sk-container-id-1 div.sk-label input.sk-toggleable__control:checked~label.sk-toggleable__label {background-color: #d4ebff;}#sk-container-id-1 input.sk-hidden--visually {border: 0;clip: rect(1px 1px 1px 1px);clip: rect(1px, 1px, 1px, 1px);height: 1px;margin: -1px;overflow: hidden;padding: 0;position: absolute;width: 1px;}#sk-container-id-1 div.sk-estimator {font-family: monospace;background-color: #f0f8ff;border: 1px dotted black;border-radius: 0.25em;box-sizing: border-box;margin-bottom: 0.5em;}#sk-container-id-1 div.sk-estimator:hover {background-color: #d4ebff;}#sk-container-id-1 div.sk-parallel-item::after {content: \"\";width: 100%;border-bottom: 1px solid gray;flex-grow: 1;}#sk-container-id-1 div.sk-label:hover label.sk-toggleable__label {background-color: #d4ebff;}#sk-container-id-1 div.sk-serial::before {content: \"\";position: absolute;border-left: 1px solid gray;box-sizing: border-box;top: 0;bottom: 0;left: 50%;z-index: 0;}#sk-container-id-1 div.sk-serial {display: flex;flex-direction: column;align-items: center;background-color: white;padding-right: 0.2em;padding-left: 0.2em;position: relative;}#sk-container-id-1 div.sk-item {position: relative;z-index: 1;}#sk-container-id-1 div.sk-parallel {display: flex;align-items: stretch;justify-content: center;background-color: white;position: relative;}#sk-container-id-1 div.sk-item::before, #sk-container-id-1 div.sk-parallel-item::before {content: \"\";position: absolute;border-left: 1px solid gray;box-sizing: border-box;top: 0;bottom: 0;left: 50%;z-index: -1;}#sk-container-id-1 div.sk-parallel-item {display: flex;flex-direction: column;z-index: 1;position: relative;background-color: white;}#sk-container-id-1 div.sk-parallel-item:first-child::after {align-self: flex-end;width: 50%;}#sk-container-id-1 div.sk-parallel-item:last-child::after {align-self: flex-start;width: 50%;}#sk-container-id-1 div.sk-parallel-item:only-child::after {width: 0;}#sk-container-id-1 div.sk-dashed-wrapped {border: 1px dashed gray;margin: 0 0.4em 0.5em 0.4em;box-sizing: border-box;padding-bottom: 0.4em;background-color: white;}#sk-container-id-1 div.sk-label label {font-family: monospace;font-weight: bold;display: inline-block;line-height: 1.2em;}#sk-container-id-1 div.sk-label-container {text-align: center;}#sk-container-id-1 div.sk-container {/* jupyter's `normalize.less` sets `[hidden] { display: none; }` but bootstrap.min.css set `[hidden] { display: none !important; }` so we also need the `!important` here to be able to override the default hidden behavior on the sphinx rendered scikit-learn.org. See: https://github.com/scikit-learn/scikit-learn/issues/21755 */display: inline-block !important;position: relative;}#sk-container-id-1 div.sk-text-repr-fallback {display: none;}</style><div id=\"sk-container-id-1\" class=\"sk-top-container\"><div class=\"sk-text-repr-fallback\"><pre>DecisionTreeClassifier(random_state=1)</pre><b>In a Jupyter environment, please rerun this cell to show the HTML representation or trust the notebook. <br />On GitHub, the HTML representation is unable to render, please try loading this page with nbviewer.org.</b></div><div class=\"sk-container\" hidden><div class=\"sk-item\"><div class=\"sk-estimator sk-toggleable\"><input class=\"sk-toggleable__control sk-hidden--visually\" id=\"sk-estimator-id-1\" type=\"checkbox\" checked><label for=\"sk-estimator-id-1\" class=\"sk-toggleable__label sk-toggleable__label-arrow\">DecisionTreeClassifier</label><div class=\"sk-toggleable__content\"><pre>DecisionTreeClassifier(random_state=1)</pre></div></div></div></div></div>"
      ],
      "text/plain": [
       "DecisionTreeClassifier(random_state=1)"
      ]
     },
     "execution_count": 14,
     "metadata": {},
     "output_type": "execute_result"
    }
   ],
   "source": [
    "#Hacemos un nuevo clasificador y lo entrenamos con los datos tras reducir sus dimensiones\n",
    "classifier_tree_after_pca = DecisionTreeClassifier(random_state = 1)\n",
    "classifier_tree_after_pca.fit(X_train_reduced, y_train)"
   ]
  },
  {
   "cell_type": "code",
   "execution_count": 15,
   "metadata": {},
   "outputs": [
    {
     "name": "stdout",
     "output_type": "stream",
     "text": [
      "Numero de operaciones en test: (85443,)\n",
      "Numero de operaciones 'Legales' en test: 85290\n",
      "Numero de operaciones 'Fraude' en test:  153\n",
      "Numero de veces que se ha equivocado mi sistema: 75\n"
     ]
    }
   ],
   "source": [
    "#Aplicamos la reducción de dimensiones a los datos de test y hacemos predicciones\n",
    "\n",
    "#Primero los normalizamos con el mismo scaler que los datos de train\n",
    "X_test_scaled = ss.transform(X_test)\n",
    "\n",
    "#Luego aplicamos la reducción de dimensiones\n",
    "X_test_reduced = pca.transform(X_test_scaled)\n",
    "\n",
    "#Finalmente hacemos predicciones\n",
    "y_new_predict = classifier_tree_after_pca.predict(X_test_reduced)\n",
    "print(f\"Numero de operaciones en test: {y_test.shape}\")\n",
    "print(f\"Numero de operaciones 'Legales' en test: {y_test.shape[0]-np.sum(y_test)}\")\n",
    "print(f\"Numero de operaciones 'Fraude' en test:  {np.sum(y_test)}\")\n",
    "print(f\"Numero de veces que se ha equivocado mi sistema: {np.sum(np.abs(y_test-y_new_predict))}\")"
   ]
  },
  {
   "cell_type": "code",
   "execution_count": 16,
   "metadata": {},
   "outputs": [
    {
     "data": {
      "image/png": "[encoded data removed]",
      "text/plain": [
       "<Figure size 432x288 with 2 Axes>"
      ]
     },
     "metadata": {
      "needs_background": "light"
     },
     "output_type": "display_data"
    }
   ],
   "source": [
    "#Calculamos la matriz de confusión tras la reducción y la comparamos con la anterior\n",
    "cm = confusion_matrix(y_test, y_new_predict)\n",
    "ax= plt.subplot()\n",
    "cm_normalized = np.array([cm[0]/cm.sum(axis=1)[0], cm[1]/cm.sum(axis=1)[1]])\n",
    "sns.heatmap(cm_normalized, annot=True, fmt='g', ax=ax);  #annot=True to annotate cells, ftm='g' to disable scientific notation\n",
    "\n",
    "# labels, title and ticks\n",
    "ax.set_xlabel('Predicted labels');ax.set_ylabel('True labels'); \n",
    "ax.set_title('Confusion Matrix'); \n",
    "ax.xaxis.set_ticklabels(['Legal', 'Fraude']); ax.yaxis.set_ticklabels(['Legal', 'Fraude']);"
   ]
  }
 ],
 "metadata": {
  "kernelspec": {
   "display_name": "Python 3 (ipykernel)",
   "language": "python",
   "name": "python3"
  },
  "language_info": {
   "codemirror_mode": {
    "name": "ipython",
    "version": 3
   },
   "file_extension": ".py",
   "mimetype": "text/x-python",
   "name": "python",
   "nbconvert_exporter": "python",
   "pygments_lexer": "ipython3",
   "version": "3.10.6"
  }
 },
 "nbformat": 4,
 "nbformat_minor": 4
}
