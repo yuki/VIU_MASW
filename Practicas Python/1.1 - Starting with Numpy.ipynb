{
 "cells": [
  {
   "cell_type": "markdown",
   "metadata": {},
   "source": [
    "<p><span style=\"font-size: 24pt; font-family: calibri;\">Starting with Numpy</span></p>"
   ]
  },
  {
   "cell_type": "code",
   "execution_count": 1,
   "metadata": {},
   "outputs": [
    {
     "data": {
      "text/plain": [
       "'1.21.5'"
      ]
     },
     "execution_count": 1,
     "metadata": {},
     "output_type": "execute_result"
    }
   ],
   "source": [
    "#load the library and check its version\n",
    "import numpy as np\n",
    "np.__version__"
   ]
  },
  {
   "cell_type": "markdown",
   "metadata": {},
   "source": [
    "<p><span style=\"font-size: 18pt; font-family: calibri;\">Scalar basic operations</span></p>"
   ]
  },
  {
   "cell_type": "code",
   "execution_count": 2,
   "metadata": {},
   "outputs": [
    {
     "name": "stdout",
     "output_type": "stream",
     "text": [
      "a + b = 7\n",
      "\n",
      "a - b = -3\n",
      "\n",
      "a * b = 10\n",
      "\n",
      "b/a = 2.5\n",
      "\n",
      "mod(b,a) = 1\n",
      "\n",
      "b^a = 25\n",
      "\n",
      "sqrt(a) = 1.4142135623730951\n",
      "\n",
      "abs(-a) = 2\n",
      "\n",
      "floor(2.5) = 2\n"
     ]
    }
   ],
   "source": [
    "a = 2; b = 5\n",
    "\n",
    "print(f\"a + b = {a+b}\\n\")\n",
    "\n",
    "print(f\"a - b = {a-b}\\n\")\n",
    "\n",
    "print(f\"a * b = {a*b}\\n\")\n",
    "\n",
    "print(f\"b/a = {b/a}\\n\")\n",
    "\n",
    "print(f\"mod(b,a) = {b%a}\\n\")\n",
    "\n",
    "print(f\"b^a = {b**a}\\n\")\n",
    "\n",
    "print(f\"sqrt(a) = {np.sqrt(a)}\\n\")\n",
    "\n",
    "print(f\"abs(-a) = {np.abs(-a)}\\n\")\n",
    "\n",
    "print(f\"floor(2.5) = {int(np.floor(2.5))}\")\n",
    "\n",
    "\n",
    "\n"
   ]
  },
  {
   "cell_type": "markdown",
   "metadata": {},
   "source": [
    "<p><span style=\"font-size: 12pt;\"><strong>Python List vs. Numpy array</strong></span></p>\n",
    "<ul>\n",
    "<li><strong><span style=\"font-size: 12pt;\">Numpy Array</span>:</strong>&nbsp;<span style=\"font-size: 12pt;\">a grid of indexed values, all of the same type. The number of dimensions is the rank of the array; the shape of an array is a tuple of integers giving the size of the array along each dimension.&nbsp;</span></li>\n",
    "<li><span style=\"font-size: 12pt;\"><strong>List:</strong> Python equivalent of an array, but is resizeable and can contain elements of different types.</span></li>\n",
    "</ul>\n",
    "<p style=\"margin-top: 12px; margin-bottom: 12px; overflow-wrap: break-word; font-size: 16px;\">Numpy data structures perform better in:</p>\n",
    "<ul style=\"padding: 0px; margin-right: 0px; margin-bottom: 6px; margin-left: 25px; font-size: 16px;\">\n",
    "<li><strong>Size</strong>&nbsp;- Numpy data structures&nbsp;take up less space</li>\n",
    "<li><strong>Performance</strong>&nbsp;- they have a need for speed and are faster than lists</li>\n",
    "<li><strong>Functionality</strong>&nbsp;- SciPy and NumPy have optimized functions such as linear algebra operations built in.</li>\n",
    "</ul>"
   ]
  },
  {
   "cell_type": "code",
   "execution_count": 3,
   "metadata": {},
   "outputs": [
    {
     "name": "stdout",
     "output_type": "stream",
     "text": [
      "List = [0, 1, 2, 3, 4]\n",
      "<class 'list'>\n",
      "<class 'int'>\n"
     ]
    }
   ],
   "source": [
    "#create a list comprising numbers from 0 to 4\n",
    "my_list = list(range(5))\n",
    "print(f\"List = {my_list}\")\n",
    "print(type(my_list))\n",
    "print(type(my_list[0]))\n"
   ]
  },
  {
   "cell_type": "code",
   "execution_count": 4,
   "metadata": {},
   "outputs": [
    {
     "name": "stdout",
     "output_type": "stream",
     "text": [
      "Array = [0 1 2 3 4]\n",
      "<class 'numpy.ndarray'>\n",
      "<class 'numpy.int64'>\n"
     ]
    }
   ],
   "source": [
    "#create array from list\n",
    "my_array = np.array(my_list)\n",
    "print(f\"Array = {my_array}\")\n",
    "print(type(my_array))\n",
    "print(type(my_array[0]))"
   ]
  },
  {
   "cell_type": "code",
   "execution_count": 5,
   "metadata": {},
   "outputs": [
    {
     "name": "stdout",
     "output_type": "stream",
     "text": [
      "Array 1 = [0 1 2 3 4]\n",
      "Array 2 = [0 1 2 3 4]\n",
      "Array 3 = [ 0  3  6  9 12 15 18]\n"
     ]
    }
   ],
   "source": [
    "#Other array builders\n",
    "my_array1 = np.array([0, 1, 2, 3, 4], dtype ='int')\n",
    "print(f\"Array 1 = {my_array1}\")\n",
    "\n",
    "my_array2 = np.array(range(5))\n",
    "print(f\"Array 2 = {my_array2}\")\n",
    "\n",
    "my_array3 = np.arange(0, 19, 3)\n",
    "print(f\"Array 3 = {my_array3}\")"
   ]
  },
  {
   "cell_type": "code",
   "execution_count": 6,
   "metadata": {},
   "outputs": [
    {
     "name": "stdout",
     "output_type": "stream",
     "text": [
      "Matrix = [[1 2 3]\n",
      " [4 5 6]]\n",
      "<class 'numpy.ndarray'>\n",
      "<class 'numpy.ndarray'>\n",
      "<class 'numpy.int64'>\n"
     ]
    }
   ],
   "source": [
    "#Create a matrix (array of arrays)\n",
    "my_matrix = np.array([[1, 2, 3],[4, 5, 6]])\n",
    "print(f\"Matrix = {my_matrix}\")\n",
    "print(type(my_matrix))\n",
    "print(type(my_matrix[0]))\n",
    "print(type(my_matrix[0][0]))"
   ]
  },
  {
   "cell_type": "markdown",
   "metadata": {},
   "source": [
    "<h3 style=\"color: #252c33; font-family: 'Open Sans', sans-serif; word-spacing: 1px;\">Array Indexing and Data Accesing</h3>\n",
    "<p style=\"color: #252c33; font-family: 'Open Sans', sans-serif; font-size: 14px; word-spacing: 1px;\">The important thing to remember is that indexing in python starts at zero.</p>"
   ]
  },
  {
   "cell_type": "code",
   "execution_count": 7,
   "metadata": {},
   "outputs": [
    {
     "name": "stdout",
     "output_type": "stream",
     "text": [
      "[1 2 3 4 5 6 7 8 9]\n"
     ]
    }
   ],
   "source": [
    "#Access one element\n",
    "Array = np.array(range(1, 10))\n",
    "print(Array)"
   ]
  },
  {
   "cell_type": "code",
   "execution_count": 8,
   "metadata": {},
   "outputs": [
    {
     "name": "stdout",
     "output_type": "stream",
     "text": [
      "4\n"
     ]
    }
   ],
   "source": [
    "print(Array[3]) #What value?"
   ]
  },
  {
   "cell_type": "code",
   "execution_count": 9,
   "metadata": {},
   "outputs": [
    {
     "name": "stdout",
     "output_type": "stream",
     "text": [
      "Last elememt of Array = 9\n",
      "Second last elememt of Array = 8\n"
     ]
    }
   ],
   "source": [
    "#get the last value\n",
    "print(f\"Last elememt of Array = {Array[-1]}\")\n",
    "\n",
    "#get the second last value\n",
    "print(f\"Second last elememt of Array = {Array[-2]}\")\n"
   ]
  },
  {
   "cell_type": "code",
   "execution_count": 10,
   "metadata": {},
   "outputs": [
    {
     "name": "stdout",
     "output_type": "stream",
     "text": [
      "[1 2 3 4 5 6 7 8 9]\n",
      "elemments of Array = [1 3]\n"
     ]
    }
   ],
   "source": [
    "#inicial:final(sin llegar):salto --> 1:4:1\n",
    "print(Array)\n",
    "print(f\"elemments of Array = {Array[0:4:2]}\")"
   ]
  },
  {
   "cell_type": "code",
   "execution_count": 11,
   "metadata": {},
   "outputs": [
    {
     "name": "stdout",
     "output_type": "stream",
     "text": [
      "First 4 elemments of Array = [1 2 3 4]\n",
      "From 5th index to end = [5 6 7 8 9]\n",
      "From 5th index to 7th index = [5 6 7]\n"
     ]
    }
   ],
   "source": [
    "#from start to an index\n",
    "print(f\"First 4 elemments of Array = {Array[:4]}\")\n",
    "\n",
    "#from an index to end\n",
    "print(f\"From 5th index to end = {Array[4:]}\")\n",
    "\n",
    "#range among two indexes\n",
    "print(f\"From 5th index to 7th index = {Array[4:7]}\")"
   ]
  },
  {
   "cell_type": "code",
   "execution_count": 12,
   "metadata": {},
   "outputs": [
    {
     "name": "stdout",
     "output_type": "stream",
     "text": [
      "[[1 2 3]\n",
      " [4 5 6]\n",
      " [7 8 9]]\n"
     ]
    }
   ],
   "source": [
    "#in a multidimensional array, access items by row and column index\n",
    "Matrix = np.array([[1, 2, 3],[4, 5, 6],[7, 8, 9]])\n",
    "print(Matrix)"
   ]
  },
  {
   "cell_type": "code",
   "execution_count": 13,
   "metadata": {},
   "outputs": [
    {
     "name": "stdout",
     "output_type": "stream",
     "text": [
      "6\n"
     ]
    }
   ],
   "source": [
    "print(Matrix[1][2]) #What value?"
   ]
  },
  {
   "cell_type": "code",
   "execution_count": 14,
   "metadata": {},
   "outputs": [
    {
     "name": "stdout",
     "output_type": "stream",
     "text": [
      "Reemplazamos el indice 4 del array [1 2 3 4 5 6 7 8 9] --> [   1    2    3    4 1000    6    7    8    9]\n",
      "\n",
      "Hacemos los mismo con la matriz:\n",
      "[[   1    2    3]\n",
      " [   4 1000    6]\n",
      " [   7    8    9]]\n"
     ]
    }
   ],
   "source": [
    "#Replace values --> Same as access\n",
    "Array = np.array(range(1, 10))\n",
    "Array[4] = 1000\n",
    "print(f\"Reemplazamos el indice 4 del array {np.array(range(1, 10))} --> {Array}\\n\")\n",
    "\n",
    "Matrix = np.array([[1, 2, 3],[4, 5, 6],[7, 8, 9]])\n",
    "Matrix[1][1] = 1000\n",
    "\n",
    "\n",
    "print(f\"Hacemos los mismo con la matriz:\\n{Matrix}\")"
   ]
  },
  {
   "cell_type": "code",
   "execution_count": 15,
   "metadata": {},
   "outputs": [
    {
     "name": "stdout",
     "output_type": "stream",
     "text": [
      "Array length = 9\n",
      "Array dimensions = (9,)\n",
      "\n",
      "Matrix length = 3\n",
      "Matrix dimensions = (3, 3)\n",
      "\n",
      "The number of columns of Matrix is = 3\n"
     ]
    }
   ],
   "source": [
    "#dimensions of a vector/matrix\n",
    "print(f\"Array length = {len(Array)}\") # --> valid for arrays and lists\n",
    "print(f\"Array dimensions = {Array.shape}\")\n",
    "\n",
    "print(f\"\\nMatrix length = {len(Matrix)}\") # --> not valid for matrices!!\n",
    "print(f\"Matrix dimensions = {Matrix.shape}\")\n",
    "\n",
    "#know specific dimension\n",
    "print(f\"\\nThe number of columns of Matrix is = {Matrix.shape[1]}\")\n",
    "ncols = Matrix.shape[1]"
   ]
  },
  {
   "cell_type": "markdown",
   "metadata": {},
   "source": [
    "<div style=\"line-height: 90%; margin-top: 10.0pt; margin-bottom: 0pt; margin-left: 0.25in; text-indent: -0.25in; text-align: left; direction: ltr; unicode-bidi: embed; word-break: normal;\"><span style=\"font-size: 18pt;\"><span style=\"font-family: calibri; color: black;\">Basic Matrices and O</span><span style=\"font-family: calibri; color: black;\">perations (I)</span></span></div>"
   ]
  },
  {
   "cell_type": "code",
   "execution_count": 16,
   "metadata": {},
   "outputs": [
    {
     "name": "stdout",
     "output_type": "stream",
     "text": [
      "Ones = \n",
      "[[1. 1. 1.]\n",
      " [1. 1. 1.]]\n",
      "\n",
      "Zeros = \n",
      "[[0. 0. 0. 0.]\n",
      " [0. 0. 0. 0.]]\n"
     ]
    }
   ],
   "source": [
    "#matrix of ones\n",
    "Ones = np.ones((2,3), dtype=float)\n",
    "print(f\"Ones = \\n{Ones}\")\n",
    "\n",
    "#matrix of zeros\n",
    "Zeros = np.zeros((2,4), dtype=float)\n",
    "print(f\"\\nZeros = \\n{Zeros}\")"
   ]
  },
  {
   "cell_type": "code",
   "execution_count": 17,
   "metadata": {},
   "outputs": [
    {
     "name": "stdout",
     "output_type": "stream",
     "text": [
      "Matrix =\n",
      "[[1 2 3]\n",
      " [4 5 6]\n",
      " [7 8 9]]\n",
      "\n",
      "Transpose =\n",
      "[[1 4 7]\n",
      " [2 5 8]\n",
      " [3 6 9]]\n"
     ]
    }
   ],
   "source": [
    "#transpose\n",
    "Matrix = np.array([[1, 2, 3],[4, 5, 6],[7, 8, 9]])\n",
    "print(f\"Matrix =\\n{Matrix}\\n\")\n",
    "\n",
    "tp = np.transpose(Matrix)\n",
    "print(f\"Transpose =\\n{tp}\")\n",
    "\n",
    "#idem\n",
    "tp = Matrix.transpose()"
   ]
  },
  {
   "cell_type": "code",
   "execution_count": 18,
   "metadata": {},
   "outputs": [
    {
     "name": "stdout",
     "output_type": "stream",
     "text": [
      "Matrix =\n",
      "[[1 2 3]\n",
      " [4 5 6]]\n",
      "\n",
      "Reshape(3,2) =\n",
      "[[1 2]\n",
      " [3 4]\n",
      " [5 6]]\n"
     ]
    }
   ],
   "source": [
    "#reshape --> always read by rows\n",
    "Matrix = np.array([[1, 2, 3],[4, 5, 6]])\n",
    "print(f\"Matrix =\\n{Matrix}\\n\")\n",
    "\n",
    "rs = np.reshape(Matrix,(3,2))\n",
    "print(f\"Reshape(3,2) =\\n{rs}\")\n",
    "\n",
    "#idem\n",
    "rs = Matrix.reshape((3,2))"
   ]
  },
  {
   "cell_type": "code",
   "execution_count": 19,
   "metadata": {},
   "outputs": [
    {
     "name": "stdout",
     "output_type": "stream",
     "text": [
      "[[1 2 3]\n",
      " [4 5 6]]\n"
     ]
    }
   ],
   "source": [
    "#Cloning arrays and matrices\n",
    "Matrix = np.array([[1, 2, 3],[4, 5, 6]])\n",
    "Matrix_b = Matrix\n",
    "Matrix_copy = Matrix.copy()\n",
    "print(Matrix_copy)"
   ]
  },
  {
   "cell_type": "markdown",
   "metadata": {},
   "source": [
    "<p><span style=\"font-size: 18pt;\">Basic Matrix Operation (II)</span></p>"
   ]
  },
  {
   "cell_type": "code",
   "execution_count": 20,
   "metadata": {},
   "outputs": [
    {
     "name": "stdout",
     "output_type": "stream",
     "text": [
      "Matrix =\n",
      "[[1 2 3]\n",
      " [4 5 6]]\n",
      "\n",
      "Add all elements = 21\n",
      "\n",
      "Add all elements by columns = [5 7 9]\n",
      "\n",
      "Add all elements by rows = [ 6 15]\n",
      "\n"
     ]
    }
   ],
   "source": [
    "#Add elements of vector/matrix\n",
    "Matrix = np.array([[1, 2, 3],[4, 5, 6]])\n",
    "print(f\"Matrix =\\n{Matrix}\\n\")\n",
    "\n",
    "print(f\"Add all elements = {Matrix.sum()}\\n\")\n",
    "\n",
    "print(f\"Add all elements by columns = {Matrix.sum(axis = 0)}\\n\")\n",
    "\n",
    "print(f\"Add all elements by rows = {Matrix.sum(axis = 1)}\\n\")"
   ]
  },
  {
   "cell_type": "code",
   "execution_count": 21,
   "metadata": {},
   "outputs": [
    {
     "name": "stdout",
     "output_type": "stream",
     "text": [
      "Matrix =\n",
      "[[1 2 3]\n",
      " [4 5 6]]\n",
      "\n",
      "Minimum value of Matrix = 1\n",
      "Position of Minimum value in Matrix = 0\n",
      "\n",
      "Maximum value of Matrix = 6\n",
      "Position of Maximum value in Matrix = 5\n",
      "\n"
     ]
    }
   ],
   "source": [
    "#find min and max of vector/matrix\n",
    "Matrix = np.array([[1, 2, 3],[4, 5, 6]])\n",
    "print(f\"Matrix =\\n{Matrix}\\n\")\n",
    "\n",
    "print(f\"Minimum value of Matrix = {Matrix.min()}\")\n",
    "print(f\"Position of Minimum value in Matrix = {Matrix.argmin()}\\n\")\n",
    "\n",
    "\n",
    "print(f\"Maximum value of Matrix = {Matrix.max()}\")\n",
    "print(f\"Position of Maximum value in Matrix = {Matrix.argmax()}\\n\")"
   ]
  },
  {
   "cell_type": "markdown",
   "metadata": {},
   "source": [
    "<p><span style=\"font-size: 18pt;\">Random numbers</span></p>"
   ]
  },
  {
   "cell_type": "code",
   "execution_count": 22,
   "metadata": {},
   "outputs": [
    {
     "name": "stdout",
     "output_type": "stream",
     "text": [
      "random Array (length 5) = [0.543 0.729 0.017 0.33  0.369]\n",
      "\n",
      "random Matrix (3,4) = [[0.048 0.105 0.097 0.245]\n",
      " [0.873 0.052 0.06  0.239]\n",
      " [0.204 0.175 0.415 0.942]]\n"
     ]
    }
   ],
   "source": [
    "np.set_printoptions(precision=3) #print only 3 decimal positions\n",
    "\n",
    "#random seed (not so random)\n",
    "np.random.seed(333)\n",
    "\n",
    "#random vector/matrix\n",
    "rArray = np.random.rand(5)\n",
    "print(f\"random Array (length 5) = {rArray}\\n\")\n",
    "\n",
    "rMatrix = np.random.rand(3,4)\n",
    "print(f\"random Matrix (3,4) = {rMatrix}\") "
   ]
  }
 ],
 "metadata": {
  "kernelspec": {
   "display_name": "Python 3 (ipykernel)",
   "language": "python",
   "name": "python3"
  },
  "language_info": {
   "codemirror_mode": {
    "name": "ipython",
    "version": 3
   },
   "file_extension": ".py",
   "mimetype": "text/x-python",
   "name": "python",
   "nbconvert_exporter": "python",
   "pygments_lexer": "ipython3",
   "version": "3.10.6"
  }
 },
 "nbformat": 4,
 "nbformat_minor": 4
}
