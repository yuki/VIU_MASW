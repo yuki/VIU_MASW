{
 "cells": [
  {
   "cell_type": "code",
   "execution_count": 1,
   "metadata": {},
   "outputs": [
    {
     "name": "stdout",
     "output_type": "stream",
     "text": [
      "<class 'pandas.core.frame.DataFrame'>\n",
      "RangeIndex: 284807 entries, 0 to 284806\n",
      "Data columns (total 31 columns):\n",
      " #   Column  Non-Null Count   Dtype  \n",
      "---  ------  --------------   -----  \n",
      " 0   Time    284807 non-null  float64\n",
      " 1   V1      284807 non-null  float64\n",
      " 2   V2      284807 non-null  float64\n",
      " 3   V3      284807 non-null  float64\n",
      " 4   V4      284807 non-null  float64\n",
      " 5   V5      284807 non-null  float64\n",
      " 6   V6      284807 non-null  float64\n",
      " 7   V7      284807 non-null  float64\n",
      " 8   V8      284807 non-null  float64\n",
      " 9   V9      284807 non-null  float64\n",
      " 10  V10     284807 non-null  float64\n",
      " 11  V11     284807 non-null  float64\n",
      " 12  V12     284807 non-null  float64\n",
      " 13  V13     284807 non-null  float64\n",
      " 14  V14     284807 non-null  float64\n",
      " 15  V15     284807 non-null  float64\n",
      " 16  V16     284807 non-null  float64\n",
      " 17  V17     284807 non-null  float64\n",
      " 18  V18     284807 non-null  float64\n",
      " 19  V19     284807 non-null  float64\n",
      " 20  V20     284807 non-null  float64\n",
      " 21  V21     284807 non-null  float64\n",
      " 22  V22     284807 non-null  float64\n",
      " 23  V23     284807 non-null  float64\n",
      " 24  V24     284807 non-null  float64\n",
      " 25  V25     284807 non-null  float64\n",
      " 26  V26     284807 non-null  float64\n",
      " 27  V27     284807 non-null  float64\n",
      " 28  V28     284807 non-null  float64\n",
      " 29  Amount  284807 non-null  float64\n",
      " 30  Class   284807 non-null  int64  \n",
      "dtypes: float64(30), int64(1)\n",
      "memory usage: 67.4 MB\n"
     ]
    }
   ],
   "source": [
    "import pandas as pd\n",
    "import numpy as np\n",
    "import matplotlib.pyplot as plt\n",
    "\n",
    "df = pd.read_csv(\"./Data/creditcard.csv\")\n",
    "df.info()"
   ]
  },
  {
   "cell_type": "code",
   "execution_count": 2,
   "metadata": {},
   "outputs": [
    {
     "data": {
      "text/html": [
       "<div>\n",
       "<style scoped>\n",
       "    .dataframe tbody tr th:only-of-type {\n",
       "        vertical-align: middle;\n",
       "    }\n",
       "\n",
       "    .dataframe tbody tr th {\n",
       "        vertical-align: top;\n",
       "    }\n",
       "\n",
       "    .dataframe thead th {\n",
       "        text-align: right;\n",
       "    }\n",
       "</style>\n",
       "<table border=\"1\" class=\"dataframe\">\n",
       "  <thead>\n",
       "    <tr style=\"text-align: right;\">\n",
       "      <th></th>\n",
       "      <th>Time</th>\n",
       "      <th>V1</th>\n",
       "      <th>V2</th>\n",
       "      <th>V3</th>\n",
       "      <th>V4</th>\n",
       "      <th>V5</th>\n",
       "      <th>V6</th>\n",
       "      <th>V7</th>\n",
       "      <th>V8</th>\n",
       "      <th>V9</th>\n",
       "      <th>...</th>\n",
       "      <th>V21</th>\n",
       "      <th>V22</th>\n",
       "      <th>V23</th>\n",
       "      <th>V24</th>\n",
       "      <th>V25</th>\n",
       "      <th>V26</th>\n",
       "      <th>V27</th>\n",
       "      <th>V28</th>\n",
       "      <th>Amount</th>\n",
       "      <th>Class</th>\n",
       "    </tr>\n",
       "  </thead>\n",
       "  <tbody>\n",
       "    <tr>\n",
       "      <th>251075</th>\n",
       "      <td>155200.0</td>\n",
       "      <td>-0.341430</td>\n",
       "      <td>1.210184</td>\n",
       "      <td>-0.327207</td>\n",
       "      <td>-0.654354</td>\n",
       "      <td>0.853024</td>\n",
       "      <td>-0.803133</td>\n",
       "      <td>1.044556</td>\n",
       "      <td>-0.262914</td>\n",
       "      <td>0.216322</td>\n",
       "      <td>...</td>\n",
       "      <td>0.270103</td>\n",
       "      <td>1.049085</td>\n",
       "      <td>-0.326793</td>\n",
       "      <td>-0.681109</td>\n",
       "      <td>-0.274516</td>\n",
       "      <td>-0.114259</td>\n",
       "      <td>0.431144</td>\n",
       "      <td>0.326889</td>\n",
       "      <td>0.89</td>\n",
       "      <td>0</td>\n",
       "    </tr>\n",
       "    <tr>\n",
       "      <th>38856</th>\n",
       "      <td>39583.0</td>\n",
       "      <td>0.995645</td>\n",
       "      <td>-0.557056</td>\n",
       "      <td>1.021863</td>\n",
       "      <td>0.341870</td>\n",
       "      <td>-1.188178</td>\n",
       "      <td>-0.439818</td>\n",
       "      <td>-0.438462</td>\n",
       "      <td>-0.082235</td>\n",
       "      <td>0.702884</td>\n",
       "      <td>...</td>\n",
       "      <td>0.157762</td>\n",
       "      <td>0.404638</td>\n",
       "      <td>-0.147241</td>\n",
       "      <td>0.530972</td>\n",
       "      <td>0.212330</td>\n",
       "      <td>1.091340</td>\n",
       "      <td>-0.049712</td>\n",
       "      <td>0.038702</td>\n",
       "      <td>126.00</td>\n",
       "      <td>0</td>\n",
       "    </tr>\n",
       "    <tr>\n",
       "      <th>10974</th>\n",
       "      <td>18877.0</td>\n",
       "      <td>1.267123</td>\n",
       "      <td>-0.250328</td>\n",
       "      <td>0.825573</td>\n",
       "      <td>-0.643521</td>\n",
       "      <td>-0.841827</td>\n",
       "      <td>-0.455364</td>\n",
       "      <td>-0.629952</td>\n",
       "      <td>-0.109377</td>\n",
       "      <td>3.069478</td>\n",
       "      <td>...</td>\n",
       "      <td>-0.186091</td>\n",
       "      <td>-0.037425</td>\n",
       "      <td>-0.105609</td>\n",
       "      <td>-0.176311</td>\n",
       "      <td>0.560963</td>\n",
       "      <td>-0.694622</td>\n",
       "      <td>0.067288</td>\n",
       "      <td>0.026350</td>\n",
       "      <td>11.85</td>\n",
       "      <td>0</td>\n",
       "    </tr>\n",
       "    <tr>\n",
       "      <th>42078</th>\n",
       "      <td>40949.0</td>\n",
       "      <td>1.060149</td>\n",
       "      <td>-1.223162</td>\n",
       "      <td>1.248982</td>\n",
       "      <td>-0.557835</td>\n",
       "      <td>-1.924919</td>\n",
       "      <td>-0.134813</td>\n",
       "      <td>-1.242821</td>\n",
       "      <td>0.172026</td>\n",
       "      <td>-0.435686</td>\n",
       "      <td>...</td>\n",
       "      <td>-0.045270</td>\n",
       "      <td>0.070181</td>\n",
       "      <td>-0.036354</td>\n",
       "      <td>0.366162</td>\n",
       "      <td>-0.123150</td>\n",
       "      <td>1.086455</td>\n",
       "      <td>-0.029466</td>\n",
       "      <td>0.036989</td>\n",
       "      <td>125.90</td>\n",
       "      <td>0</td>\n",
       "    </tr>\n",
       "    <tr>\n",
       "      <th>97297</th>\n",
       "      <td>66153.0</td>\n",
       "      <td>-0.815828</td>\n",
       "      <td>-0.982805</td>\n",
       "      <td>0.432877</td>\n",
       "      <td>-1.029453</td>\n",
       "      <td>-1.220841</td>\n",
       "      <td>0.693078</td>\n",
       "      <td>1.632840</td>\n",
       "      <td>-0.037224</td>\n",
       "      <td>-1.752095</td>\n",
       "      <td>...</td>\n",
       "      <td>-0.079404</td>\n",
       "      <td>-0.384908</td>\n",
       "      <td>0.794236</td>\n",
       "      <td>-0.306399</td>\n",
       "      <td>0.105187</td>\n",
       "      <td>1.071274</td>\n",
       "      <td>-0.173803</td>\n",
       "      <td>0.016129</td>\n",
       "      <td>414.96</td>\n",
       "      <td>0</td>\n",
       "    </tr>\n",
       "  </tbody>\n",
       "</table>\n",
       "<p>5 rows × 31 columns</p>\n",
       "</div>"
      ],
      "text/plain": [
       "            Time        V1        V2        V3        V4        V5        V6  \\\n",
       "251075  155200.0 -0.341430  1.210184 -0.327207 -0.654354  0.853024 -0.803133   \n",
       "38856    39583.0  0.995645 -0.557056  1.021863  0.341870 -1.188178 -0.439818   \n",
       "10974    18877.0  1.267123 -0.250328  0.825573 -0.643521 -0.841827 -0.455364   \n",
       "42078    40949.0  1.060149 -1.223162  1.248982 -0.557835 -1.924919 -0.134813   \n",
       "97297    66153.0 -0.815828 -0.982805  0.432877 -1.029453 -1.220841  0.693078   \n",
       "\n",
       "              V7        V8        V9  ...       V21       V22       V23  \\\n",
       "251075  1.044556 -0.262914  0.216322  ...  0.270103  1.049085 -0.326793   \n",
       "38856  -0.438462 -0.082235  0.702884  ...  0.157762  0.404638 -0.147241   \n",
       "10974  -0.629952 -0.109377  3.069478  ... -0.186091 -0.037425 -0.105609   \n",
       "42078  -1.242821  0.172026 -0.435686  ... -0.045270  0.070181 -0.036354   \n",
       "97297   1.632840 -0.037224 -1.752095  ... -0.079404 -0.384908  0.794236   \n",
       "\n",
       "             V24       V25       V26       V27       V28  Amount  Class  \n",
       "251075 -0.681109 -0.274516 -0.114259  0.431144  0.326889    0.89      0  \n",
       "38856   0.530972  0.212330  1.091340 -0.049712  0.038702  126.00      0  \n",
       "10974  -0.176311  0.560963 -0.694622  0.067288  0.026350   11.85      0  \n",
       "42078   0.366162 -0.123150  1.086455 -0.029466  0.036989  125.90      0  \n",
       "97297  -0.306399  0.105187  1.071274 -0.173803  0.016129  414.96      0  \n",
       "\n",
       "[5 rows x 31 columns]"
      ]
     },
     "execution_count": 2,
     "metadata": {},
     "output_type": "execute_result"
    }
   ],
   "source": [
    "df.sample(5)"
   ]
  },
  {
   "cell_type": "code",
   "execution_count": 3,
   "metadata": {},
   "outputs": [
    {
     "data": {
      "text/plain": [
       "array([0, 1])"
      ]
     },
     "execution_count": 3,
     "metadata": {},
     "output_type": "execute_result"
    }
   ],
   "source": [
    "df.Class.unique()"
   ]
  },
  {
   "cell_type": "code",
   "execution_count": 4,
   "metadata": {},
   "outputs": [
    {
     "data": {
      "text/plain": [
       "0    284315\n",
       "1       492\n",
       "Name: Class, dtype: int64"
      ]
     },
     "execution_count": 4,
     "metadata": {},
     "output_type": "execute_result"
    }
   ],
   "source": [
    "df.Class.value_counts()"
   ]
  },
  {
   "cell_type": "code",
   "execution_count": 5,
   "metadata": {},
   "outputs": [
    {
     "name": "stdout",
     "output_type": "stream",
     "text": [
      "Caracteristicas = Index(['Time', 'V1', 'V2', 'V3', 'V4', 'V5', 'V6', 'V7', 'V8', 'V9', 'V10',\n",
      "       'V11', 'V12', 'V13', 'V14', 'V15', 'V16', 'V17', 'V18', 'V19', 'V20',\n",
      "       'V21', 'V22', 'V23', 'V24', 'V25', 'V26', 'V27', 'V28', 'Amount'],\n",
      "      dtype='object')\n",
      "Target = Class\n"
     ]
    }
   ],
   "source": [
    "features = df.columns[0:30]\n",
    "target   = df.columns[-1]\n",
    "print(f\"Caracteristicas = {features}\")\n",
    "print(f\"Target = {target}\")"
   ]
  },
  {
   "cell_type": "code",
   "execution_count": 6,
   "metadata": {},
   "outputs": [
    {
     "name": "stdout",
     "output_type": "stream",
     "text": [
      "Tamaño de nuestro dataset inicial: (284807, 30)\n"
     ]
    }
   ],
   "source": [
    "X = df[features].to_numpy()\n",
    "print(f\"Tamaño de nuestro dataset inicial: {X.shape}\")"
   ]
  },
  {
   "cell_type": "code",
   "execution_count": 7,
   "metadata": {},
   "outputs": [
    {
     "name": "stdout",
     "output_type": "stream",
     "text": [
      "Tamaño de etiquetas iniciales: (284807,)\n"
     ]
    }
   ],
   "source": [
    "y = df[target].to_numpy()\n",
    "print(f\"Tamaño de etiquetas iniciales: {y.shape}\")"
   ]
  },
  {
   "cell_type": "code",
   "execution_count": 8,
   "metadata": {},
   "outputs": [
    {
     "name": "stdout",
     "output_type": "stream",
     "text": [
      "Tamaño dataset entrenamiento: (199364, 30)\n",
      "Tamaño dataset test: (85443, 30)\n"
     ]
    }
   ],
   "source": [
    "# el paquete se llama scikit-learn\n",
    "# pip install scikit-learn\n",
    "\n",
    "from sklearn.model_selection import train_test_split\n",
    "X_train, X_test, y_train, y_test = train_test_split(X, y, test_size=0.30)\n",
    "print(f\"Tamaño dataset entrenamiento: {X_train.shape}\")\n",
    "print(f\"Tamaño dataset test: {X_test.shape}\")"
   ]
  },
  {
   "cell_type": "code",
   "execution_count": 9,
   "metadata": {},
   "outputs": [
    {
     "data": {
      "text/html": [
       "<style>#sk-container-id-1 {color: black;background-color: white;}#sk-container-id-1 pre{padding: 0;}#sk-container-id-1 div.sk-toggleable {background-color: white;}#sk-container-id-1 label.sk-toggleable__label {cursor: pointer;display: block;width: 100%;margin-bottom: 0;padding: 0.3em;box-sizing: border-box;text-align: center;}#sk-container-id-1 label.sk-toggleable__label-arrow:before {content: \"▸\";float: left;margin-right: 0.25em;color: #696969;}#sk-container-id-1 label.sk-toggleable__label-arrow:hover:before {color: black;}#sk-container-id-1 div.sk-estimator:hover label.sk-toggleable__label-arrow:before {color: black;}#sk-container-id-1 div.sk-toggleable__content {max-height: 0;max-width: 0;overflow: hidden;text-align: left;background-color: #f0f8ff;}#sk-container-id-1 div.sk-toggleable__content pre {margin: 0.2em;color: black;border-radius: 0.25em;background-color: #f0f8ff;}#sk-container-id-1 input.sk-toggleable__control:checked~div.sk-toggleable__content {max-height: 200px;max-width: 100%;overflow: auto;}#sk-container-id-1 input.sk-toggleable__control:checked~label.sk-toggleable__label-arrow:before {content: \"▾\";}#sk-container-id-1 div.sk-estimator input.sk-toggleable__control:checked~label.sk-toggleable__label {background-color: #d4ebff;}#sk-container-id-1 div.sk-label input.sk-toggleable__control:checked~label.sk-toggleable__label {background-color: #d4ebff;}#sk-container-id-1 input.sk-hidden--visually {border: 0;clip: rect(1px 1px 1px 1px);clip: rect(1px, 1px, 1px, 1px);height: 1px;margin: -1px;overflow: hidden;padding: 0;position: absolute;width: 1px;}#sk-container-id-1 div.sk-estimator {font-family: monospace;background-color: #f0f8ff;border: 1px dotted black;border-radius: 0.25em;box-sizing: border-box;margin-bottom: 0.5em;}#sk-container-id-1 div.sk-estimator:hover {background-color: #d4ebff;}#sk-container-id-1 div.sk-parallel-item::after {content: \"\";width: 100%;border-bottom: 1px solid gray;flex-grow: 1;}#sk-container-id-1 div.sk-label:hover label.sk-toggleable__label {background-color: #d4ebff;}#sk-container-id-1 div.sk-serial::before {content: \"\";position: absolute;border-left: 1px solid gray;box-sizing: border-box;top: 0;bottom: 0;left: 50%;z-index: 0;}#sk-container-id-1 div.sk-serial {display: flex;flex-direction: column;align-items: center;background-color: white;padding-right: 0.2em;padding-left: 0.2em;position: relative;}#sk-container-id-1 div.sk-item {position: relative;z-index: 1;}#sk-container-id-1 div.sk-parallel {display: flex;align-items: stretch;justify-content: center;background-color: white;position: relative;}#sk-container-id-1 div.sk-item::before, #sk-container-id-1 div.sk-parallel-item::before {content: \"\";position: absolute;border-left: 1px solid gray;box-sizing: border-box;top: 0;bottom: 0;left: 50%;z-index: -1;}#sk-container-id-1 div.sk-parallel-item {display: flex;flex-direction: column;z-index: 1;position: relative;background-color: white;}#sk-container-id-1 div.sk-parallel-item:first-child::after {align-self: flex-end;width: 50%;}#sk-container-id-1 div.sk-parallel-item:last-child::after {align-self: flex-start;width: 50%;}#sk-container-id-1 div.sk-parallel-item:only-child::after {width: 0;}#sk-container-id-1 div.sk-dashed-wrapped {border: 1px dashed gray;margin: 0 0.4em 0.5em 0.4em;box-sizing: border-box;padding-bottom: 0.4em;background-color: white;}#sk-container-id-1 div.sk-label label {font-family: monospace;font-weight: bold;display: inline-block;line-height: 1.2em;}#sk-container-id-1 div.sk-label-container {text-align: center;}#sk-container-id-1 div.sk-container {/* jupyter's `normalize.less` sets `[hidden] { display: none; }` but bootstrap.min.css set `[hidden] { display: none !important; }` so we also need the `!important` here to be able to override the default hidden behavior on the sphinx rendered scikit-learn.org. See: https://github.com/scikit-learn/scikit-learn/issues/21755 */display: inline-block !important;position: relative;}#sk-container-id-1 div.sk-text-repr-fallback {display: none;}</style><div id=\"sk-container-id-1\" class=\"sk-top-container\"><div class=\"sk-text-repr-fallback\"><pre>DecisionTreeClassifier()</pre><b>In a Jupyter environment, please rerun this cell to show the HTML representation or trust the notebook. <br />On GitHub, the HTML representation is unable to render, please try loading this page with nbviewer.org.</b></div><div class=\"sk-container\" hidden><div class=\"sk-item\"><div class=\"sk-estimator sk-toggleable\"><input class=\"sk-toggleable__control sk-hidden--visually\" id=\"sk-estimator-id-1\" type=\"checkbox\" checked><label for=\"sk-estimator-id-1\" class=\"sk-toggleable__label sk-toggleable__label-arrow\">DecisionTreeClassifier</label><div class=\"sk-toggleable__content\"><pre>DecisionTreeClassifier()</pre></div></div></div></div></div>"
      ],
      "text/plain": [
       "DecisionTreeClassifier()"
      ]
     },
     "execution_count": 9,
     "metadata": {},
     "output_type": "execute_result"
    }
   ],
   "source": [
    "from sklearn.tree import DecisionTreeClassifier\n",
    "classifier_tree = DecisionTreeClassifier()\n",
    "classifier_tree.fit(X_train, y_train)"
   ]
  },
  {
   "cell_type": "code",
   "execution_count": 10,
   "metadata": {},
   "outputs": [
    {
     "name": "stdout",
     "output_type": "stream",
     "text": [
      "Numero de operaciones en test: (85443,)\n",
      "Numero de operaciones 'Legales' en test: 85282\n",
      "Numero de operacioens 'Fraude' en test:  161\n",
      "Numero de veces que se ha equivocado mi sistema: 75\n"
     ]
    }
   ],
   "source": [
    "y_predict = classifier_tree.predict(X_test)\n",
    "print(f\"Numero de operaciones en test: {y_test.shape}\")\n",
    "print(f\"Numero de operaciones 'Legales' en test: {y_test.shape[0]-np.sum(y_test)}\")\n",
    "print(f\"Numero de operacioens 'Fraude' en test:  {np.sum(y_test)}\")\n",
    "print(f\"Numero de veces que se ha equivocado mi sistema: {np.sum(np.abs(y_test-y_predict))}\")"
   ]
  },
  {
   "cell_type": "code",
   "execution_count": 11,
   "metadata": {},
   "outputs": [
    {
     "name": "stdout",
     "output_type": "stream",
     "text": [
      "[[85239    43]\n",
      " [   32   129]]\n"
     ]
    }
   ],
   "source": [
    "from sklearn.metrics import confusion_matrix\n",
    "cm = confusion_matrix(y_test, y_predict)\n",
    "print(cm)"
   ]
  },
  {
   "cell_type": "code",
   "execution_count": 12,
   "metadata": {},
   "outputs": [
    {
     "data": {
      "image/png": "[encoded data removed]",
      "text/plain": [
       "<Figure size 432x288 with 2 Axes>"
      ]
     },
     "metadata": {
      "needs_background": "light"
     },
     "output_type": "display_data"
    }
   ],
   "source": [
    "import seaborn as sns\n",
    "import matplotlib.pyplot as plt     \n",
    "\n",
    "ax= plt.subplot()\n",
    "cm_normalized = np.array([cm[0]/cm.sum(axis=1)[0], cm[1]/cm.sum(axis=1)[1]])\n",
    "sns.heatmap(cm_normalized, annot=True, fmt='g', ax=ax);  #annot=True to annotate cells, ftm='g' to disable scientific notation\n",
    "\n",
    "# labels, title and ticks\n",
    "ax.set_xlabel('Predicted labels');ax.set_ylabel('True labels'); \n",
    "ax.set_title('Confusion Matrix'); \n",
    "ax.xaxis.set_ticklabels(['Legal', 'Fraude']); ax.yaxis.set_ticklabels(['Legal', 'Fraude']);"
   ]
  }
 ],
 "metadata": {
  "kernelspec": {
   "display_name": "Python 3 (ipykernel)",
   "language": "python",
   "name": "python3"
  },
  "language_info": {
   "codemirror_mode": {
    "name": "ipython",
    "version": 3
   },
   "file_extension": ".py",
   "mimetype": "text/x-python",
   "name": "python",
   "nbconvert_exporter": "python",
   "pygments_lexer": "ipython3",
   "version": "3.10.6"
  }
 },
 "nbformat": 4,
 "nbformat_minor": 4
}
