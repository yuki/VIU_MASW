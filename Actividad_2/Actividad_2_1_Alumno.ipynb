{
 "cells": [
  {
   "cell_type": "markdown",
   "metadata": {
    "tags": []
   },
   "source": [
    "# Actividad 2.1\n",
    "En este ejercicio vamos a hacer scrapping sobre una página de juegos de mesa para dar un formato más práctico a la información.\n",
    "\n",
    "En el ejercicio tendrás que programas parte de un código python. En concreto, las partes a programar tienen las siguientes características:\n",
    "+ Vienen precedidas por el comentario: __########INSERTAR CODIGO AQUI__. Eso quiere decir que la parte a programar será en la línea o líneas inmediatamente inferiores\n",
    "+ En concreto tendrás que rellenar aquellas partes en las que ponga la  palabra clave __None__ (elimina la palabra None y escribe tu código)\n",
    "+ Es posible que tengas que contestar a preguntas con texto. Para ello se han habilitado celdas de texto vacías, que podrás rellenar\n",
    "\n",
    "__Descripción__:\n",
    "La página https://boardgamegeek.com/browse/boardgame contiene un ranking de juegos del 1 al 99, pero no nos gusta la forma en la que han organizado la información ya que mezclan en una misma columna del listado el nombre del juego, el año en que salió a la venta y su descripción (en inglés).\n",
    "\n",
    "Nuestros objetivos van a ser:\n",
    "1. Hacer scraping sobre la página para obtener como resultado un dataframe de pandas (una tabla) que tenga 3 columnas: Name, Year, Description. Este dataframe lo guardaremos en un fichero csv\n",
    "\n",
    "2. Hacer un pequeño análisis de los juegos según el año\n",
    "\n",
    "3. Hacer un listado de juegos que hablan sobre un tema concreto\n",
    "\n",
    "4. (EXTRA) ¿Cómo lo haríamos si quisiéramos hacer el listado de los 1000 primeros juegos? "
   ]
  },
  {
   "cell_type": "markdown",
   "metadata": {},
   "source": [
    "#### 1 - Scraping de datos y almacenaje en dataframe\n",
    "\n",
    "Antes de empezar sería bueno que revisaras en un navegador la página web en la que haremos el scraping (te aconsejo que uses Chrome). Comprueba con el inspector del navegador (botón derecho-Inspect), que realmente la información del nombre, fecha y descripción de cada juego están almacenados en lugares (tags) distintos del html. Una vez hecho esto, vamos a empezar con la práctica."
   ]
  },
  {
   "cell_type": "markdown",
   "metadata": {},
   "source": [
    "* Vamos a empezar importando las librerias de numpy, pandas, matplotlib, requests y BeautifulSoup"
   ]
  },
  {
   "cell_type": "code",
   "execution_count": 1,
   "metadata": {},
   "outputs": [],
   "source": [
    "########INSERTAR CODIGO AQUI\n",
    "import numpy as np\n",
    "import pandas as pd\n",
    "import matplotlib.pyplot as plt\n",
    "import requests\n",
    "from bs4 import BeautifulSoup"
   ]
  },
  {
   "cell_type": "markdown",
   "metadata": {},
   "source": [
    "* A continuación definimos en una variable la url que vamos a acceder y usamos la librería requests para hacer una petición, que guardamos en la variable res. Luego revisamos que el estatus de respuesta de la petición es válido"
   ]
  },
  {
   "cell_type": "code",
   "execution_count": 2,
   "metadata": {},
   "outputs": [
    {
     "name": "stdout",
     "output_type": "stream",
     "text": [
      "Mi petición a la url https://boardgamegeek.com/browse/boardgame ha dado como resultado: 200\n"
     ]
    }
   ],
   "source": [
    "#Almacenamos la url\n",
    "########INSERTAR CODIGO AQUI\n",
    "url = \"https://boardgamegeek.com/browse/boardgame\"\n",
    "\n",
    "#Hacemos la petición (usa la variable url)\n",
    "########INSERTAR CODIGO AQUI\n",
    "res = requests.get(url)\n",
    "\n",
    "#Vemos el resultado de la petición\n",
    "########INSERTAR CODIGO AQUI\n",
    "print(f'Mi petición a la url {url} ha dado como resultado: {res.status_code}')"
   ]
  },
  {
   "cell_type": "markdown",
   "metadata": {},
   "source": [
    "* Ahora vamos a usar BeautifulSoup para parsear el contenido de res. Usa el parser 'html'. Lo guardaremos en la variable soup"
   ]
  },
  {
   "cell_type": "code",
   "execution_count": 3,
   "metadata": {},
   "outputs": [],
   "source": [
    "########INSERTAR CODIGO AQUI\n",
    "soup = BeautifulSoup(res.text, 'html.parser')"
   ]
  },
  {
   "cell_type": "markdown",
   "metadata": {},
   "source": [
    "* A continuación vamos a crear tres listas en python: lista de nombres de los juegos, lista de años de producción y lista de descripciones. Con estas listas luego generaremos el dataframe\n",
    "1. __Lista de nombres__: mira que tags contienen los nombres y genera una primera lista (te será útil la función __find_all('nombre_tag', class_='nombre_clase_del_tag')__, luego genera una segunda lista vacía, recorre todos los tags de la primera lista y almacena en la segunda lista sólo la información del texto de los nombres"
   ]
  },
  {
   "cell_type": "code",
   "execution_count": 4,
   "metadata": {},
   "outputs": [
    {
     "name": "stdout",
     "output_type": "stream",
     "text": [
      "La lista de títulos de juegos es:\n",
      "['Gloomhaven', 'Brass: Birmingham', 'Pandemic Legacy: Season 1', 'Ark Nova', 'Terraforming Mars', 'Twilight Imperium: Fourth Edition', 'Gloomhaven: Jaws of the Lion', 'Star Wars: Rebellion', 'Gaia Project', 'War of the Ring: Second Edition', 'Spirit Island', 'Through the Ages: A New Story of Civilization', 'Great Western Trail', 'Twilight Struggle', 'Dune: Imperium', 'Scythe', 'The Castles of Burgundy', 'Nemesis', '7 Wonders Duel', 'Brass: Lancashire', 'Concordia', 'A Feast for Odin', 'Terra Mystica', 'Wingspan', 'Clank!: Legacy – Acquisitions Incorporated', 'Eclipse: Second Dawn for the Galaxy', 'Arkham Horror: The Card Game', 'Root', 'Orléans', 'Viticulture Essential Edition', 'Everdell', 'Lost Ruins of Arnak', 'Mage Knight Board Game', 'Barrage', 'Food Chain Magnate', 'Marvel Champions: The Card Game', 'Puerto Rico', 'Too Many Bones', 'Caverna: The Cave Farmers', 'Blood Rage', 'Pax Pamir: Second Edition', 'Agricola', 'Underwater Cities', 'The Crew: Mission Deep Sea', 'Anachrony', 'Maracaibo', 'Mansions of Madness: Second Edition', 'Pandemic Legacy: Season 2', 'On Mars', 'The Crew: The Quest for Planet Nine', \"Tzolk'in: The Mayan Calendar\", 'Power Grid', 'Cascadia', 'Crokinole', 'Clans of Caledonia', 'Star Wars: Imperial Assault', 'Le Havre', 'Lisboa', 'Pandemic Legacy: Season 0', 'Kingdom Death: Monster', 'The Quacks of Quedlinburg', 'Mechs vs. Minions', 'The Gallerist', 'Paladins of the West Kingdom', 'Android: Netrunner', 'Azul', 'Great Western Trail (Second Edition)', 'Eclipse', \"Aeon's End\", 'Through the Ages: A Story of Civilization', 'Race for the Galaxy', 'Clank!: A Deck-Building Adventure', 'The 7th Continent', 'Five Tribes', 'Kanban EV', 'Grand Austria Hotel', 'Fields of Arle', 'Agricola (Revised Edition)', 'Teotihuacan: City of Gods', 'Robinson Crusoe: Adventures on the Cursed Island', 'The Voyages of Marco Polo', 'Sleeping Gods', '7 Wonders', 'Lords of Waterdeep', 'Dominant Species', 'Tainted Grail: The Fall of Avalon', 'Architects of the West Kingdom', 'El Grande', 'Keyflower', 'Caylus', 'Beyond the Sun', 'Battlestar Galactica: The Board Game', 'Mombasa', 'Cthulhu: Death May Die', 'Dominion: Intrigue', 'Troyes', 'Raiders of the North Sea', 'The Lord of the Rings: Journeys in Middle-Earth', 'Eldritch Horror', 'Lorenzo il Magnifico']\n"
     ]
    }
   ],
   "source": [
    "########INSERTAR CODIGO AQUI\n",
    "tag_title = soup.find_all(\"a\",class_=\"primary\")\n",
    "title = []\n",
    "for tag in tag_title:\n",
    "    ########INSERTAR CODIGO AQUI\n",
    "    title.append(tag.text)\n",
    "print(f'La lista de títulos de juegos es:\\n{title}')"
   ]
  },
  {
   "cell_type": "markdown",
   "metadata": {},
   "source": [
    "2. __Lista de años__: repetiremos el mismo proceso que con los nombres, pero en este caso haremos unas operaciones extra. Si te fijas los años vienen en el formato (####). Nosotros sólo queremos un número. Así que quitaremos los paréntisis '(' y ')', y convertiremos cada valor de string a entero\n",
    "\n",
    "__TIP 1__: Se puede eliminar carácteres de un string haciendo __mi_variable_texto.replace('caracter_a_eliminar', '')__\n",
    "\n",
    "__TIP 2__: Se puede convertir en python una variable de un tipo a otro tipo (casting) de la siguiente forma __tipofinal(variable_en_tipo_inicial)__"
   ]
  },
  {
   "cell_type": "code",
   "execution_count": 5,
   "metadata": {},
   "outputs": [
    {
     "name": "stdout",
     "output_type": "stream",
     "text": [
      "La lista de años de juegos es:\n",
      "[2017, 2018, 2015, 2021, 2016, 2017, 2020, 2016, 2017, 2011, 2017, 2015, 2016, 2005, 2020, 2016, 2011, 2018, 2015, 2007, 2013, 2016, 2012, 2019, 2019, 2020, 2016, 2018, 2014, 2015, 2018, 2020, 2011, 2019, 2015, 2019, 2002, 2017, 2013, 2015, 2019, 2007, 2018, 2021, 2017, 2019, 2016, 2017, 2020, 2019, 2012, 2004, 2021, 1876, 2017, 2014, 2008, 2017, 2020, 2015, 2018, 2016, 2015, 2019, 2012, 2017, 2021, 2011, 2016, 2006, 2007, 2016, 2017, 2014, 2020, 2015, 2014, 2016, 2018, 2012, 2015, 2021, 2010, 2012, 2010, 2019, 2018, 1995, 2012, 2005, 2020, 2008, 2015, 2019, 2009, 2010, 2015, 2019, 2013, 2016]\n"
     ]
    }
   ],
   "source": [
    "########INSERTAR CODIGO AQUI\n",
    "tag_year = soup.find_all(\"span\",class_=\"smallerfont dull\")\n",
    "year = []\n",
    "for tag in tag_year:\n",
    "    year_text = tag.text\n",
    "    \n",
    "    #Eliminamos '('\n",
    "    year_text  = year_text.replace(\"(\",\"\")\n",
    "    \n",
    "    #Eliminamos ')' y convertimos a string\n",
    "    year_text  = year_text.replace(\")\",\"\")\n",
    "    year_number = int(year_text)\n",
    "    \n",
    "    year.append(year_number)\n",
    "    \n",
    "print(f'La lista de años de juegos es:\\n{year}')"
   ]
  },
  {
   "cell_type": "markdown",
   "metadata": {},
   "source": [
    "3. __Lista de descripciones__: repetiremos el mismo proceso que con los nombres y los años. En este caso quitaremos los carácteres de salto de línea y de tabulación '\\n' y '\\t'"
   ]
  },
  {
   "cell_type": "code",
   "execution_count": 6,
   "metadata": {},
   "outputs": [
    {
     "name": "stdout",
     "output_type": "stream",
     "text": [
      "La lista de descripciones es:\n",
      "['Vanquish monsters with strategic cardplay. Fulfill your quest to leave your legacy!', 'Build networks, grow industries, and navigate the world of the Industrial Revolution.', 'Mutating diseases are spreading around the world - can your team save humanity?', 'Plan and build a modern, scientifically managed zoo to support conservation projects.', 'Compete with rival CEOs to make Mars habitable and build your corporate empire.', 'Build an intergalactic empire through trade, research, conquest and grand politics.', 'Vanquish monsters with strategic cardplay in a 25-scenario Gloomhaven campaign.', 'Strike from your hidden base as the Rebels—or find and destroy it as the Empire.', 'Expand, research, upgrade, and settle the galaxy with one of 14 alien species.', 'The Fellowship and the Free Peoples clash with Sauron over the fate of Middle-Earth.', 'Island Spirits join forces using elemental powers to defend their home from invaders.', 'Rewrite history as you build up your civilization in this epic card drafting game!', 'Use strategic outposts and navigate danger as you herd your cattle to Kansas City.', 'Relive the Cold War and rewrite history in an epic clash between the USA and USSR.', 'Influence, intrigue, and combat in the universe of Dune.', 'Five factions vie for dominance in a war-torn, mech-filled, dieselpunk 1920s Europe.', 'Plan, trade, and build your Burgundian estate to prosperity and prominence.', 'Survive an alien-infested spaceship but beware of other players and their agendas.', 'Science? Military? What will you draft to win this head-to-head version of 7 Wonders?', 'Test your economic mettle as you build and network in the Industrial Revolution.', 'Traders compete to build the greatest empire in the Roman Mediterranean.', 'Puzzle together the life of a Viking village as you hunt, farm, craft, and explore.', 'Play fantastical factions.  Expand your influence by terraforming and joining cults.', 'Attract a beautiful and diverse collection of birds to your wildlife preserve.', '\"Go forth, be bold, and ACQUIRE!\" in this campaign version of \"Clank!\"', 'Build an interstellar civilization by exploration, research, conquest, and diplomacy.', 'Investigate the horrors of Arkham while courting cosmic doom.', 'Decide the fate of the forest as woodland factions fight for contrasting goals.', 'Craftsmen, scholars & monks can help you reign supreme—but who will turn up to help?', \"Create the most prosperous winery in Italy from the Tuscan vineyard you've inherited.\", 'Gather resources to develop a harmonious village of woodland critters and structures.', 'Explore an island to find resources and discover the lost ruins of Arnak.', 'Build your hero’s spells, abilities, and artifacts as you explore & conquer cities.', 'Nations vie for hydroelectric dominance in a dystopia where water is power.', 'Strategically hire and manage your workforce to outcompete rival fast food chains.', 'Battle Marvel villains with unique teams of iconic heroes in this LCG.', 'Ship goods, construct buildings, and choose roles that benefit you more than others.', 'Toss gobs of unique dice in an epic adventure en route to a final boss showdown.', 'From a simple cave, expand your dwarven home through mining, agriculture, and more.', 'Ragnarök has come! Secure your place in Valhalla in epic Viking battles.', 'Swing the tides of \"The Great Game\" as countries vie for control of Afghanistan.', \"Build your farmstead by sowing fields and raising livestock. But don't forget to eat!\", 'Develop future cities on the seafloor through politics, production, and science.', 'Dive into the deep sea in this co-operative trick-taking game.', 'Use Exosuits & time travel to ensure your vision for the future after the cataclysm.', 'Seafarers journey to obtain wealth and fame in the 17th century Caribbean.', 'Unravel mysteries in Arkham with your investigative team in this app-guided game.', 'The world is a mystery after a devastating pandemic—where will your team go?', 'Be a part of the first Martian colony, striving to be the best contributor.', 'Go on a planet-discovering space mission in this cooperative trick-taking game.', 'Lead your people, build monuments and make offerings to earn the favour of the gods.', 'Bid, network, and manage resources in a race to supply the most cities with power.', 'Create the most harmonious ecosystem as you puzzle together habitats and wildlife.', 'Flick discs and make trick shots in this traditional Canadian dexterity game!', 'Lead your unique Scottish clan to economic might via production, trade, and export.', 'Play as Rebel or Imperial forces to fulfill mission objectives.', 'Establish a supply chain by collecting resources, building industries, and shipping.', 'Compete to reconstruct the city of Lisboa after the great earthquake of 1755.', 'Work together during the Cold War to prevent a Soviet bio-threat.', 'Try to survive in a nightmarish world that lies under eternal darkness.', 'Pull ingredients from your stock to make your pot bubble, but hopefully not explode!', 'Cooperatively program and pilot your mechs to defeat an army of marauding minions.', 'Amass a fortune, and stake your reputation by operating a lucrative art gallery.', 'Invaders are coming from everywhere.  Keep the faith and defend your homeland.', 'Megacorporation versus Netrunner in this futuristic cyberpunk game of cat and mouse.', 'Artfully embellish the walls of your palace by drafting the most beautiful tiles.', 'Wrangle your herd of cows across the Midwest prairie and deliver it to Kansas City.', 'Build an interstellar civilization by exploration, research, conquest, and diplomacy.', 'Mages defend humanity’s last city, harnessing alien powers to destroy monstrosities.', 'Lead your civilization through strategic drafting of leaders, technologies, and more.', \"Worlds await! Colonize, develop and conquer taking advantage of others' choices.\", \"Claim your treasures but don't attract the dragon in this deck-building dungeon race.\", 'Journey through a vibrant but deadly land to uncover the key to lifting your curse.', 'Move assassins, elders & builders through Naqala to claim oases & control djinns.', 'EV-factory workers optimize and innovate to stand out at the big board meeting.', 'Serve guests and prepare rooms to be the best hotelier in the Viennese modern age.', 'Construct dikes, drain bogs, harvest flax and tend to newborn animals in East Frisia.', 'Help your farm to prosper in this updated, streamlined edition of the acclaimed game.', 'Use your worker dice to raise the legendary and breathtaking Pyramid of the Sun.', 'Work together — with friends or with Friday — to survive on a deserted island.', 'Using unique abilities, fulfill contracts and reach your goals along the Silk Road.', 'Voyages of the steamship \"Manticore\" and her crew on the Wandering Sea.', 'Draft cards to develop your ancient civilization and build its Wonder of the World.', 'Deploy agents and hire adventurers to expand your control over the city of Waterdeep.', 'With an ice age approaching, which animals will best propagate, migrate, and adapt?', 'Exploration, battle and diplomacy in a dark Arthurian realm.', 'Will you be a virtuous or nefarious servant of the king? Build your way to glory.', 'Use your caballeros to control regions of medieval Spain, keeping clear of the King!', 'Compete in a unique auction system to build the most prosperous village.', 'Entrepreneurs pay workers & bribe an official to build a Château & gain royal favor.', 'Collectively develop a tech tree to fuel the automation and colonization of space.', \"How can the human race survive when you don't know who is actually human?\", 'Acquire shares of unique companies and propagate their trading posts to rake in cash.', 'Disrupt the ritual and slay the Elder Gods in this co-op dice chucker.', 'Enlist torturers, swindlers, and saboteurs to gain wealth and dominate the kingdom.', 'Defend the city and rise to power by influencing the merchants, knights and clergy.', 'Gather your Viking crew in order to plunder seas and lands for glory!', 'Heroes explore Middle-earth, working together to combat evil in an epic campaign.', 'An unknown Elder God approaches the world—and you must solve mysteries to stop it.', 'Avoid excommunication and lead your family to power during the Italian Renaissance.']\n"
     ]
    }
   ],
   "source": [
    "########INSERTAR CODIGO AQUI\n",
    "tag_description = soup.find_all(\"p\",class_=\"smallefont dull\")\n",
    "description = []\n",
    "for desc in tag_description:\n",
    "    description_text = desc.text\n",
    "    \n",
    "    #Eliminamos los carácteres '\\n' y '\\t'\n",
    "    description_text = description_text.replace(\"\\n\",\"\")\n",
    "    description_text = description_text.replace(\"\\t\",\"\")\n",
    "    \n",
    "    description.append(description_text)\n",
    "\n",
    "print(f'La lista de descripciones es:\\n{description}')"
   ]
  },
  {
   "cell_type": "markdown",
   "metadata": {},
   "source": [
    "* Finalmente vamos a crear un dataframe de pandas (variable df), a partir de las 3 listas anteriores, cuyas columnas tendrán como encabezados 'Title', 'Year', 'Description'. Lo guardamos en un csv\n",
    "\n",
    "__TIP 1__: Recuerda que se puede crear un dataframe a partir de listas de datos de distintas formas. En el curso lo hemos visto definiendo un diccionario en python (cuyas entradas son el nombre de la columna y la lista de datos asociada)\n",
    "\n",
    "__TIP 2__: Los diccionarios en python se definen como __{'nombre_1': variable1, 'nombre2': variable2, ...}__ "
   ]
  },
  {
   "cell_type": "code",
   "execution_count": 7,
   "metadata": {},
   "outputs": [
    {
     "data": {
      "text/html": [
       "<div>\n",
       "<style scoped>\n",
       "    .dataframe tbody tr th:only-of-type {\n",
       "        vertical-align: middle;\n",
       "    }\n",
       "\n",
       "    .dataframe tbody tr th {\n",
       "        vertical-align: top;\n",
       "    }\n",
       "\n",
       "    .dataframe thead th {\n",
       "        text-align: right;\n",
       "    }\n",
       "</style>\n",
       "<table border=\"1\" class=\"dataframe\">\n",
       "  <thead>\n",
       "    <tr style=\"text-align: right;\">\n",
       "      <th></th>\n",
       "      <th>Title</th>\n",
       "      <th>Year</th>\n",
       "      <th>Description</th>\n",
       "    </tr>\n",
       "  </thead>\n",
       "  <tbody>\n",
       "    <tr>\n",
       "      <th>0</th>\n",
       "      <td>Gloomhaven</td>\n",
       "      <td>2017</td>\n",
       "      <td>Vanquish monsters with strategic cardplay. Ful...</td>\n",
       "    </tr>\n",
       "    <tr>\n",
       "      <th>1</th>\n",
       "      <td>Brass: Birmingham</td>\n",
       "      <td>2018</td>\n",
       "      <td>Build networks, grow industries, and navigate ...</td>\n",
       "    </tr>\n",
       "    <tr>\n",
       "      <th>2</th>\n",
       "      <td>Pandemic Legacy: Season 1</td>\n",
       "      <td>2015</td>\n",
       "      <td>Mutating diseases are spreading around the wor...</td>\n",
       "    </tr>\n",
       "    <tr>\n",
       "      <th>3</th>\n",
       "      <td>Ark Nova</td>\n",
       "      <td>2021</td>\n",
       "      <td>Plan and build a modern, scientifically manage...</td>\n",
       "    </tr>\n",
       "    <tr>\n",
       "      <th>4</th>\n",
       "      <td>Terraforming Mars</td>\n",
       "      <td>2016</td>\n",
       "      <td>Compete with rival CEOs to make Mars habitable...</td>\n",
       "    </tr>\n",
       "    <tr>\n",
       "      <th>...</th>\n",
       "      <td>...</td>\n",
       "      <td>...</td>\n",
       "      <td>...</td>\n",
       "    </tr>\n",
       "    <tr>\n",
       "      <th>95</th>\n",
       "      <td>Troyes</td>\n",
       "      <td>2010</td>\n",
       "      <td>Defend the city and rise to power by influenci...</td>\n",
       "    </tr>\n",
       "    <tr>\n",
       "      <th>96</th>\n",
       "      <td>Raiders of the North Sea</td>\n",
       "      <td>2015</td>\n",
       "      <td>Gather your Viking crew in order to plunder se...</td>\n",
       "    </tr>\n",
       "    <tr>\n",
       "      <th>97</th>\n",
       "      <td>The Lord of the Rings: Journeys in Middle-Earth</td>\n",
       "      <td>2019</td>\n",
       "      <td>Heroes explore Middle-earth, working together ...</td>\n",
       "    </tr>\n",
       "    <tr>\n",
       "      <th>98</th>\n",
       "      <td>Eldritch Horror</td>\n",
       "      <td>2013</td>\n",
       "      <td>An unknown Elder God approaches the world—and ...</td>\n",
       "    </tr>\n",
       "    <tr>\n",
       "      <th>99</th>\n",
       "      <td>Lorenzo il Magnifico</td>\n",
       "      <td>2016</td>\n",
       "      <td>Avoid excommunication and lead your family to ...</td>\n",
       "    </tr>\n",
       "  </tbody>\n",
       "</table>\n",
       "<p>100 rows × 3 columns</p>\n",
       "</div>"
      ],
      "text/plain": [
       "                                              Title  Year  \\\n",
       "0                                        Gloomhaven  2017   \n",
       "1                                 Brass: Birmingham  2018   \n",
       "2                         Pandemic Legacy: Season 1  2015   \n",
       "3                                          Ark Nova  2021   \n",
       "4                                 Terraforming Mars  2016   \n",
       "..                                              ...   ...   \n",
       "95                                           Troyes  2010   \n",
       "96                         Raiders of the North Sea  2015   \n",
       "97  The Lord of the Rings: Journeys in Middle-Earth  2019   \n",
       "98                                  Eldritch Horror  2013   \n",
       "99                             Lorenzo il Magnifico  2016   \n",
       "\n",
       "                                          Description  \n",
       "0   Vanquish monsters with strategic cardplay. Ful...  \n",
       "1   Build networks, grow industries, and navigate ...  \n",
       "2   Mutating diseases are spreading around the wor...  \n",
       "3   Plan and build a modern, scientifically manage...  \n",
       "4   Compete with rival CEOs to make Mars habitable...  \n",
       "..                                                ...  \n",
       "95  Defend the city and rise to power by influenci...  \n",
       "96  Gather your Viking crew in order to plunder se...  \n",
       "97  Heroes explore Middle-earth, working together ...  \n",
       "98  An unknown Elder God approaches the world—and ...  \n",
       "99  Avoid excommunication and lead your family to ...  \n",
       "\n",
       "[100 rows x 3 columns]"
      ]
     },
     "metadata": {},
     "output_type": "display_data"
    }
   ],
   "source": [
    "########INSERTAR CODIGO AQUI\n",
    "df = pd.DataFrame({'Title':title,'Year':year,'Description':description})\n",
    "display(df)"
   ]
  },
  {
   "cell_type": "code",
   "execution_count": 8,
   "metadata": {},
   "outputs": [],
   "source": [
    "########INSERTAR CODIGO AQUI\n",
    "nombre_alumno_sin_espacios='Ruben'\n",
    "apellido_alumno_sin_espacios='Gomez'\n",
    "\n",
    "\n",
    "df.to_csv('lista_juegos_'+nombre_alumno_sin_espacios+'_'+apellido_alumno_sin_espacios+'.csv')"
   ]
  },
  {
   "cell_type": "markdown",
   "metadata": {},
   "source": [
    "#### 2 - Pequeño análisis de los juegos según el año"
   ]
  },
  {
   "cell_type": "markdown",
   "metadata": {},
   "source": [
    "* Ahora que ya tenemos nuestro dataframe de pandas, vamos a analizar los datos en función de los años. Para empezar miramos la información de nuestro dataframe"
   ]
  },
  {
   "cell_type": "code",
   "execution_count": 9,
   "metadata": {},
   "outputs": [
    {
     "name": "stdout",
     "output_type": "stream",
     "text": [
      "<class 'pandas.core.frame.DataFrame'>\n",
      "RangeIndex: 100 entries, 0 to 99\n",
      "Data columns (total 3 columns):\n",
      " #   Column       Non-Null Count  Dtype \n",
      "---  ------       --------------  ----- \n",
      " 0   Title        100 non-null    object\n",
      " 1   Year         100 non-null    int64 \n",
      " 2   Description  100 non-null    object\n",
      "dtypes: int64(1), object(2)\n",
      "memory usage: 2.5+ KB\n"
     ]
    }
   ],
   "source": [
    "df.info()"
   ]
  },
  {
   "cell_type": "markdown",
   "metadata": {},
   "source": [
    "--> En la siguiente celda (celda de texto) escribe brevemente qué información útil hemos conseguido al hacer .info(). ¿Cuántas muestras tenemos? ¿Cuántas columnas? ¿De qué tipo los datos en cada columna?\n",
    "\n",
    "__A CONTINUACIÓN CELDA A RELLENAR POR EL ALUMNO__"
   ]
  },
  {
   "cell_type": "markdown",
   "metadata": {},
   "source": [
    "Con la ejecución de \"df.info()\" obtenemos el tipo de información que es almacenada en ese dataframe. Es comparable a un \"SHOW CREATE TABLE tabla\" de MySQL. El comando nos indica que tenemos 100 muestras, que forman 3 columans con el tipo de datos de cada una de ellas (tipo objeto, número entero y objeto respectivamente)."
   ]
  },
  {
   "cell_type": "markdown",
   "metadata": {},
   "source": [
    "* Puesto que la columna 'Year' es la única numérica, vamos a trabajarla un poco. Para empezar, vamos a ver de forma numérica cuántos años distintos hay, y cuántos juegos se han producido en esos años:\n",
    "\n",
    "1. Accede a la columna 'Year', y usa la función __value_counts()__ de pandas para generar una tabla (otro dataframe) de años y juegos por año\n",
    "\n",
    "2. Cuenta cuántos años distintos hay, que se corresponde con el número de filas de la tabla que hemos creado antes\n",
    "\n",
    "__TIP__: para saber las dimensiones de un dataframe podemos usar __df.shape__, o bien __df.shape[0]__, __df.shape[1]__ para alguna dimensión en concreto"
   ]
  },
  {
   "cell_type": "code",
   "execution_count": 10,
   "metadata": {},
   "outputs": [
    {
     "data": {
      "text/plain": [
       "2015    12\n",
       "2016    12\n",
       "2017    11\n",
       "2019    11\n",
       "2018     8\n",
       "2020     8\n",
       "2012     6\n",
       "2021     5\n",
       "2011     4\n",
       "2014     4\n",
       "2007     3\n",
       "2013     3\n",
       "2010     3\n",
       "2005     2\n",
       "2008     2\n",
       "2002     1\n",
       "2004     1\n",
       "1876     1\n",
       "2006     1\n",
       "1995     1\n",
       "2009     1\n",
       "Name: Year, dtype: int64"
      ]
     },
     "metadata": {},
     "output_type": "display_data"
    }
   ],
   "source": [
    "#Accedemos a la columna 'Year' y contamos valores\n",
    "########INSERTAR CODIGO AQUI\n",
    "juegos_por_año = df['Year'].value_counts()\n",
    "\n",
    "display(juegos_por_año)"
   ]
  },
  {
   "cell_type": "code",
   "execution_count": 11,
   "metadata": {},
   "outputs": [
    {
     "name": "stdout",
     "output_type": "stream",
     "text": [
      "Hay un total de 21 años distintos\n",
      "\n"
     ]
    }
   ],
   "source": [
    "#Miramos en la variable anterior el número de años (número de filas)\n",
    "########INSERTAR CODIGO AQUI\n",
    "num_años_distintos = juegos_por_año.shape[0]\n",
    "\n",
    "print(f'Hay un total de {num_años_distintos} años distintos\\n')"
   ]
  },
  {
   "cell_type": "markdown",
   "metadata": {},
   "source": [
    "* Vamos a extraer un array de numpy con todos los años y luego almacenaremos en sendas variables el año del juego más antiguo y el año del juego más moderno\n",
    "\n",
    "__TIP 1__: para convertir una columna de pandas a un array de numpy, podemos usar la función __.to_numpy()__\n",
    "\n",
    "__TIP 2__: En numpy tenemos funciones rápidas para sacar el máximo o el mínimo valor de un array"
   ]
  },
  {
   "cell_type": "code",
   "execution_count": 12,
   "metadata": {},
   "outputs": [
    {
     "name": "stdout",
     "output_type": "stream",
     "text": [
      "Año del juego más antiguo: 1876\n",
      "Año del juego más actual: 2021\n"
     ]
    }
   ],
   "source": [
    "#Extraemos un array con todos los años\n",
    "########INSERTAR CODIGO AQUI\n",
    "year_array = df['Year'].to_numpy()\n",
    "\n",
    "#Guardamos el año máximo y el mínimo en dos variables\n",
    "########INSERTAR CODIGO AQUI\n",
    "min_year = np.amin(year_array)\n",
    "max_year = np.amax(year_array)\n",
    "\n",
    "print(f'Año del juego más antiguo: {min_year}')\n",
    "print(f'Año del juego más actual: {max_year}')"
   ]
  },
  {
   "cell_type": "markdown",
   "metadata": {},
   "source": [
    "* A continuación, vamos a mostrar todos los datos relativos al juego más antiguo. Lo haremos en 2 pasos:\n",
    "1. Buscaremos en el array de numpy cuál es el índice (posición) correspondiente al juego más antiguo (puedes usar la función __argmin()__ de numpy)\n",
    "2. En el dataframe de todos los datos, buscaremos por índice la fila correspondiente a ese juego (revisa cómo se acceden a filas concretas de un dataframe)"
   ]
  },
  {
   "cell_type": "code",
   "execution_count": 13,
   "metadata": {},
   "outputs": [
    {
     "name": "stdout",
     "output_type": "stream",
     "text": [
      "El juego más antiguo es:\n",
      "Title                                                  Crokinole\n",
      "Year                                                        1876\n",
      "Description    Flick discs and make trick shots in this tradi...\n",
      "Name: 53, dtype: object\n"
     ]
    }
   ],
   "source": [
    "#Extracción del índice del juego más antiguo\n",
    "########INSERTAR CODIGO AQUI\n",
    "position_min_year = np.argmin(year_array)\n",
    "\n",
    "#Extracción de los datos del juego más antiguo\n",
    "########INSERTAR CODIGO AQUI\n",
    "complete_row_min_year = df.loc[position_min_year]\n",
    "\n",
    "print(f\"El juego más antiguo es:\\n{complete_row_min_year}\")"
   ]
  },
  {
   "cell_type": "markdown",
   "metadata": {},
   "source": [
    "* Para finalizar nuestro análisis, vamos a visualizar el histograma de distribución de juegos por años\n",
    "Para ello usaremos la visualización __hist__ de matplotlib sobre el array de años. Como parámetro adicional al histograma le daremos el rango de años que queremos visualizar en el parámetro bins: __hist(xxx, bins=rango_años)__\n",
    "\n",
    "__TIP 1__: Ejemplo. Si tuviéramos datos entre 1900 y 1800, entonces rango_años = 100 "
   ]
  },
  {
   "cell_type": "code",
   "execution_count": 14,
   "metadata": {},
   "outputs": [
    {
     "data": {
      "text/plain": [
       "Text(0, 0.5, 'nº de juegos')"
      ]
     },
     "execution_count": 14,
     "metadata": {},
     "output_type": "execute_result"
    },
    {
     "data": {
      "image/png": "[encoded data removed]",
      "text/plain": [
       "<Figure size 720x360 with 1 Axes>"
      ]
     },
     "metadata": {
      "needs_background": "light"
     },
     "output_type": "display_data"
    }
   ],
   "source": [
    "#Calculamos el rango de años de los datos (¿puedes usar variables que ya hemos creado?)\n",
    "########INSERTAR CODIGO AQUI\n",
    "years_range = max_year - min_year + 1\n",
    "\n",
    "#Mostramos la gráfica de barras del histograma con matplotlib\n",
    "plt.figure(figsize=(10,5))\n",
    "plt.grid()\n",
    "########INSERTAR CODIGO AQUI\n",
    "plt.hist(year_array,years_range)\n",
    "\n",
    "#Le añadimos un título, una etiqueta de eje X y una de eje Y a nuestra gráfica\n",
    "########INSERTAR CODIGO AQUI\n",
    "plt.title(\"Juegos por años\")\n",
    "plt.xlabel(\"Año\")\n",
    "plt.ylabel(\"nº de juegos\")"
   ]
  },
  {
   "cell_type": "markdown",
   "metadata": {},
   "source": [
    "__Pregunta__: ¿Crees que estamos visualizando bien la mayoría de los datos? ¿Crees que se podría eliminar algún outlier para luego visualizar los datos mejor? Responde brevemente en la siguiente celda.\n",
    "\n",
    "__A CONTINUACIÓN CELDA A RELLENAR POR EL ALUMNO__"
   ]
  },
  {
   "cell_type": "markdown",
   "metadata": {},
   "source": [
    "Debido a que el rango de años es muy grande, hace que en la visualización de datos el eje X esté sobredimensionado, y no podamos obtener gran detalle. Analizando la información, existe un único juego del año 1876 que perturba la gráfica, ya que el resto de información está mejor agrupada. Ese año, 1876, se puede considerar el outlier."
   ]
  },
  {
   "cell_type": "markdown",
   "metadata": {},
   "source": [
    "* Vamos a repetir la visualización anterior, pero eliminando el dato que hayamos identificado como outlier, para que la visualización quede más clara. Para ello seguiremos 3 pasos\n",
    "\n",
    "1. Eliminaremos del dataframe de datos la fila correspondiente al outlier. Para ello usaremos la función de pandas __.drop(indice_fila_a_eliminar, inplace = False)__. El resultado se almacenara en un dataframe nuevo\n",
    "2. Convertimos la columna 'Year' del nuevo dataframe (sin el outlier) a numpy y calculamos sobre el array de años el nuevo rango de años\n",
    "3. Mostramos la gráfica de histograma sobre el array creado y usando el parámetro bins=nuevo_rango_años"
   ]
  },
  {
   "cell_type": "code",
   "execution_count": 15,
   "metadata": {},
   "outputs": [
    {
     "data": {
      "text/plain": [
       "Text(0, 0.5, 'Número de juegos')"
      ]
     },
     "execution_count": 15,
     "metadata": {},
     "output_type": "execute_result"
    },
    {
     "data": {
      "image/png": "[encoded data removed]",
      "text/plain": [
       "<Figure size 720x360 with 1 Axes>"
      ]
     },
     "metadata": {
      "needs_background": "light"
     },
     "output_type": "display_data"
    }
   ],
   "source": [
    "#Creamos un dataframe eliminando la fila del outlier\n",
    "########INSERTAR CODIGO AQUI\n",
    "df_without_outlier = df.drop(position_min_year,inplace=False)\n",
    "\n",
    "#Calculamos el nuevo rango de años\n",
    "year_array_without_outlier = df_without_outlier['Year'].to_numpy()\n",
    "max_year_without_outlier = np.max(year_array_without_outlier)\n",
    "min_year_without_outlier = np.min(year_array_without_outlier)\n",
    "\n",
    "years_range_without_outlier = max_year_without_outlier - min_year_without_outlier + 1\n",
    "\n",
    "#Mostramos el histograma sobre los datos sin outlier\n",
    "plt.figure(figsize=(10,5))\n",
    "plt.grid()\n",
    "########INSERTAR CODIGO AQUI\n",
    "plt.hist(df_without_outlier['Year'],years_range_without_outlier)\n",
    "plt.title('Histograma de juegos por año')\n",
    "plt.xlabel('Año')\n",
    "plt.ylabel('Número de juegos')"
   ]
  },
  {
   "cell_type": "markdown",
   "metadata": {},
   "source": [
    "__Pregunta__: ¿Crees que ha mejorado la visualización? ¿Por qué? Responde brevemente en la siguiente celda.\n",
    "\n",
    "__A CONTINUACIÓN CELDA A RELLENAR POR EL ALUMNO__"
   ]
  },
  {
   "cell_type": "markdown",
   "metadata": {},
   "source": [
    "Al quitar al outlier, el eje X está mejor ajustado a los datos, y podemos diferenciar de manera clara cada una de las columnas. Esto hace que la visualización de los datos sea mucho más clara y concisa."
   ]
  },
  {
   "cell_type": "markdown",
   "metadata": {},
   "source": [
    "#### 3 - Extracción de información a partir de los datos\n",
    "Vamos a concluir esta actividad con un rápido ejercicio de extracción de información. Supongamos que sólo estoy interesado en juegos que de forma directa tengan la __temática de aliens__. Seguiremos los siguientes pasos\n",
    "1. Extraemos la columna que más información nos vaya a dar para nuestro objetivo\n",
    "2. Definimos la palabra clave 'alien' y miramos qué filas contienen esa palabra\n",
    "3. Mostramos en pantalla el resultado\n",
    "\n",
    "__TIP 1__: Para buscar una palabra clave en una columna de tipo texto en pandas, podemos usar la función __columna.str.contains(palabra_clave)__. Esta será nuestra condición de filtrado del dataframe\n",
    "\n",
    "__TIP 2__: Para filtrar un dataframe y quedarnos sólo con ciertas columnas podemos usar la siguiente expresión, df[condicion_de_filtrado] "
   ]
  },
  {
   "cell_type": "code",
   "execution_count": 16,
   "metadata": {},
   "outputs": [
    {
     "name": "stdout",
     "output_type": "stream",
     "text": [
      "Los juegos que hablan directamente de aliens son:\n",
      "\n"
     ]
    },
    {
     "data": {
      "text/html": [
       "<div>\n",
       "<style scoped>\n",
       "    .dataframe tbody tr th:only-of-type {\n",
       "        vertical-align: middle;\n",
       "    }\n",
       "\n",
       "    .dataframe tbody tr th {\n",
       "        vertical-align: top;\n",
       "    }\n",
       "\n",
       "    .dataframe thead th {\n",
       "        text-align: right;\n",
       "    }\n",
       "</style>\n",
       "<table border=\"1\" class=\"dataframe\">\n",
       "  <thead>\n",
       "    <tr style=\"text-align: right;\">\n",
       "      <th></th>\n",
       "      <th>Title</th>\n",
       "      <th>Year</th>\n",
       "      <th>Description</th>\n",
       "    </tr>\n",
       "  </thead>\n",
       "  <tbody>\n",
       "    <tr>\n",
       "      <th>8</th>\n",
       "      <td>Gaia Project</td>\n",
       "      <td>2017</td>\n",
       "      <td>Expand, research, upgrade, and settle the gala...</td>\n",
       "    </tr>\n",
       "    <tr>\n",
       "      <th>17</th>\n",
       "      <td>Nemesis</td>\n",
       "      <td>2018</td>\n",
       "      <td>Survive an alien-infested spaceship but beware...</td>\n",
       "    </tr>\n",
       "    <tr>\n",
       "      <th>68</th>\n",
       "      <td>Aeon's End</td>\n",
       "      <td>2016</td>\n",
       "      <td>Mages defend humanity’s last city, harnessing ...</td>\n",
       "    </tr>\n",
       "  </tbody>\n",
       "</table>\n",
       "</div>"
      ],
      "text/plain": [
       "           Title  Year                                        Description\n",
       "8   Gaia Project  2017  Expand, research, upgrade, and settle the gala...\n",
       "17       Nemesis  2018  Survive an alien-infested spaceship but beware...\n",
       "68    Aeon's End  2016  Mages defend humanity’s last city, harnessing ..."
      ]
     },
     "metadata": {},
     "output_type": "display_data"
    }
   ],
   "source": [
    "#Extraemos la columna interesante\n",
    "########INSERTAR CODIGO AQUI\n",
    "relevant_column = df['Description']\n",
    "\n",
    "#Definimos la palabra clave y nuestra condición de filtrado\n",
    "########INSERTAR CODIGO AQUI\n",
    "keyword = \"alien\"\n",
    "condition = relevant_column.str.contains(keyword)\n",
    "\n",
    "#Creamos un dataframe filtrado con la información relevante\n",
    "########INSERTAR CODIGO AQUI\n",
    "df_only_alien_games = df[condition]\n",
    "\n",
    "print('Los juegos que hablan directamente de aliens son:\\n')\n",
    "display(df_only_alien_games)"
   ]
  },
  {
   "cell_type": "markdown",
   "metadata": {},
   "source": [
    "#### 4 (EXTRA) - Ampliar el número de juegos (datos)\n",
    "Este apartado es opcional. No es imprescindible rellenarlo para acabar la actividad, pero se valorará positivamente si se rellena.\n",
    "\n",
    "En este apartado no hay código, sólo una pregunta a responder: __¿Si hubiéramos querido nuestro dataset tuviera no 100 juegos, sino 1000, se te ocurre una forma rápida de hacerlo?__\n",
    "\n",
    "Razona tu respuesta en la siguiente celda. Puedes escribir pseudocódigo, pero no hace falta que sea funcional\n",
    "\n",
    "__TIP 1:__ si tenemos dos dataframes, los podemos concatenar con la función __pd.concat(lista_de_dataframes, ignore_index= True)__\n",
    "\n",
    "__A CONTINUACIÓN CELDA A RELLENAR POR EL ALUMNO__"
   ]
  },
  {
   "cell_type": "markdown",
   "metadata": {},
   "source": [
    "Si visualizamos la url https://boardgamegeek.com/browse/boardgame comprobamos que existe un sistema de paginación, donde cada página nos muestra 100 juegos.\n",
    "\n",
    "El sistema de paginación tiene la siguiente URL: https://boardgamegeek.com/browse/boardgame/page/1 donde el último dígito indica la página que estamos visualizando. Por lo tanto, si queremos obtener los primeros 1000 juegos, y por página hay 100, necesitamos recoger las primeras 10 páginas.\n",
    "\n",
    "Para poder obtener la información, podríamos realizar un bucle para ir recuperando la información de las páginas, generar un dataframe para cada una de ellas, guardarlas en un array y posteriormente concaternarlas. A continuación un poco de pseudocódigo que muestra cómo se realizaría parte de lo comentado:\n",
    "\n",
    "```\n",
    "dfs = []\n",
    "i = 1\n",
    "while (i<=10):\n",
    "    # generamos URL\n",
    "    url = \"https://boardgamegeek.com/browse/boardgame/page/\" + i\n",
    "    # realizamos petición\n",
    "    res = requests.get(url)\n",
    "    \n",
    "    # obtenemos los datos de las tablas\n",
    "    # ...\n",
    "    # generamos el dataFrame de la página\n",
    "    # df = ...\n",
    "    # lo guardamos en el array\n",
    "    dfs.append(df)\n",
    "    \n",
    "    # que no se nos olvide incrementar el contador\n",
    "    i += 1\n",
    "    \n",
    "# concatenamos en un único dataFrame todo lo obtenido\n",
    "df_completo = pd.concat(dfs,ignore_index=True)\n",
    "```\n",
    "\n",
    "De esta manera, en **df_completo** tendríamos todos los dataframes concatenados"
   ]
  }
 ],
 "metadata": {
  "kernelspec": {
   "display_name": "Python 3 (ipykernel)",
   "language": "python",
   "name": "python3"
  },
  "language_info": {
   "codemirror_mode": {
    "name": "ipython",
    "version": 3
   },
   "file_extension": ".py",
   "mimetype": "text/x-python",
   "name": "python",
   "nbconvert_exporter": "python",
   "pygments_lexer": "ipython3",
   "version": "3.10.6"
  }
 },
 "nbformat": 4,
 "nbformat_minor": 4
}
