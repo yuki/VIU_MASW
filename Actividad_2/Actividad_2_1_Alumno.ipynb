{
 "cells": [
  {
   "cell_type": "markdown",
   "metadata": {},
   "source": [
    "# Actividad 2.1\n",
    "En este ejercicio vamos a hacer scrapping sobre una página de juegos de mesa para dar un formato más práctico a la información.\n",
    "\n",
    "En el ejercicio tendrás que programas parte de un código python. En concreto, las partes a programar tienen las siguientes características:\n",
    "+ Vienen precedidas por el comentario: __########INSERTAR CODIGO AQUI__. Eso quiere decir que la parte a programar será en la línea o líneas inmediatamente inferiores\n",
    "+ En concreto tendrás que rellenar aquellas partes en las que ponga la  palabra clave __None__ (elimina la palabra None y escribe tu código)\n",
    "+ Es posible que tengas que contestar a preguntas con texto. Para ello se han habilitado celdas de texto vacías, que podrás rellenar\n",
    "\n",
    "__Descripción__:\n",
    "La página https://boardgamegeek.com/browse/boardgame contiene un ranking de juegos del 1 al 99, pero no nos gusta la forma en la que han organizado la información ya que mezclan en una misma columna del listado el nombre del juego, el año en que salió a la venta y su descripción (en inglés).\n",
    "\n",
    "Nuestros objetivos van a ser:\n",
    "1. Hacer scraping sobre la página para obtener como resultado un dataframe de pandas (una tabla) que tenga 3 columnas: Name, Year, Description. Este dataframe lo guardaremos en un fichero csv\n",
    "\n",
    "2. Hacer un pequeño análisis de los juegos según el año\n",
    "\n",
    "3. Hacer un listado de juegos que hablan sobre un tema concreto\n",
    "\n",
    "4. (EXTRA) ¿Cómo lo haríamos si quisiéramos hacer el listado de los 1000 primeros juegos? "
   ]
  },
  {
   "cell_type": "markdown",
   "metadata": {},
   "source": [
    "#### 1 - Scraping de datos y almacenaje en dataframe\n",
    "\n",
    "Antes de empezar sería bueno que revisaras en un navegador la página web en la que haremos el scraping (te aconsejo que uses Chrome). Comprueba con el inspector del navegador (botón derecho-Inspect), que realmente la información del nombre, fecha y descripción de cada juego están almacenados en lugares (tags) distintos del html. Una vez hecho esto, vamos a empezar con la práctica."
   ]
  },
  {
   "cell_type": "markdown",
   "metadata": {},
   "source": [
    "* Vamos a empezar importando las librerias de numpy, pandas, matplotlib, requests y BeautifulSoup"
   ]
  },
  {
   "cell_type": "code",
   "execution_count": null,
   "metadata": {},
   "outputs": [],
   "source": [
    "########INSERTAR CODIGO AQUI\n",
    "import None\n",
    "import None\n",
    "import None\n",
    "import None\n",
    "from None import None"
   ]
  },
  {
   "cell_type": "markdown",
   "metadata": {},
   "source": [
    "* A continuación definimos en una variable la url que vamos a acceder y usamos la librería requests para hacer una petición, que guardamos en la variable res. Luego revisamos que el estatus de respuesta de la petición es válido"
   ]
  },
  {
   "cell_type": "code",
   "execution_count": null,
   "metadata": {},
   "outputs": [],
   "source": [
    "#Almacenamos la url\n",
    "########INSERTAR CODIGO AQUI\n",
    "url = None\n",
    "\n",
    "#Hacemos la petición (usa la variable url)\n",
    "########INSERTAR CODIGO AQUI\n",
    "res = None\n",
    "\n",
    "#Vemos el resultado de la petición\n",
    "########INSERTAR CODIGO AQUI\n",
    "print(f'Mi petición a la url {url} ha dado como resultado: {None}')"
   ]
  },
  {
   "cell_type": "markdown",
   "metadata": {},
   "source": [
    "* Ahora vamos a usar BeautifulSoup para parsear el contenido de res. Usa el parser 'html'. Lo guardaremos en la variable soup"
   ]
  },
  {
   "cell_type": "code",
   "execution_count": null,
   "metadata": {},
   "outputs": [],
   "source": [
    "########INSERTAR CODIGO AQUI\n",
    "soup = None"
   ]
  },
  {
   "cell_type": "markdown",
   "metadata": {},
   "source": [
    "* A continuación vamos a crear tres listas en python: lista de nombres de los juegos, lista de años de producción y lista de descripciones. Con estas listas luego generaremos el dataframe\n",
    "1. __Lista de nombres__: mira que tags contienen los nombres y genera una primera lista (te será útil la función __find_all('nombre_tag', class_='nombre_clase_del_tag')__, luego genera una segunda lista vacía, recorre todos los tags de la primera lista y almacena en la segunda lista sólo la información del texto de los nombres"
   ]
  },
  {
   "cell_type": "code",
   "execution_count": null,
   "metadata": {},
   "outputs": [],
   "source": [
    "########INSERTAR CODIGO AQUI\n",
    "tag_title = None\n",
    "title = []\n",
    "for tag in tag_title:\n",
    "    ########INSERTAR CODIGO AQUI\n",
    "    title.append(None)\n",
    "print(f'La lista de títulos de juegos es:\\n{title}')"
   ]
  },
  {
   "cell_type": "markdown",
   "metadata": {},
   "source": [
    "2. __Lista de años__: repetiremos el mismo proceso que con los nombres, pero en este caso haremos unas operaciones extra. Si te fijas los años vienen en el formato (####). Nosotros sólo queremos un número. Así que quitaremos los paréntisis '(' y ')', y convertiremos cada valor de string a entero\n",
    "\n",
    "__TIP 1__: Se puede eliminar carácteres de un string haciendo __mi_variable_texto.replace('caracter_a_eliminar', '')__\n",
    "\n",
    "__TIP 2__: Se puede convertir en python una variable de un tipo a otro tipo (casting) de la siguiente forma __tipofinal(variable_en_tipo_inicial)__"
   ]
  },
  {
   "cell_type": "code",
   "execution_count": null,
   "metadata": {},
   "outputs": [],
   "source": [
    "########INSERTAR CODIGO AQUI\n",
    "tag_year = None\n",
    "year = None\n",
    "for tag in None:\n",
    "    year_text  = None\n",
    "    \n",
    "    #Eliminamos '('\n",
    "    year_text  = None\n",
    "    \n",
    "    #Eliminamos ')' y convertimos a string\n",
    "    year_text  = None\n",
    "    year_number = None\n",
    "    \n",
    "    year.append(None)\n",
    "    \n",
    "print(f'La lista de años de juegos es:\\n{year}')"
   ]
  },
  {
   "cell_type": "markdown",
   "metadata": {},
   "source": [
    "3. __Lista de descripciones__: repetiremos el mismo proceso que con los nombres y los años. En este caso quitaremos los carácteres de salto de línea y de tabulación '\\n' y '\\t'"
   ]
  },
  {
   "cell_type": "code",
   "execution_count": null,
   "metadata": {},
   "outputs": [],
   "source": [
    "########INSERTAR CODIGO AQUI\n",
    "tag_description = None\n",
    "description = None\n",
    "for None:\n",
    "    description_text = None\n",
    "    \n",
    "    #Eliminamos los carácteres '\\n' y '\\t'\n",
    "    description_text = None\n",
    "    description_text = None\n",
    "    \n",
    "    description.append(None)\n",
    "\n",
    "print(f'La lista de descripciones es:\\n{description}')"
   ]
  },
  {
   "cell_type": "markdown",
   "metadata": {},
   "source": [
    "* Finalmente vamos a crear un dataframe de pandas (variable df), a partir de las 3 listas anteriores, cuyas columnas tendrán como encabezados 'Title', 'Year', 'Description'. Lo guardamos en un csv\n",
    "\n",
    "__TIP 1__: Recuerda que se puede crear un dataframe a partir de listas de datos de distintas formas. En el curso lo hemos visto definiendo un diccionario en python (cuyas entradas son el nombre de la columna y la lista de datos asociada)\n",
    "\n",
    "__TIP 2__: Los diccionarios en python se definen como __{'nombre_1': variable1, 'nombre2': variable2, ...}__ "
   ]
  },
  {
   "cell_type": "code",
   "execution_count": null,
   "metadata": {},
   "outputs": [],
   "source": [
    "########INSERTAR CODIGO AQUI\n",
    "df = None\n",
    "display(df)"
   ]
  },
  {
   "cell_type": "code",
   "execution_count": null,
   "metadata": {},
   "outputs": [],
   "source": [
    "########INSERTAR CODIGO AQUI\n",
    "nombre_alumno_sin_espacios='None'\n",
    "apellido_alumno_sin_espacios='None'\n",
    "\n",
    "\n",
    "df.to_csv('lista_juegos_'+nombre_alumno_sin_espacios+'_'+apellido_alumno_sin_espacios+'.csv')"
   ]
  },
  {
   "cell_type": "markdown",
   "metadata": {},
   "source": [
    "#### 2 - Pequeño análisis de los juegos según el año"
   ]
  },
  {
   "cell_type": "markdown",
   "metadata": {},
   "source": [
    "* Ahora que ya tenemos nuestro dataframe de pandas, vamos a analizar los datos en función de los años. Para empezar miramos la información de nuestro dataframe"
   ]
  },
  {
   "cell_type": "code",
   "execution_count": null,
   "metadata": {},
   "outputs": [],
   "source": [
    "df.info()"
   ]
  },
  {
   "cell_type": "markdown",
   "metadata": {},
   "source": [
    "--> En la siguiente celda (celda de texto) escribe brevemente qué información útil hemos conseguido al hacer .info(). ¿Cuántas muestras tenemos? ¿Cuántas columnas? ¿De qué tipo los datos en cada columna?\n",
    "\n",
    "__A CONTINUACIÓN CELDA A RELLENAR POR EL ALUMNO__"
   ]
  },
  {
   "cell_type": "markdown",
   "metadata": {},
   "source": []
  },
  {
   "cell_type": "markdown",
   "metadata": {},
   "source": [
    "* Puesto que la columna 'Year' es la única numérica, vamos a trabajarla un poco. Para empezar, vamos a ver de forma numérica cuántos años distintos hay, y cuántos juegos se han producido en esos años:\n",
    "\n",
    "1. Accede a la columna 'Year', y usa la función __value_counts()__ de pandas para generar una tabla (otro dataframe) de años y juegos por año\n",
    "\n",
    "2. Cuenta cuántos años distintos hay, que se corresponde con el número de filas de la tabla que hemos creado antes\n",
    "\n",
    "__TIP__: para saber las dimensiones de un dataframe podemos usar __df.shape__, o bien __df.shape[0]__, __df.shape[1]__ para alguna dimensión en concreto"
   ]
  },
  {
   "cell_type": "code",
   "execution_count": null,
   "metadata": {},
   "outputs": [],
   "source": [
    "#Accedemos a la columna 'Year' y contamos valores\n",
    "########INSERTAR CODIGO AQUI\n",
    "juegos_por_año = None\n",
    "\n",
    "display(juegos_por_año)"
   ]
  },
  {
   "cell_type": "code",
   "execution_count": null,
   "metadata": {},
   "outputs": [],
   "source": [
    "#Miramos en la variable anterior el número de años (número de filas)\n",
    "########INSERTAR CODIGO AQUI\n",
    "num_años_distintos = None\n",
    "\n",
    "print(f'Hay un total de {num_años_distintos} años distintos\\n')"
   ]
  },
  {
   "cell_type": "markdown",
   "metadata": {},
   "source": [
    "* Vamos a extraer un array de numpy con todos los años y luego almacenaremos en sendas variables el año del juego más antiguo y el año del juego más moderno\n",
    "\n",
    "__TIP 1__: para convertir una columna de pandas a un array de numpy, podemos usar la función __.to_numpy()__\n",
    "\n",
    "__TIP 2__: En numpy tenemos funciones rápidas para sacar el máximo o el mínimo valor de un array"
   ]
  },
  {
   "cell_type": "code",
   "execution_count": null,
   "metadata": {},
   "outputs": [],
   "source": [
    "#Extraemos un array con todos los años\n",
    "########INSERTAR CODIGO AQUI\n",
    "year_array = None\n",
    "\n",
    "#Guardamos el año máximo y el mínimo en dos variables\n",
    "########INSERTAR CODIGO AQUI\n",
    "min_year = None\n",
    "max_year = None\n",
    "\n",
    "print(f'Año del juego más antiguo: {min_year}')\n",
    "print(f'Año del juego más actual: {max_year}')"
   ]
  },
  {
   "cell_type": "markdown",
   "metadata": {},
   "source": [
    "* A continuación, vamos a mostrar todos los datos relativos al juego más antiguo. Lo haremos en 2 pasos:\n",
    "1. Buscaremos en el array de numpy cuál es el índice (posición) correspondiente al juego más antiguo (puedes usar la función __argmin()__ de numpy)\n",
    "2. En el dataframe de todos los datos, buscaremos por índice la fila correspondiente a ese juego (revisa cómo se acceden a filas concretas de un dataframe)"
   ]
  },
  {
   "cell_type": "code",
   "execution_count": null,
   "metadata": {},
   "outputs": [],
   "source": [
    "#Extracción del índice del juego más antiguo\n",
    "########INSERTAR CODIGO AQUI\n",
    "position_min_year = None\n",
    "\n",
    "#Extracción de los datos del juego más antiguo\n",
    "########INSERTAR CODIGO AQUI\n",
    "complete_row_min_year = None\n",
    "\n",
    "print(f\"El juego más antiguo es:\\n{complete_row_min_year}\")"
   ]
  },
  {
   "cell_type": "markdown",
   "metadata": {},
   "source": [
    "* Para finalizar nuestro análisis, vamos a visualizar el histograma de distribución de juegos por años\n",
    "Para ello usaremos la visualización __hist__ de matplotlib sobre el array de años. Como parámetro adicional al histograma le daremos el rango de años que queremos visualizar en el parámetro bins: __hist(xxx, bins=rango_años)__\n",
    "\n",
    "__TIP 1__: Ejemplo. Si tuviéramos datos entre 1900 y 1800, entonces rango_años = 100 "
   ]
  },
  {
   "cell_type": "code",
   "execution_count": null,
   "metadata": {},
   "outputs": [],
   "source": [
    "#Calculamos el rango de años de los datos (¿puedes usar variables que ya hemos creado?)\n",
    "########INSERTAR CODIGO AQUI\n",
    "years_range = None\n",
    "\n",
    "#Mostramos la gráfica de barras del histograma con matplotlib\n",
    "plt.figure(figsize=(10,5))\n",
    "plt.grid()\n",
    "########INSERTAR CODIGO AQUI\n",
    "None\n",
    "\n",
    "#Le añadimos un título, una etiqueta de eje X y una de eje Y a nuestra gráfica\n",
    "########INSERTAR CODIGO AQUI\n",
    "None\n",
    "None\n",
    "None"
   ]
  },
  {
   "cell_type": "markdown",
   "metadata": {},
   "source": [
    "__Pregunta__: ¿Crees que estamos visualizando bien la mayoría de los datos? ¿Crees que se podría eliminar algún outlier para luego visualizar los datos mejor? Responde brevemente en la siguiente celda.\n",
    "\n",
    "__A CONTINUACIÓN CELDA A RELLENAR POR EL ALUMNO__"
   ]
  },
  {
   "cell_type": "markdown",
   "metadata": {},
   "source": []
  },
  {
   "cell_type": "markdown",
   "metadata": {},
   "source": [
    "* Vamos a repetir la visualización anterior, pero eliminando el dato que hayamos identificado como outlier, para que la visualización quede más clara. Para ello seguiremos 3 pasos\n",
    "\n",
    "1. Eliminaremos del dataframe de datos la fila correspondiente al outlier. Para ello usaremos la función de pandas __.drop(indice_fila_a_eliminar, inplace = False)__. El resultado se almacenara en un dataframe nuevo\n",
    "2. Convertimos la columna 'Year' del nuevo dataframe (sin el outlier) a numpy y calculamos sobre el array de años el nuevo rango de años\n",
    "3. Mostramos la gráfica de histograma sobre el array creado y usando el parámetro bins=nuevo_rango_años"
   ]
  },
  {
   "cell_type": "code",
   "execution_count": null,
   "metadata": {},
   "outputs": [],
   "source": [
    "#Creamos un dataframe eliminando la fila del outlier\n",
    "########INSERTAR CODIGO AQUI\n",
    "df_without_outlier = None\n",
    "\n",
    "#Calculamos el nuevo rango de años\n",
    "year_array_without_outlier = df_without_outlier['Year'].to_numpy()\n",
    "max_year_without_outlier = np.max(year_array_without_outlier)\n",
    "min_year_without_outlier = np.min(year_array_without_outlier)\n",
    "\n",
    "years_range_without_outlier = max_year_without_outlier - min_year_without_outlier + 1\n",
    "\n",
    "#Mostramos el histograma sobre los datos sin outlier\n",
    "plt.figure(figsize=(10,5))\n",
    "plt.grid()\n",
    "########INSERTAR CODIGO AQUI\n",
    "None\n",
    "plt.title('Histograma de juegos por año')\n",
    "plt.xlabel('Año')\n",
    "plt.ylabel('Número de juegos')"
   ]
  },
  {
   "cell_type": "markdown",
   "metadata": {},
   "source": [
    "__Pregunta__: ¿Crees que ha mejorado la visualización? ¿Por qué? Responde brevemente en la siguiente celda.\n",
    "\n",
    "__A CONTINUACIÓN CELDA A RELLENAR POR EL ALUMNO__"
   ]
  },
  {
   "cell_type": "markdown",
   "metadata": {},
   "source": []
  },
  {
   "cell_type": "markdown",
   "metadata": {},
   "source": [
    "#### 3 - Extracción de información a partir de los datos\n",
    "Vamos a concluir esta actividad con un rápido ejercicio de extracción de información. Supongamos que sólo estoy interesado en juegos que de forma directa tengan la __temática de aliens__. Seguiremos los siguientes pasos\n",
    "1. Extraemos la columna que más información nos vaya a dar para nuestro objetivo\n",
    "2. Definimos la palabra clave 'alien' y miramos qué filas contienen esa palabra\n",
    "3. Mostramos en pantalla el resultado\n",
    "\n",
    "__TIP 1__: Para buscar una palabra clave en una columna de tipo texto en pandas, podemos usar la función __columna.str.contains(palabra_clave)__. Esta será nuestra condición de filtrado del dataframe\n",
    "\n",
    "__TIP 2__: Para filtrar un dataframe y quedarnos sólo con ciertas columnas podemos usar la siguiente expresión, df[condicion_de_filtrado] "
   ]
  },
  {
   "cell_type": "code",
   "execution_count": null,
   "metadata": {},
   "outputs": [],
   "source": [
    "#Extraemos la columna interesante\n",
    "########INSERTAR CODIGO AQUI\n",
    "relevant_column = None\n",
    "\n",
    "#Definimos la palabra clave y nuestra condición de filtrado\n",
    "########INSERTAR CODIGO AQUI\n",
    "keyword = None\n",
    "condition = None\n",
    "\n",
    "#Creamos un dataframe filtrado con la información relevante\n",
    "########INSERTAR CODIGO AQUI\n",
    "df_only_alien_games = None\n",
    "\n",
    "print('Los juegos que hablan directamente de aliens son:\\n')\n",
    "display(df_only_alien_games)"
   ]
  },
  {
   "cell_type": "markdown",
   "metadata": {},
   "source": [
    "#### 4 (EXTRA) - Ampliar el número de juegos (datos)\n",
    "Este apartado es opcional. No es imprescindible rellenarlo para acabar la actividad, pero se valorará positivamente si se rellena.\n",
    "\n",
    "En este apartado no hay código, sólo una pregunta a responder: __¿Si hubiéramos querido nuestro dataset tuviera no 100 juegos, sino 1000, se te ocurre una forma rápida de hacerlo?__\n",
    "\n",
    "Razona tu respuesta en la siguiente celda. Puedes escribir pseudocódigo, pero no hace falta que sea funcional\n",
    "\n",
    "__TIP 1:__ si tenemos dos dataframes, los podemos concatenar con la función __pd.concat(lista_de_dataframes, ignore_index= True)__\n",
    "\n",
    "__A CONTINUACIÓN CELDA A RELLENAR POR EL ALUMNO__"
   ]
  },
  {
   "cell_type": "markdown",
   "metadata": {},
   "source": []
  }
 ],
 "metadata": {
  "kernelspec": {
   "display_name": "Python 3",
   "language": "python",
   "name": "python3"
  },
  "language_info": {
   "codemirror_mode": {
    "name": "ipython",
    "version": 3
   },
   "file_extension": ".py",
   "mimetype": "text/x-python",
   "name": "python",
   "nbconvert_exporter": "python",
   "pygments_lexer": "ipython3",
   "version": "3.6.9"
  }
 },
 "nbformat": 4,
 "nbformat_minor": 4
}
