{
 "cells": [
  {
   "cell_type": "code",
   "execution_count": 1,
   "metadata": {},
   "outputs": [],
   "source": [
    "# importing libraries\n",
    "from bs4 import BeautifulSoup\n",
    "import requests"
   ]
  },
  {
   "cell_type": "markdown",
   "metadata": {},
   "source": [
    "#### Ejercicio 1: Acceder a una web simple con requests y parsear con beautiful soup\n",
    "Vamos a acceder a una página simple. Veremos su estructura y cómo beautiful soup genera un objeto con dicha estructura"
   ]
  },
  {
   "cell_type": "markdown",
   "metadata": {},
   "source": [
    "__1. Accedemos a la página y comprobamos el código de estado de la operación --> requests.get()__"
   ]
  },
  {
   "cell_type": "code",
   "execution_count": 2,
   "metadata": {},
   "outputs": [
    {
     "name": "stdout",
     "output_type": "stream",
     "text": [
      "status code = 200\n"
     ]
    }
   ],
   "source": [
    "url = \"https://www.utm.edu/staff/jlofaro/Joe%20Lofaro's%20Dive%20Shop%20Project/basic.html\"\n",
    "page = requests.get(url)\n",
    "print(f\"status code = {page.status_code}\")"
   ]
  },
  {
   "cell_type": "markdown",
   "metadata": {},
   "source": [
    "__2. Comprobamos el contenido de lo que hemos recibido (atributo .text de nuestra respuesta)__"
   ]
  },
  {
   "cell_type": "code",
   "execution_count": 3,
   "metadata": {},
   "outputs": [
    {
     "name": "stdout",
     "output_type": "stream",
     "text": [
      "Tipo del contenido de 'page' = <class 'str'>\n",
      "\n",
      "ï»¿<!DOCTYPE html PUBLIC \" - //W3C//DTD xhtml 1.0 Strict//EN\"\n",
      "\t\"http://www.w3.org/1999/xhtml\">\n",
      "\t\t<head>\n",
      "\t\t   <title> The Most Basic Web Page in the World</title>\n",
      "\t\t   <meta http-equiv=\"Content-Type\"\n",
      "\t\t\tcontent+\"text/html; charset=utf-8/>\n",
      "\t\t   </head>\n",
      "\t\t   <body>\n",
      "\t\t     <h1>The Most Basic Web Page i the World</h1>\n",
      "\t\t     <p>This is a very simple web page to get you started. \n",
      "\t\t\tHopefully you will get to see how the markup that drives \n",
      "\t\t\tthe page relates to the end result that you can see on\n",
      "\t\t\tscreen.</p>\n",
      "\t\t     <p>This is another paragraph, by the way. Just to show how it works.</p>\n",
      "\t\t   </body>\n",
      "</html>\n"
     ]
    }
   ],
   "source": [
    "print(f\"Tipo del contenido de 'page' = {type(page.text)}\\n\")\n",
    "print(page.text)"
   ]
  },
  {
   "cell_type": "markdown",
   "metadata": {},
   "source": [
    "__3. Creamos un objeto Beatiful Soup, diciéndole que el texto recibido es en verdad un HTML y que lo tiene que parsear como tal__"
   ]
  },
  {
   "cell_type": "code",
   "execution_count": 4,
   "metadata": {},
   "outputs": [
    {
     "name": "stdout",
     "output_type": "stream",
     "text": [
      "Tipo de 'soup' = <class 'bs4.BeautifulSoup'>\n",
      "\n",
      "ï»¿<!DOCTYPE html PUBLIC \" - //W3C//DTD xhtml 1.0 Strict//EN\"\n",
      "\t\"http://www.w3.org/1999/xhtml\">\n",
      "\n",
      "<head>\n",
      "<title> The Most Basic Web Page in the World</title>\n",
      "<meta charset=\"utf-8\" content+\"text=\"\" html;=\"\" http-equiv=\"Content-Type\"/>\n",
      "</head>\n",
      "<body>\n",
      "<h1>The Most Basic Web Page i the World</h1>\n",
      "<p>This is a very simple web page to get you started. \n",
      "\t\t\tHopefully you will get to see how the markup that drives \n",
      "\t\t\tthe page relates to the end result that you can see on\n",
      "\t\t\tscreen.</p>\n",
      "<p>This is another paragraph, by the way. Just to show how it works.</p>\n",
      "</body>\n",
      "\n"
     ]
    }
   ],
   "source": [
    "soup = BeautifulSoup(page.text, 'html.parser')\n",
    "print(f\"Tipo de 'soup' = {type(soup)}\\n\")\n",
    "print(soup)"
   ]
  },
  {
   "cell_type": "markdown",
   "metadata": {},
   "source": [
    "__4. Listamos todos los tags presentes en el documento (accesibles desde el objeto soup) --> find_all()__"
   ]
  },
  {
   "cell_type": "code",
   "execution_count": 5,
   "metadata": {},
   "outputs": [
    {
     "name": "stdout",
     "output_type": "stream",
     "text": [
      "Listado de tags en el documento = ['head', 'title', 'meta', 'body', 'h1', 'p', 'p']\n"
     ]
    }
   ],
   "source": [
    "tags = [tag.name for tag in soup.find_all()]\n",
    "print(f\"Listado de tags en el documento = {tags}\")"
   ]
  },
  {
   "cell_type": "markdown",
   "metadata": {},
   "source": [
    "__5. Accedemos a un tag en concreto, y luego accedemos a su contenido (su texto)__"
   ]
  },
  {
   "cell_type": "code",
   "execution_count": 6,
   "metadata": {},
   "outputs": [
    {
     "name": "stdout",
     "output_type": "stream",
     "text": [
      "Tag concreto --title-- :\n",
      "<title> The Most Basic Web Page in the World</title>\n"
     ]
    }
   ],
   "source": [
    "print(\"Tag concreto --title-- :\")\n",
    "print(soup.title)"
   ]
  },
  {
   "cell_type": "code",
   "execution_count": 7,
   "metadata": {},
   "outputs": [
    {
     "name": "stdout",
     "output_type": "stream",
     "text": [
      "Sólo el texto del tag --title-- :\n",
      " The Most Basic Web Page in the World\n"
     ]
    }
   ],
   "source": [
    "print(\"Sólo el texto del tag --title-- :\")\n",
    "print(soup.title.text)"
   ]
  },
  {
   "cell_type": "markdown",
   "metadata": {},
   "source": [
    "__6. Accedemos a todos los tags de un tipo concreto, y luego vemos sus contenidos --> find_all()__"
   ]
  },
  {
   "cell_type": "code",
   "execution_count": 8,
   "metadata": {},
   "outputs": [
    {
     "name": "stdout",
     "output_type": "stream",
     "text": [
      "Listado de todos los tags <p>:\n",
      "[<p>This is a very simple web page to get you started. \n",
      "\t\t\tHopefully you will get to see how the markup that drives \n",
      "\t\t\tthe page relates to the end result that you can see on\n",
      "\t\t\tscreen.</p>, <p>This is another paragraph, by the way. Just to show how it works.</p>]\n"
     ]
    }
   ],
   "source": [
    "p_tags = soup.find_all(\"p\")\n",
    "print(\"Listado de todos los tags <p>:\")\n",
    "print(p_tags)"
   ]
  },
  {
   "cell_type": "code",
   "execution_count": 9,
   "metadata": {},
   "outputs": [
    {
     "name": "stdout",
     "output_type": "stream",
     "text": [
      "Listado de los contenidos de todos los tags <p>:\n",
      "['This is a very simple web page to get you started. \\r\\n\\t\\t\\tHopefully you will get to see how the markup that drives \\r\\n\\t\\t\\tthe page relates to the end result that you can see on\\r\\n\\t\\t\\tscreen.', 'This is another paragraph, by the way. Just to show how it works.']\n"
     ]
    }
   ],
   "source": [
    "print(\"Listado de los contenidos de todos los tags <p>:\")\n",
    "p_contents = []\n",
    "for p_tag in soup.find_all(\"p\"):\n",
    "    p_contents.append(p_tag.text)\n",
    "print(p_contents)"
   ]
  },
  {
   "cell_type": "markdown",
   "metadata": {},
   "source": [
    "__7. Metemos todos los contenidos de un tag en un dataframe (pandas)__"
   ]
  },
  {
   "cell_type": "code",
   "execution_count": 10,
   "metadata": {},
   "outputs": [
    {
     "data": {
      "text/html": [
       "<div>\n",
       "<style scoped>\n",
       "    .dataframe tbody tr th:only-of-type {\n",
       "        vertical-align: middle;\n",
       "    }\n",
       "\n",
       "    .dataframe tbody tr th {\n",
       "        vertical-align: top;\n",
       "    }\n",
       "\n",
       "    .dataframe thead th {\n",
       "        text-align: right;\n",
       "    }\n",
       "</style>\n",
       "<table border=\"1\" class=\"dataframe\">\n",
       "  <thead>\n",
       "    <tr style=\"text-align: right;\">\n",
       "      <th></th>\n",
       "      <th>p</th>\n",
       "    </tr>\n",
       "  </thead>\n",
       "  <tbody>\n",
       "    <tr>\n",
       "      <th>0</th>\n",
       "      <td>This is a very simple web page to get you star...</td>\n",
       "    </tr>\n",
       "    <tr>\n",
       "      <th>1</th>\n",
       "      <td>This is another paragraph, by the way. Just to...</td>\n",
       "    </tr>\n",
       "  </tbody>\n",
       "</table>\n",
       "</div>"
      ],
      "text/plain": [
       "                                                   p\n",
       "0  This is a very simple web page to get you star...\n",
       "1  This is another paragraph, by the way. Just to..."
      ]
     },
     "metadata": {},
     "output_type": "display_data"
    }
   ],
   "source": [
    "import pandas as pd\n",
    "df = pd.DataFrame(p_contents,columns =[\"p\"])\n",
    "display(df)"
   ]
  },
  {
   "cell_type": "code",
   "execution_count": 11,
   "metadata": {},
   "outputs": [
    {
     "name": "stdout",
     "output_type": "stream",
     "text": [
      "Contenido del segundo tag <p>:\n",
      "This is another paragraph, by the way. Just to show how it works.\n"
     ]
    }
   ],
   "source": [
    "#ya podemos acceder a los datos a través del dataframe\n",
    "print(\"Contenido del segundo tag <p>:\")\n",
    "print(df[\"p\"].loc[1])"
   ]
  },
  {
   "cell_type": "markdown",
   "metadata": {},
   "source": [
    "#### Ejercicio 2: Acceder a una web con tablas paras hacer minería de contenidos\n",
    "Vamos a acceder a una página con información en formato de tablas y vamos a hacer mineria de datos sobre ella"
   ]
  },
  {
   "cell_type": "code",
   "execution_count": 12,
   "metadata": {},
   "outputs": [
    {
     "data": {
      "text/plain": [
       "[<tr>\n",
       " <th class=\"thno\" scope=\"col\">#</th>\n",
       " <th scope=\"col\"><span class=\"countrycol\">COUNTRY</span></th>\n",
       " <th class=\"sorter-formatted-float amount\" scope=\"col\">AMOUNT</th>\n",
       " <th class=\"date\" scope=\"col\">DATE</th>\n",
       " <th class=\"sorter-formatted-float\" scope=\"col\">GRAPH</th>\n",
       " <th scope=\"col\">HISTORY</th>\n",
       " </tr>,\n",
       " <tr>\n",
       " <td class=\"tblno\" data-row=\"1\">1</td>\n",
       " <td>\n",
       " <a data-event-action=\"Click country\" href=\"/country-info/profiles/China/Media\"><i class=\"flag flag-cn\"></i><span class=\"full\">China</span></a>\n",
       " </td>\n",
       " <td class=\"amount\" data-raw=\"389000000.0\">\n",
       "                                 389 million\n",
       "                             </td>\n",
       " <td class=\"date\">2009</td>\n",
       " <td data-raw=\"389000000.0\">\n",
       " <span class=\"graph\">\n",
       " <span class=\"bar\" style=\"width: 100.0000%\"></span>\n",
       " </span>\n",
       " </td>\n",
       " <td>\n",
       " <span class=\"spark\" values=\"2009:389000000.0\"></span>\n",
       " </td>\n",
       " </tr>,\n",
       " <tr>\n",
       " <td class=\"tblno\" data-row=\"2\">2</td>\n",
       " <td>\n",
       " <a data-event-action=\"Click country\" href=\"/country-info/profiles/United-States/Media\"><i class=\"flag flag-us\"></i><span class=\"full\">United States</span></a>\n",
       " </td>\n",
       " <td class=\"amount\" data-raw=\"245000000.0\">\n",
       "                                 245 million\n",
       "                             </td>\n",
       " <td class=\"date\">2009</td>\n",
       " <td data-raw=\"245000000.0\">\n",
       " <span class=\"graph\">\n",
       " <span class=\"bar\" style=\"width: 62.9820%\"></span>\n",
       " </span>\n",
       " </td>\n",
       " <td>\n",
       " <span class=\"spark\" values=\"2009:245000000.0\"></span>\n",
       " </td>\n",
       " </tr>]"
      ]
     },
     "metadata": {},
     "output_type": "display_data"
    }
   ],
   "source": [
    "import pandas as pd\n",
    "import numpy as np\n",
    "import requests\n",
    "from bs4 import BeautifulSoup\n",
    "\n",
    "res = requests.get(\"http://www.nationmaster.com/country-info/stats/Media/Internet-users\")\n",
    "soup = BeautifulSoup(res.content,'html')\n",
    "table = soup.find_all('table')[0] \n",
    "\n",
    "display(table.find_all(\"tr\")[0:3])"
   ]
  },
  {
   "cell_type": "code",
   "execution_count": 13,
   "metadata": {},
   "outputs": [
    {
     "data": {
      "text/html": [
       "<div>\n",
       "<style scoped>\n",
       "    .dataframe tbody tr th:only-of-type {\n",
       "        vertical-align: middle;\n",
       "    }\n",
       "\n",
       "    .dataframe tbody tr th {\n",
       "        vertical-align: top;\n",
       "    }\n",
       "\n",
       "    .dataframe thead th {\n",
       "        text-align: right;\n",
       "    }\n",
       "</style>\n",
       "<table border=\"1\" class=\"dataframe\">\n",
       "  <thead>\n",
       "    <tr style=\"text-align: right;\">\n",
       "      <th></th>\n",
       "      <th>#</th>\n",
       "      <th>COUNTRY</th>\n",
       "      <th>AMOUNT</th>\n",
       "      <th>DATE</th>\n",
       "      <th>GRAPH</th>\n",
       "      <th>HISTORY</th>\n",
       "    </tr>\n",
       "  </thead>\n",
       "  <tbody>\n",
       "    <tr>\n",
       "      <th>0</th>\n",
       "      <td>1</td>\n",
       "      <td>China</td>\n",
       "      <td>389 million</td>\n",
       "      <td>2009.0</td>\n",
       "      <td>NaN</td>\n",
       "      <td>NaN</td>\n",
       "    </tr>\n",
       "    <tr>\n",
       "      <th>1</th>\n",
       "      <td>2</td>\n",
       "      <td>United States</td>\n",
       "      <td>245 million</td>\n",
       "      <td>2009.0</td>\n",
       "      <td>NaN</td>\n",
       "      <td>NaN</td>\n",
       "    </tr>\n",
       "    <tr>\n",
       "      <th>2</th>\n",
       "      <td>3</td>\n",
       "      <td>Japan</td>\n",
       "      <td>99.18 million</td>\n",
       "      <td>2009.0</td>\n",
       "      <td>NaN</td>\n",
       "      <td>NaN</td>\n",
       "    </tr>\n",
       "    <tr>\n",
       "      <th>3</th>\n",
       "      <td>NaN</td>\n",
       "      <td>Group of 7 countries (G7) average (profile)</td>\n",
       "      <td>80.32 million</td>\n",
       "      <td>2009.0</td>\n",
       "      <td>NaN</td>\n",
       "      <td>NaN</td>\n",
       "    </tr>\n",
       "    <tr>\n",
       "      <th>4</th>\n",
       "      <td>4</td>\n",
       "      <td>Brazil</td>\n",
       "      <td>75.98 million</td>\n",
       "      <td>2009.0</td>\n",
       "      <td>NaN</td>\n",
       "      <td>NaN</td>\n",
       "    </tr>\n",
       "    <tr>\n",
       "      <th>...</th>\n",
       "      <td>...</td>\n",
       "      <td>...</td>\n",
       "      <td>...</td>\n",
       "      <td>...</td>\n",
       "      <td>...</td>\n",
       "      <td>...</td>\n",
       "    </tr>\n",
       "    <tr>\n",
       "      <th>247</th>\n",
       "      <td>214</td>\n",
       "      <td>Niue</td>\n",
       "      <td>1100</td>\n",
       "      <td>2009.0</td>\n",
       "      <td>NaN</td>\n",
       "      <td>NaN</td>\n",
       "    </tr>\n",
       "    <tr>\n",
       "      <th>248</th>\n",
       "      <td>=215</td>\n",
       "      <td>Saint Helena, Ascension, and Tristan da Cunha</td>\n",
       "      <td>900</td>\n",
       "      <td>2009.0</td>\n",
       "      <td>NaN</td>\n",
       "      <td>NaN</td>\n",
       "    </tr>\n",
       "    <tr>\n",
       "      <th>249</th>\n",
       "      <td>=215</td>\n",
       "      <td>Saint Helena</td>\n",
       "      <td>900</td>\n",
       "      <td>2009.0</td>\n",
       "      <td>NaN</td>\n",
       "      <td>NaN</td>\n",
       "    </tr>\n",
       "    <tr>\n",
       "      <th>250</th>\n",
       "      <td>217</td>\n",
       "      <td>Tokelau</td>\n",
       "      <td>800</td>\n",
       "      <td>2008.0</td>\n",
       "      <td>NaN</td>\n",
       "      <td>NaN</td>\n",
       "    </tr>\n",
       "    <tr>\n",
       "      <th>251</th>\n",
       "      <td>218</td>\n",
       "      <td>Christmas Island</td>\n",
       "      <td>464</td>\n",
       "      <td>2001.0</td>\n",
       "      <td>NaN</td>\n",
       "      <td>NaN</td>\n",
       "    </tr>\n",
       "  </tbody>\n",
       "</table>\n",
       "<p>252 rows × 6 columns</p>\n",
       "</div>"
      ],
      "text/plain": [
       "        #                                        COUNTRY         AMOUNT  \\\n",
       "0       1                                          China    389 million   \n",
       "1       2                                  United States    245 million   \n",
       "2       3                                          Japan  99.18 million   \n",
       "3     NaN    Group of 7 countries (G7) average (profile)  80.32 million   \n",
       "4       4                                         Brazil  75.98 million   \n",
       "..    ...                                            ...            ...   \n",
       "247   214                                           Niue           1100   \n",
       "248  =215  Saint Helena, Ascension, and Tristan da Cunha            900   \n",
       "249  =215                                   Saint Helena            900   \n",
       "250   217                                        Tokelau            800   \n",
       "251   218                               Christmas Island            464   \n",
       "\n",
       "       DATE  GRAPH  HISTORY  \n",
       "0    2009.0    NaN      NaN  \n",
       "1    2009.0    NaN      NaN  \n",
       "2    2009.0    NaN      NaN  \n",
       "3    2009.0    NaN      NaN  \n",
       "4    2009.0    NaN      NaN  \n",
       "..      ...    ...      ...  \n",
       "247  2009.0    NaN      NaN  \n",
       "248  2009.0    NaN      NaN  \n",
       "249  2009.0    NaN      NaN  \n",
       "250  2008.0    NaN      NaN  \n",
       "251  2001.0    NaN      NaN  \n",
       "\n",
       "[252 rows x 6 columns]"
      ]
     },
     "metadata": {},
     "output_type": "display_data"
    }
   ],
   "source": [
    "df = pd.read_html(str(table))[0]\n",
    "display(df)"
   ]
  },
  {
   "cell_type": "code",
   "execution_count": 14,
   "metadata": {},
   "outputs": [
    {
     "name": "stdout",
     "output_type": "stream",
     "text": [
      "['389 million' '245 million' '99.18 million' '80.32 million'\n",
      " '75.98 million' '65.12 million' '61.34 million' '59.7 million'\n",
      " '51.56 million' '51.44 million' '44.63 million' '43.99 million'\n",
      " '39.4 million' '35 million' '32.99 million' '31.02 million'\n",
      " '30.03 million' '29.09 million' '26.96 million' '25.43 million'\n",
      " '24.75 million' '23.69 million' '23.38 million' '22.54 million'\n",
      " '22.45 million' '20.43 million' '20.14 million' '20 million'\n",
      " '17.81 million' '17.48 million' '16.69 million' '16.15 million'\n",
      " '15.81 million' '15.36 million' '15.3 million' '14.87 million'\n",
      " '13.69 million' '13.59 million' '13.21 million' '12.48 million'\n",
      " '12.27 million' '10.69 million' '10.17 million' '9.77 million'\n",
      " '9.61 million' '9.37 million' '9.16 million' '8.92 million' '8.4 million'\n",
      " '8.4 million' nan '8.28 million' '8.26 million' '8.21 million'\n",
      " '8.11 million' '7.79 million' '7.6 million' '7.45 million' '7.01 million'\n",
      " '6.68 million' '6.18 million' '6.14 million' '6.14 million'\n",
      " '5.74 million' '5.71 million' '5.53 million' '5.3 million' '5.17 million'\n",
      " '5.1 million' '5.01 million' '4.97 million' '4.93 million' '4.87 million'\n",
      " '4.75 million' '4.7 million' '4.69 million' '4.66 million' '4.53 million'\n",
      " '4.51 million' '4.48 million' '4.47 million' '4.44 million'\n",
      " '4.43 million' '4.42 million' '4.2 million' '4.11 million' '4.06 million'\n",
      " '4 million' '3.69 million' '3.5 million' '3.45 million' '3.42 million'\n",
      " '3.4 million' '3.4 million' '3.35 million' '3.23 million' '3.2 million'\n",
      " '3.04 million' '2.7 million' '2.35 million' nan '2.31 million'\n",
      " '2.28 million' '2.24 million' '2.19 million' '2.1 million' '1.82 million'\n",
      " '1.78 million' '1.64 million' '1.64 million' '1.62 million'\n",
      " '1.61 million' '1.58 million' '1.5 million' '1.49 million' '1.47 million'\n",
      " '1.44 million' '1.42 million' '1.41 million' '1.38 million'\n",
      " '1.38 million' '1.3 million' '1.3 million' '1.3 million' '1.3 million'\n",
      " '1.29 million' '1.1 million' '1.1 million' '1.1 million' '1.06 million'\n",
      " '1000000' '1000000' '1000000' '1000000' '969700' '967300' '959800'\n",
      " '816200' '749600' '746000' '731700' '716400' '700000' '678000' '617300'\n",
      " '613600' '606700' '593000' '577800' '563800' nan '450000' '447300'\n",
      " '433800' '424500' '419500' '356300' '353900' '330000' '325900' '319900'\n",
      " '314900' '301600' '300000' '290000' '290000' '280000' '270200' '249800'\n",
      " '245200' '240600' '208200' '200100' '200000' '199800' '189600' '188000'\n",
      " '178100' '168100' '163000' '157800' '150000' '142900' '130100' '127500'\n",
      " '125000' '120000' '120000' '115900' '115800' '114200' '110000' '106000'\n",
      " '98800' '95000' '90100' '90000' '86400' '85000' '80400' '78500' '76800'\n",
      " '76000' '75000' '67200' '65000' '54000' '50000' '48300' '37500' '37100'\n",
      " '36000' '36000' '32000' '30000' '29500' '28000' '26700' '25900' '25000'\n",
      " '24300' '24000' '23000' '23000' '23000' '22600' '20200' '20000' '17000'\n",
      " '17000' '17000' '17000' '14900' '14400' '10000' '9000' '8400' '7800'\n",
      " '6000' '4200' '4000' '3700' '2900' '2200' '2100' '1300' '1200' '1100'\n",
      " '900' '900' '800' '464']\n"
     ]
    }
   ],
   "source": [
    "amount = df.AMOUNT.values\n",
    "print(amount)"
   ]
  },
  {
   "cell_type": "code",
   "execution_count": 15,
   "metadata": {},
   "outputs": [
    {
     "data": {
      "text/plain": [
       "False"
      ]
     },
     "execution_count": 15,
     "metadata": {},
     "output_type": "execute_result"
    }
   ],
   "source": [
    "type(amount[50])\n",
    "np.isnan(50)"
   ]
  },
  {
   "cell_type": "code",
   "execution_count": 16,
   "metadata": {},
   "outputs": [
    {
     "name": "stdout",
     "output_type": "stream",
     "text": [
      "[389000000.0, 245000000.0, 99180000.0, 80320000.0, 75980000.0, 65120000.00000001, 61340000.0, 59700000.0, 51560000.0, 51440000.0, 44630000.0, 43990000.0, 39400000.0, 35000000.0, 32990000.000000004, 31020000.0, 30030000.0, 29090000.0, 26960000.0, 25430000.0, 24750000.0, 23690000.0, 23380000.0, 22540000.0, 22450000.0, 20430000.0, 20140000.0, 20000000.0, 17810000.0, 17480000.0, 16690000.000000002, 16149999.999999998, 15810000.0, 15360000.0, 15300000.0, 14870000.0, 13690000.0, 13590000.0, 13210000.0, 12480000.0, 12270000.0, 10690000.0, 10170000.0, 9770000.0, 9610000.0, 9370000.0, 9160000.0, 8920000.0, 8400000.0, 8400000.0, 8400000.0, 8279999.999999999, 8260000.0, 8210000.000000001, 8109999.999999999, 7790000.0, 7600000.0, 7450000.0, 7010000.0, 6680000.0, 6180000.0, 6140000.0, 6140000.0, 5740000.0, 5710000.0, 5530000.0, 5300000.0, 5170000.0, 5100000.0, 5010000.0, 4970000.0, 4930000.0, 4870000.0, 4750000.0, 4700000.0, 4690000.0, 4660000.0, 4530000.0, 4510000.0, 4480000.0, 4470000.0, 4440000.0, 4430000.0, 4420000.0, 4200000.0, 4110000.0000000005, 4059999.9999999995, 4000000.0, 3690000.0, 3500000.0, 3450000.0, 3420000.0, 3400000.0, 3400000.0, 3350000.0, 3230000.0, 3200000.0, 3040000.0, 2700000.0, 2350000.0, 2350000.0, 2310000.0, 2280000.0, 2240000.0, 2190000.0, 2100000.0, 1820000.0, 1780000.0, 1640000.0, 1640000.0, 1620000.0, 1610000.0, 1580000.0, 1500000.0, 1490000.0, 1470000.0, 1440000.0, 1420000.0, 1410000.0, 1380000.0, 1380000.0, 1300000.0, 1300000.0, 1300000.0, 1300000.0, 1290000.0, 1100000.0, 1100000.0, 1100000.0, 1060000.0, 1000000.0, 1000000.0, 1000000.0, 1000000.0, 969700.0, 967300.0, 959800.0, 816200.0, 749600.0, 746000.0, 731700.0, 716400.0, 700000.0, 678000.0, 617300.0, 613600.0, 606700.0, 593000.0, 577800.0, 563800.0, 563800.0, 450000.0, 447300.0, 433800.0, 424500.0, 419500.0, 356300.0, 353900.0, 330000.0, 325900.0, 319900.0, 314900.0, 301600.0, 300000.0, 290000.0, 290000.0, 280000.0, 270200.0, 249800.0, 245200.0, 240600.0, 208200.0, 200100.0, 200000.0, 199800.0, 189600.0, 188000.0, 178100.0, 168100.0, 163000.0, 157800.0, 150000.0, 142900.0, 130100.0, 127500.0, 125000.0, 120000.0, 120000.0, 115900.0, 115800.0, 114200.0, 110000.0, 106000.0, 98800.0, 95000.0, 90100.0, 90000.0, 86400.0, 85000.0, 80400.0, 78500.0, 76800.0, 76000.0, 75000.0, 67200.0, 65000.0, 54000.0, 50000.0, 48300.0, 37500.0, 37100.0, 36000.0, 36000.0, 32000.0, 30000.0, 29500.0, 28000.0, 26700.0, 25900.0, 25000.0, 24300.0, 24000.0, 23000.0, 23000.0, 23000.0, 22600.0, 20200.0, 20000.0, 17000.0, 17000.0, 17000.0, 17000.0, 14900.0, 14400.0, 10000.0, 9000.0, 8400.0, 7800.0, 6000.0, 4200.0, 4000.0, 3700.0, 2900.0, 2200.0, 2100.0, 1300.0, 1200.0, 1100.0, 900.0, 900.0, 800.0, 464.0]\n"
     ]
    }
   ],
   "source": [
    "amount_list = []\n",
    "i = 0\n",
    "for text_number in amount:\n",
    "    if (type(text_number) == str):\n",
    "        if \"million\" in text_number:\n",
    "            number = float(text_number.replace(\" million\",\"\"))*1000000\n",
    "        else:\n",
    "            number = float(text_number)\n",
    "    amount_list.append(number)\n",
    "\n",
    "print(amount_list)"
   ]
  },
  {
   "cell_type": "code",
   "execution_count": 17,
   "metadata": {},
   "outputs": [
    {
     "data": {
      "image/png": "[encoded data removed]",
      "text/plain": [
       "<Figure size 432x288 with 1 Axes>"
      ]
     },
     "metadata": {
      "needs_background": "light"
     },
     "output_type": "display_data"
    }
   ],
   "source": [
    "import matplotlib.pyplot as plt\n",
    "amount_array = np.array(amount_list)\n",
    "plt.plot(amount_array)\n",
    "plt.grid()"
   ]
  },
  {
   "cell_type": "markdown",
   "metadata": {},
   "source": [
    "#### __Extra 1: Analizar la distribución de los datos__"
   ]
  },
  {
   "cell_type": "markdown",
   "metadata": {},
   "source": [
    "__A. Visualizamos el histograma de los datos__"
   ]
  },
  {
   "cell_type": "code",
   "execution_count": 18,
   "metadata": {},
   "outputs": [
    {
     "data": {
      "image/png": "[encoded data removed]",
      "text/plain": [
       "<Figure size 1440x360 with 1 Axes>"
      ]
     },
     "metadata": {
      "needs_background": "light"
     },
     "output_type": "display_data"
    }
   ],
   "source": [
    "plt.figure(figsize=(20,5))\n",
    "plt.hist(amount_array, bins=200)\n",
    "plt.show()"
   ]
  },
  {
   "cell_type": "markdown",
   "metadata": {},
   "source": [
    "__B. Aproximamos su curva de distribución (pdf)__"
   ]
  },
  {
   "cell_type": "code",
   "execution_count": 28,
   "metadata": {},
   "outputs": [
    {
     "name": "stderr",
     "output_type": "stream",
     "text": [
      "/tmp/ipykernel_155640/3323155800.py:3: UserWarning: \n",
      "\n",
      "The `bw` parameter is deprecated in favor of `bw_method` and `bw_adjust`.\n",
      "Setting `bw_method=0.5`, but please see the docs for the new parameters\n",
      "and update your code. This will become an error in seaborn v0.13.0.\n",
      "\n",
      "  sns.kdeplot(np.array(amount_array), bw=0.5)\n"
     ]
    },
    {
     "data": {
      "text/plain": [
       "<AxesSubplot:ylabel='Density'>"
      ]
     },
     "execution_count": 28,
     "metadata": {},
     "output_type": "execute_result"
    },
    {
     "data": {
      "image/png": "[encoded data removed]",
      "text/plain": [
       "<Figure size 432x288 with 1 Axes>"
      ]
     },
     "metadata": {},
     "output_type": "display_data"
    }
   ],
   "source": [
    "import seaborn as sns\n",
    "sns.set_style('whitegrid')\n",
    "sns.kdeplot(np.array(amount_array), bw=0.5)"
   ]
  },
  {
   "cell_type": "markdown",
   "metadata": {},
   "source": [
    "#### Ejercicio 3: Acceder a una web más compleja para hacer minería de estructura\n",
    "Vamos a acceder a una página para ver todos los enlaces que cuelgan de ella"
   ]
  },
  {
   "cell_type": "markdown",
   "metadata": {},
   "source": [
    "__1. Accedemos a una web compleja, revisamos el estatus de petición y la parseamos con Beautiful Soup (tipo html)__"
   ]
  },
  {
   "cell_type": "code",
   "execution_count": 20,
   "metadata": {},
   "outputs": [
    {
     "name": "stdout",
     "output_type": "stream",
     "text": [
      "Web accedida: https://tyris-software.com/\n",
      "status code = 200\n"
     ]
    }
   ],
   "source": [
    "import pandas as pd\n",
    "import numpy as np\n",
    "import requests\n",
    "from bs4 import BeautifulSoup\n",
    "\n",
    "url = \"https://tyris-software.com/\"\n",
    "resp = requests.get(url)\n",
    "print(f\"Web accedida: {url}\")\n",
    "print(f\"status code = {resp.status_code}\")\n",
    "soup = BeautifulSoup(resp.text, 'html.parser')"
   ]
  },
  {
   "cell_type": "markdown",
   "metadata": {},
   "source": [
    "__2. Buscamos todos los tags que contengan el atributo href --> find_all(atributo=True)__"
   ]
  },
  {
   "cell_type": "code",
   "execution_count": 21,
   "metadata": {},
   "outputs": [
    {
     "name": "stdout",
     "output_type": "stream",
     "text": [
      "Se han encontrado 107 tags que contienen el atributo 'href'\n",
      "\n",
      "Vemos el primero:\n",
      "<link href=\"https://gmpg.org/xfn/11\" rel=\"profile\"/>\n"
     ]
    }
   ],
   "source": [
    "tags_with_href = soup.find_all(href=True)\n",
    "print(f\"Se han encontrado {len(tags_with_href)} tags que contienen el atributo 'href'\\n\")\n",
    "print(\"Vemos el primero:\")\n",
    "print(tags_with_href[0])"
   ]
  },
  {
   "cell_type": "markdown",
   "metadata": {},
   "source": [
    "__3. Analizamos los links, y nos quedamos con aquellos que cuelgan directamente de la página principal --> tag.get('atributo')__"
   ]
  },
  {
   "cell_type": "code",
   "execution_count": 22,
   "metadata": {},
   "outputs": [
    {
     "name": "stdout",
     "output_type": "stream",
     "text": [
      "https://tyris-software.com/\n",
      "https://tyris-software.com/en/\n",
      "https://tyris-software.com/\n",
      "https://tyris-software.com/feed/\n",
      "https://tyris-software.com/comments/feed/\n",
      "https://tyris-software.com/wp-includes/css/dist/block-library/style.min.css?ver=5.6.10/\n",
      "https://tyris-software.com/wp-includes/css/dist/block-library/theme.min.css?ver=5.6.10/\n",
      "https://tyris-software.com/wp-content/plugins/complianz-gdpr/assets/css/cookieblocker.min.css?ver=6.3.4/\n",
      "https://tyris-software.com/wp-content/plugins/header-footer-elementor/assets/css/header-footer-elementor.css?ver=1.6.13/\n",
      "https://tyris-software.com/wp-content/plugins/elementor/assets/lib/eicons/css/elementor-icons.min.css?ver=5.14.0/\n",
      "https://tyris-software.com/wp-content/plugins/elementor/assets/css/frontend-legacy.min.css?ver=3.5.6/\n",
      "https://tyris-software.com/wp-content/plugins/elementor/assets/css/frontend.min.css?ver=3.5.6/\n",
      "https://tyris-software.com/wp-content/uploads/elementor/css/post-1671.css?ver=1648475579/\n",
      "https://tyris-software.com/wp-content/plugins/elementor-pro/assets/css/frontend.min.css?ver=3.6.4/\n",
      "https://tyris-software.com/wp-content/plugins/elementor/assets/lib/font-awesome/css/all.min.css?ver=4.9.36/\n",
      "https://tyris-software.com/wp-content/plugins/elementor/assets/lib/font-awesome/css/v4-shims.min.css?ver=3.5.6/\n",
      "https://tyris-software.com/wp-content/uploads/elementor/css/post-2057.css?ver=1649405500/\n",
      "https://tyris-software.com/wp-content/plugins/fluentform/public/css/fluent-forms-elementor-widget.css?ver=4.3.20/\n",
      "https://tyris-software.com/wp-content/plugins/header-footer-elementor/inc/widgets-css/frontend.css?ver=1.6.13/\n",
      "https://tyris-software.com/wp-content/uploads/elementor/css/post-148.css?ver=1648475579/\n",
      "https://tyris-software.com/wp-content/uploads/elementor/css/post-1228.css?ver=1648475579/\n",
      "https://tyris-software.com/wp-content/themes/oceanwp/assets/fonts/fontawesome/css/all.min.css?ver=5.15.1/\n",
      "https://tyris-software.com/wp-content/themes/oceanwp/assets/css/third/simple-line-icons.min.css?ver=2.4.0/\n",
      "https://tyris-software.com/wp-content/themes/oceanwp/assets/css/style.min.css?ver=3.1.3/\n",
      "https://tyris-software.com/wp-content/plugins/essential-addons-for-elementor-lite/assets/front-end/css/view/general.min.css?ver=5.3.2/\n",
      "https://tyris-software.com/wp-content/plugins/navmenu-addon-for-elementor/assets/css/frontend.min.css?ver=1.1.6/\n",
      "https://tyris-software.com/wp-content/plugins/ocean-extra/assets/css/widgets.css?ver=5.6.10/\n",
      "https://tyris-software.com/wp-content/uploads/oceanwp/custom-style.css?ver=5.6.10/\n",
      "https://tyris-software.com/wp-content/plugins/elementor/assets/lib/font-awesome/css/fontawesome.min.css?ver=5.15.3/\n",
      "https://tyris-software.com/wp-content/plugins/elementor/assets/lib/font-awesome/css/solid.min.css?ver=5.15.3/\n",
      "https://tyris-software.com/wp-content/plugins/elementor/assets/lib/font-awesome/css/regular.min.css?ver=5.15.3/\n",
      "https://tyris-software.com/wp-json/\n",
      "https://tyris-software.com/wp-json/wp/v2/pages/2057/\n",
      "https://tyris-software.com/xmlrpc.php?rsd/\n",
      "https://tyris-software.com/wp-includes/wlwmanifest.xml/\n",
      "https://tyris-software.com/\n",
      "https://tyris-software.com/wp-json/oembed/1.0/embed?url=https%3A%2F%2Ftyris-software.com%2F/\n",
      "https://tyris-software.com/wp-json/oembed/1.0/embed?url=https%3A%2F%2Ftyris-software.com%2F&format=xml/\n",
      "https://tyris-software.com/wp-content/uploads/2019/05/cropped-favicon-32x32.png/\n",
      "https://tyris-software.com/wp-content/uploads/2019/05/cropped-favicon-192x192.png/\n",
      "https://tyris-software.com/wp-content/uploads/2019/05/cropped-favicon-180x180.png/\n",
      "https://tyris-software.com/servicios/\n",
      "https://tyris-software.com/laboratorio/\n",
      "https://tyris-software.com/industria/\n",
      "https://tyris-software.com/negocio/\n",
      "https://tyris-software.com/television/\n",
      "https://tyris-software.com/academy/\n",
      "https://tyris-software.com/noticias/\n",
      "https://tyris-software.com/contacto/\n",
      "https://tyris-software.com/unete-al-equipo-tyris/\n",
      "https://tyris-software.com/en/\n",
      "https://tyris-software.com/servicios/\n",
      "https://tyris-software.com/laboratorio/\n",
      "https://tyris-software.com/industria/\n",
      "https://tyris-software.com/negocio/\n",
      "https://tyris-software.com/television/\n",
      "https://tyris-software.com/academy/\n",
      "https://tyris-software.com/noticias/\n",
      "https://tyris-software.com/contacto/\n",
      "https://tyris-software.com/unete-al-equipo-tyris/\n",
      "https://tyris-software.com/en/\n",
      "https://tyris-software.com/laboratorio/\n",
      "https://tyris-software.com/laboratorio/\n",
      "https://tyris-software.com/industria/\n",
      "https://tyris-software.com/industria/\n",
      "https://tyris-software.com/negocio/\n",
      "https://tyris-software.com/negocio/\n",
      "https://tyris-software.com/television/\n",
      "https://tyris-software.com/television/\n",
      "https://tyris-software.com/coste-plataforma-ott/\n",
      "https://tyris-software.com/coste-plataforma-ott/\n",
      "https://tyris-software.com/contacto-2/\n",
      "https://tyris-software.com/newsletter/\n",
      "https://tyris-software.com/terminos-y-condiciones/\n",
      "https://tyris-software.com/laboratorio/\n",
      "https://tyris-software.com/negocio/\n",
      "https://tyris-software.com/wp-content/plugins/elementor/assets/lib/animations/animations.min.css?ver=3.5.6/\n",
      "Hay 77 enlances internos en la pagina principal\n"
     ]
    }
   ],
   "source": [
    "links = []\n",
    "for tag in tags_with_href:\n",
    "    link = tag.get('href')\n",
    "    if link.find(url)>=0:\n",
    "        if link[-1] != \"/\":\n",
    "            link = link+\"/\"\n",
    "        links.append(link)\n",
    "        print(link)\n",
    "        \n",
    "print(f\"Hay {len(links)} enlances internos en la pagina principal\")"
   ]
  },
  {
   "cell_type": "markdown",
   "metadata": {},
   "source": [
    "__4. Eliminamos los enlaces repetidos__"
   ]
  },
  {
   "cell_type": "code",
   "execution_count": 23,
   "metadata": {},
   "outputs": [
    {
     "name": "stdout",
     "output_type": "stream",
     "text": [
      "Hay 53 enlaces únicos:\n",
      "['https://tyris-software.com/' 'https://tyris-software.com/academy/'\n",
      " 'https://tyris-software.com/comments/feed/'\n",
      " 'https://tyris-software.com/contacto-2/'\n",
      " 'https://tyris-software.com/contacto/'\n",
      " 'https://tyris-software.com/coste-plataforma-ott/'\n",
      " 'https://tyris-software.com/en/' 'https://tyris-software.com/feed/'\n",
      " 'https://tyris-software.com/industria/'\n",
      " 'https://tyris-software.com/laboratorio/'\n",
      " 'https://tyris-software.com/negocio/'\n",
      " 'https://tyris-software.com/newsletter/'\n",
      " 'https://tyris-software.com/noticias/'\n",
      " 'https://tyris-software.com/servicios/'\n",
      " 'https://tyris-software.com/television/'\n",
      " 'https://tyris-software.com/terminos-y-condiciones/'\n",
      " 'https://tyris-software.com/unete-al-equipo-tyris/'\n",
      " 'https://tyris-software.com/wp-content/plugins/complianz-gdpr/assets/css/cookieblocker.min.css?ver=6.3.4/'\n",
      " 'https://tyris-software.com/wp-content/plugins/elementor-pro/assets/css/frontend.min.css?ver=3.6.4/'\n",
      " 'https://tyris-software.com/wp-content/plugins/elementor/assets/css/frontend-legacy.min.css?ver=3.5.6/'\n",
      " 'https://tyris-software.com/wp-content/plugins/elementor/assets/css/frontend.min.css?ver=3.5.6/'\n",
      " 'https://tyris-software.com/wp-content/plugins/elementor/assets/lib/animations/animations.min.css?ver=3.5.6/'\n",
      " 'https://tyris-software.com/wp-content/plugins/elementor/assets/lib/eicons/css/elementor-icons.min.css?ver=5.14.0/'\n",
      " 'https://tyris-software.com/wp-content/plugins/elementor/assets/lib/font-awesome/css/all.min.css?ver=4.9.36/'\n",
      " 'https://tyris-software.com/wp-content/plugins/elementor/assets/lib/font-awesome/css/fontawesome.min.css?ver=5.15.3/'\n",
      " 'https://tyris-software.com/wp-content/plugins/elementor/assets/lib/font-awesome/css/regular.min.css?ver=5.15.3/'\n",
      " 'https://tyris-software.com/wp-content/plugins/elementor/assets/lib/font-awesome/css/solid.min.css?ver=5.15.3/'\n",
      " 'https://tyris-software.com/wp-content/plugins/elementor/assets/lib/font-awesome/css/v4-shims.min.css?ver=3.5.6/'\n",
      " 'https://tyris-software.com/wp-content/plugins/essential-addons-for-elementor-lite/assets/front-end/css/view/general.min.css?ver=5.3.2/'\n",
      " 'https://tyris-software.com/wp-content/plugins/fluentform/public/css/fluent-forms-elementor-widget.css?ver=4.3.20/'\n",
      " 'https://tyris-software.com/wp-content/plugins/header-footer-elementor/assets/css/header-footer-elementor.css?ver=1.6.13/'\n",
      " 'https://tyris-software.com/wp-content/plugins/header-footer-elementor/inc/widgets-css/frontend.css?ver=1.6.13/'\n",
      " 'https://tyris-software.com/wp-content/plugins/navmenu-addon-for-elementor/assets/css/frontend.min.css?ver=1.1.6/'\n",
      " 'https://tyris-software.com/wp-content/plugins/ocean-extra/assets/css/widgets.css?ver=5.6.10/'\n",
      " 'https://tyris-software.com/wp-content/themes/oceanwp/assets/css/style.min.css?ver=3.1.3/'\n",
      " 'https://tyris-software.com/wp-content/themes/oceanwp/assets/css/third/simple-line-icons.min.css?ver=2.4.0/'\n",
      " 'https://tyris-software.com/wp-content/themes/oceanwp/assets/fonts/fontawesome/css/all.min.css?ver=5.15.1/'\n",
      " 'https://tyris-software.com/wp-content/uploads/2019/05/cropped-favicon-180x180.png/'\n",
      " 'https://tyris-software.com/wp-content/uploads/2019/05/cropped-favicon-192x192.png/'\n",
      " 'https://tyris-software.com/wp-content/uploads/2019/05/cropped-favicon-32x32.png/'\n",
      " 'https://tyris-software.com/wp-content/uploads/elementor/css/post-1228.css?ver=1648475579/'\n",
      " 'https://tyris-software.com/wp-content/uploads/elementor/css/post-148.css?ver=1648475579/'\n",
      " 'https://tyris-software.com/wp-content/uploads/elementor/css/post-1671.css?ver=1648475579/'\n",
      " 'https://tyris-software.com/wp-content/uploads/elementor/css/post-2057.css?ver=1649405500/'\n",
      " 'https://tyris-software.com/wp-content/uploads/oceanwp/custom-style.css?ver=5.6.10/'\n",
      " 'https://tyris-software.com/wp-includes/css/dist/block-library/style.min.css?ver=5.6.10/'\n",
      " 'https://tyris-software.com/wp-includes/css/dist/block-library/theme.min.css?ver=5.6.10/'\n",
      " 'https://tyris-software.com/wp-includes/wlwmanifest.xml/'\n",
      " 'https://tyris-software.com/wp-json/'\n",
      " 'https://tyris-software.com/wp-json/oembed/1.0/embed?url=https%3A%2F%2Ftyris-software.com%2F&format=xml/'\n",
      " 'https://tyris-software.com/wp-json/oembed/1.0/embed?url=https%3A%2F%2Ftyris-software.com%2F/'\n",
      " 'https://tyris-software.com/wp-json/wp/v2/pages/2057/'\n",
      " 'https://tyris-software.com/xmlrpc.php?rsd/']\n"
     ]
    }
   ],
   "source": [
    "import numpy as np\n",
    "links_array = np.array(links)\n",
    "unique_links = np.unique(links_array)\n",
    "print(f\"Hay {len(unique_links)} enlaces únicos:\")\n",
    "print(unique_links)"
   ]
  },
  {
   "cell_type": "markdown",
   "metadata": {},
   "source": [
    "__5. Generamos el mapa de relaciones de enlaces y lo guardamos en un dataframe__"
   ]
  },
  {
   "cell_type": "code",
   "execution_count": 24,
   "metadata": {},
   "outputs": [
    {
     "data": {
      "text/html": [
       "<div>\n",
       "<style scoped>\n",
       "    .dataframe tbody tr th:only-of-type {\n",
       "        vertical-align: middle;\n",
       "    }\n",
       "\n",
       "    .dataframe tbody tr th {\n",
       "        vertical-align: top;\n",
       "    }\n",
       "\n",
       "    .dataframe thead th {\n",
       "        text-align: right;\n",
       "    }\n",
       "</style>\n",
       "<table border=\"1\" class=\"dataframe\">\n",
       "  <thead>\n",
       "    <tr style=\"text-align: right;\">\n",
       "      <th></th>\n",
       "      <th>0</th>\n",
       "      <th>1</th>\n",
       "      <th>2</th>\n",
       "      <th>3</th>\n",
       "    </tr>\n",
       "  </thead>\n",
       "  <tbody>\n",
       "    <tr>\n",
       "      <th>0</th>\n",
       "      <td>tyris-software.com</td>\n",
       "      <td></td>\n",
       "      <td></td>\n",
       "      <td></td>\n",
       "    </tr>\n",
       "    <tr>\n",
       "      <th>1</th>\n",
       "      <td>tyris-software.com</td>\n",
       "      <td>academy</td>\n",
       "      <td></td>\n",
       "      <td></td>\n",
       "    </tr>\n",
       "    <tr>\n",
       "      <th>2</th>\n",
       "      <td>tyris-software.com</td>\n",
       "      <td>comments</td>\n",
       "      <td>feed</td>\n",
       "      <td></td>\n",
       "    </tr>\n",
       "    <tr>\n",
       "      <th>3</th>\n",
       "      <td>tyris-software.com</td>\n",
       "      <td>contacto-2</td>\n",
       "      <td></td>\n",
       "      <td></td>\n",
       "    </tr>\n",
       "    <tr>\n",
       "      <th>4</th>\n",
       "      <td>tyris-software.com</td>\n",
       "      <td>contacto</td>\n",
       "      <td></td>\n",
       "      <td></td>\n",
       "    </tr>\n",
       "    <tr>\n",
       "      <th>5</th>\n",
       "      <td>tyris-software.com</td>\n",
       "      <td>coste-plataforma-ott</td>\n",
       "      <td></td>\n",
       "      <td></td>\n",
       "    </tr>\n",
       "    <tr>\n",
       "      <th>6</th>\n",
       "      <td>tyris-software.com</td>\n",
       "      <td>en</td>\n",
       "      <td></td>\n",
       "      <td></td>\n",
       "    </tr>\n",
       "    <tr>\n",
       "      <th>7</th>\n",
       "      <td>tyris-software.com</td>\n",
       "      <td>feed</td>\n",
       "      <td></td>\n",
       "      <td></td>\n",
       "    </tr>\n",
       "    <tr>\n",
       "      <th>8</th>\n",
       "      <td>tyris-software.com</td>\n",
       "      <td>industria</td>\n",
       "      <td></td>\n",
       "      <td></td>\n",
       "    </tr>\n",
       "    <tr>\n",
       "      <th>9</th>\n",
       "      <td>tyris-software.com</td>\n",
       "      <td>laboratorio</td>\n",
       "      <td></td>\n",
       "      <td></td>\n",
       "    </tr>\n",
       "    <tr>\n",
       "      <th>10</th>\n",
       "      <td>tyris-software.com</td>\n",
       "      <td>negocio</td>\n",
       "      <td></td>\n",
       "      <td></td>\n",
       "    </tr>\n",
       "    <tr>\n",
       "      <th>11</th>\n",
       "      <td>tyris-software.com</td>\n",
       "      <td>newsletter</td>\n",
       "      <td></td>\n",
       "      <td></td>\n",
       "    </tr>\n",
       "    <tr>\n",
       "      <th>12</th>\n",
       "      <td>tyris-software.com</td>\n",
       "      <td>noticias</td>\n",
       "      <td></td>\n",
       "      <td></td>\n",
       "    </tr>\n",
       "    <tr>\n",
       "      <th>13</th>\n",
       "      <td>tyris-software.com</td>\n",
       "      <td>servicios</td>\n",
       "      <td></td>\n",
       "      <td></td>\n",
       "    </tr>\n",
       "    <tr>\n",
       "      <th>14</th>\n",
       "      <td>tyris-software.com</td>\n",
       "      <td>television</td>\n",
       "      <td></td>\n",
       "      <td></td>\n",
       "    </tr>\n",
       "    <tr>\n",
       "      <th>15</th>\n",
       "      <td>tyris-software.com</td>\n",
       "      <td>terminos-y-condiciones</td>\n",
       "      <td></td>\n",
       "      <td></td>\n",
       "    </tr>\n",
       "    <tr>\n",
       "      <th>16</th>\n",
       "      <td>tyris-software.com</td>\n",
       "      <td>unete-al-equipo-tyris</td>\n",
       "      <td></td>\n",
       "      <td></td>\n",
       "    </tr>\n",
       "    <tr>\n",
       "      <th>17</th>\n",
       "      <td>tyris-software.com</td>\n",
       "      <td>wp-content</td>\n",
       "      <td>plugins</td>\n",
       "      <td>complianz-gdpr</td>\n",
       "    </tr>\n",
       "    <tr>\n",
       "      <th>18</th>\n",
       "      <td>tyris-software.com</td>\n",
       "      <td>wp-content</td>\n",
       "      <td>plugins</td>\n",
       "      <td>elementor-pro</td>\n",
       "    </tr>\n",
       "    <tr>\n",
       "      <th>19</th>\n",
       "      <td>tyris-software.com</td>\n",
       "      <td>wp-content</td>\n",
       "      <td>plugins</td>\n",
       "      <td>elementor</td>\n",
       "    </tr>\n",
       "    <tr>\n",
       "      <th>20</th>\n",
       "      <td>tyris-software.com</td>\n",
       "      <td>wp-content</td>\n",
       "      <td>plugins</td>\n",
       "      <td>elementor</td>\n",
       "    </tr>\n",
       "    <tr>\n",
       "      <th>21</th>\n",
       "      <td>tyris-software.com</td>\n",
       "      <td>wp-content</td>\n",
       "      <td>plugins</td>\n",
       "      <td>elementor</td>\n",
       "    </tr>\n",
       "    <tr>\n",
       "      <th>22</th>\n",
       "      <td>tyris-software.com</td>\n",
       "      <td>wp-content</td>\n",
       "      <td>plugins</td>\n",
       "      <td>elementor</td>\n",
       "    </tr>\n",
       "    <tr>\n",
       "      <th>23</th>\n",
       "      <td>tyris-software.com</td>\n",
       "      <td>wp-content</td>\n",
       "      <td>plugins</td>\n",
       "      <td>elementor</td>\n",
       "    </tr>\n",
       "    <tr>\n",
       "      <th>24</th>\n",
       "      <td>tyris-software.com</td>\n",
       "      <td>wp-content</td>\n",
       "      <td>plugins</td>\n",
       "      <td>elementor</td>\n",
       "    </tr>\n",
       "    <tr>\n",
       "      <th>25</th>\n",
       "      <td>tyris-software.com</td>\n",
       "      <td>wp-content</td>\n",
       "      <td>plugins</td>\n",
       "      <td>elementor</td>\n",
       "    </tr>\n",
       "    <tr>\n",
       "      <th>26</th>\n",
       "      <td>tyris-software.com</td>\n",
       "      <td>wp-content</td>\n",
       "      <td>plugins</td>\n",
       "      <td>elementor</td>\n",
       "    </tr>\n",
       "    <tr>\n",
       "      <th>27</th>\n",
       "      <td>tyris-software.com</td>\n",
       "      <td>wp-content</td>\n",
       "      <td>plugins</td>\n",
       "      <td>elementor</td>\n",
       "    </tr>\n",
       "    <tr>\n",
       "      <th>28</th>\n",
       "      <td>tyris-software.com</td>\n",
       "      <td>wp-content</td>\n",
       "      <td>plugins</td>\n",
       "      <td>essential-addons-for-elementor-lite</td>\n",
       "    </tr>\n",
       "    <tr>\n",
       "      <th>29</th>\n",
       "      <td>tyris-software.com</td>\n",
       "      <td>wp-content</td>\n",
       "      <td>plugins</td>\n",
       "      <td>fluentform</td>\n",
       "    </tr>\n",
       "    <tr>\n",
       "      <th>30</th>\n",
       "      <td>tyris-software.com</td>\n",
       "      <td>wp-content</td>\n",
       "      <td>plugins</td>\n",
       "      <td>header-footer-elementor</td>\n",
       "    </tr>\n",
       "    <tr>\n",
       "      <th>31</th>\n",
       "      <td>tyris-software.com</td>\n",
       "      <td>wp-content</td>\n",
       "      <td>plugins</td>\n",
       "      <td>header-footer-elementor</td>\n",
       "    </tr>\n",
       "    <tr>\n",
       "      <th>32</th>\n",
       "      <td>tyris-software.com</td>\n",
       "      <td>wp-content</td>\n",
       "      <td>plugins</td>\n",
       "      <td>navmenu-addon-for-elementor</td>\n",
       "    </tr>\n",
       "    <tr>\n",
       "      <th>33</th>\n",
       "      <td>tyris-software.com</td>\n",
       "      <td>wp-content</td>\n",
       "      <td>plugins</td>\n",
       "      <td>ocean-extra</td>\n",
       "    </tr>\n",
       "    <tr>\n",
       "      <th>34</th>\n",
       "      <td>tyris-software.com</td>\n",
       "      <td>wp-content</td>\n",
       "      <td>themes</td>\n",
       "      <td>oceanwp</td>\n",
       "    </tr>\n",
       "    <tr>\n",
       "      <th>35</th>\n",
       "      <td>tyris-software.com</td>\n",
       "      <td>wp-content</td>\n",
       "      <td>themes</td>\n",
       "      <td>oceanwp</td>\n",
       "    </tr>\n",
       "    <tr>\n",
       "      <th>36</th>\n",
       "      <td>tyris-software.com</td>\n",
       "      <td>wp-content</td>\n",
       "      <td>themes</td>\n",
       "      <td>oceanwp</td>\n",
       "    </tr>\n",
       "    <tr>\n",
       "      <th>37</th>\n",
       "      <td>tyris-software.com</td>\n",
       "      <td>wp-content</td>\n",
       "      <td>uploads</td>\n",
       "      <td>2019</td>\n",
       "    </tr>\n",
       "    <tr>\n",
       "      <th>38</th>\n",
       "      <td>tyris-software.com</td>\n",
       "      <td>wp-content</td>\n",
       "      <td>uploads</td>\n",
       "      <td>2019</td>\n",
       "    </tr>\n",
       "    <tr>\n",
       "      <th>39</th>\n",
       "      <td>tyris-software.com</td>\n",
       "      <td>wp-content</td>\n",
       "      <td>uploads</td>\n",
       "      <td>2019</td>\n",
       "    </tr>\n",
       "    <tr>\n",
       "      <th>40</th>\n",
       "      <td>tyris-software.com</td>\n",
       "      <td>wp-content</td>\n",
       "      <td>uploads</td>\n",
       "      <td>elementor</td>\n",
       "    </tr>\n",
       "    <tr>\n",
       "      <th>41</th>\n",
       "      <td>tyris-software.com</td>\n",
       "      <td>wp-content</td>\n",
       "      <td>uploads</td>\n",
       "      <td>elementor</td>\n",
       "    </tr>\n",
       "    <tr>\n",
       "      <th>42</th>\n",
       "      <td>tyris-software.com</td>\n",
       "      <td>wp-content</td>\n",
       "      <td>uploads</td>\n",
       "      <td>elementor</td>\n",
       "    </tr>\n",
       "    <tr>\n",
       "      <th>43</th>\n",
       "      <td>tyris-software.com</td>\n",
       "      <td>wp-content</td>\n",
       "      <td>uploads</td>\n",
       "      <td>elementor</td>\n",
       "    </tr>\n",
       "    <tr>\n",
       "      <th>44</th>\n",
       "      <td>tyris-software.com</td>\n",
       "      <td>wp-content</td>\n",
       "      <td>uploads</td>\n",
       "      <td>oceanwp</td>\n",
       "    </tr>\n",
       "    <tr>\n",
       "      <th>45</th>\n",
       "      <td>tyris-software.com</td>\n",
       "      <td>wp-includes</td>\n",
       "      <td>css</td>\n",
       "      <td>dist</td>\n",
       "    </tr>\n",
       "    <tr>\n",
       "      <th>46</th>\n",
       "      <td>tyris-software.com</td>\n",
       "      <td>wp-includes</td>\n",
       "      <td>css</td>\n",
       "      <td>dist</td>\n",
       "    </tr>\n",
       "    <tr>\n",
       "      <th>47</th>\n",
       "      <td>tyris-software.com</td>\n",
       "      <td>wp-includes</td>\n",
       "      <td>wlwmanifest.xml</td>\n",
       "      <td></td>\n",
       "    </tr>\n",
       "    <tr>\n",
       "      <th>48</th>\n",
       "      <td>tyris-software.com</td>\n",
       "      <td>wp-json</td>\n",
       "      <td></td>\n",
       "      <td></td>\n",
       "    </tr>\n",
       "    <tr>\n",
       "      <th>49</th>\n",
       "      <td>tyris-software.com</td>\n",
       "      <td>wp-json</td>\n",
       "      <td>oembed</td>\n",
       "      <td>1.0</td>\n",
       "    </tr>\n",
       "    <tr>\n",
       "      <th>50</th>\n",
       "      <td>tyris-software.com</td>\n",
       "      <td>wp-json</td>\n",
       "      <td>oembed</td>\n",
       "      <td>1.0</td>\n",
       "    </tr>\n",
       "    <tr>\n",
       "      <th>51</th>\n",
       "      <td>tyris-software.com</td>\n",
       "      <td>wp-json</td>\n",
       "      <td>wp</td>\n",
       "      <td>v2</td>\n",
       "    </tr>\n",
       "    <tr>\n",
       "      <th>52</th>\n",
       "      <td>tyris-software.com</td>\n",
       "      <td>xmlrpc.php?rsd</td>\n",
       "      <td></td>\n",
       "      <td></td>\n",
       "    </tr>\n",
       "  </tbody>\n",
       "</table>\n",
       "</div>"
      ],
      "text/plain": [
       "                     0                       1                2  \\\n",
       "0   tyris-software.com                                            \n",
       "1   tyris-software.com                 academy                    \n",
       "2   tyris-software.com                comments             feed   \n",
       "3   tyris-software.com              contacto-2                    \n",
       "4   tyris-software.com                contacto                    \n",
       "5   tyris-software.com    coste-plataforma-ott                    \n",
       "6   tyris-software.com                      en                    \n",
       "7   tyris-software.com                    feed                    \n",
       "8   tyris-software.com               industria                    \n",
       "9   tyris-software.com             laboratorio                    \n",
       "10  tyris-software.com                 negocio                    \n",
       "11  tyris-software.com              newsletter                    \n",
       "12  tyris-software.com                noticias                    \n",
       "13  tyris-software.com               servicios                    \n",
       "14  tyris-software.com              television                    \n",
       "15  tyris-software.com  terminos-y-condiciones                    \n",
       "16  tyris-software.com   unete-al-equipo-tyris                    \n",
       "17  tyris-software.com              wp-content          plugins   \n",
       "18  tyris-software.com              wp-content          plugins   \n",
       "19  tyris-software.com              wp-content          plugins   \n",
       "20  tyris-software.com              wp-content          plugins   \n",
       "21  tyris-software.com              wp-content          plugins   \n",
       "22  tyris-software.com              wp-content          plugins   \n",
       "23  tyris-software.com              wp-content          plugins   \n",
       "24  tyris-software.com              wp-content          plugins   \n",
       "25  tyris-software.com              wp-content          plugins   \n",
       "26  tyris-software.com              wp-content          plugins   \n",
       "27  tyris-software.com              wp-content          plugins   \n",
       "28  tyris-software.com              wp-content          plugins   \n",
       "29  tyris-software.com              wp-content          plugins   \n",
       "30  tyris-software.com              wp-content          plugins   \n",
       "31  tyris-software.com              wp-content          plugins   \n",
       "32  tyris-software.com              wp-content          plugins   \n",
       "33  tyris-software.com              wp-content          plugins   \n",
       "34  tyris-software.com              wp-content           themes   \n",
       "35  tyris-software.com              wp-content           themes   \n",
       "36  tyris-software.com              wp-content           themes   \n",
       "37  tyris-software.com              wp-content          uploads   \n",
       "38  tyris-software.com              wp-content          uploads   \n",
       "39  tyris-software.com              wp-content          uploads   \n",
       "40  tyris-software.com              wp-content          uploads   \n",
       "41  tyris-software.com              wp-content          uploads   \n",
       "42  tyris-software.com              wp-content          uploads   \n",
       "43  tyris-software.com              wp-content          uploads   \n",
       "44  tyris-software.com              wp-content          uploads   \n",
       "45  tyris-software.com             wp-includes              css   \n",
       "46  tyris-software.com             wp-includes              css   \n",
       "47  tyris-software.com             wp-includes  wlwmanifest.xml   \n",
       "48  tyris-software.com                 wp-json                    \n",
       "49  tyris-software.com                 wp-json           oembed   \n",
       "50  tyris-software.com                 wp-json           oembed   \n",
       "51  tyris-software.com                 wp-json               wp   \n",
       "52  tyris-software.com          xmlrpc.php?rsd                    \n",
       "\n",
       "                                      3  \n",
       "0                                        \n",
       "1                                        \n",
       "2                                        \n",
       "3                                        \n",
       "4                                        \n",
       "5                                        \n",
       "6                                        \n",
       "7                                        \n",
       "8                                        \n",
       "9                                        \n",
       "10                                       \n",
       "11                                       \n",
       "12                                       \n",
       "13                                       \n",
       "14                                       \n",
       "15                                       \n",
       "16                                       \n",
       "17                       complianz-gdpr  \n",
       "18                        elementor-pro  \n",
       "19                            elementor  \n",
       "20                            elementor  \n",
       "21                            elementor  \n",
       "22                            elementor  \n",
       "23                            elementor  \n",
       "24                            elementor  \n",
       "25                            elementor  \n",
       "26                            elementor  \n",
       "27                            elementor  \n",
       "28  essential-addons-for-elementor-lite  \n",
       "29                           fluentform  \n",
       "30              header-footer-elementor  \n",
       "31              header-footer-elementor  \n",
       "32          navmenu-addon-for-elementor  \n",
       "33                          ocean-extra  \n",
       "34                              oceanwp  \n",
       "35                              oceanwp  \n",
       "36                              oceanwp  \n",
       "37                                 2019  \n",
       "38                                 2019  \n",
       "39                                 2019  \n",
       "40                            elementor  \n",
       "41                            elementor  \n",
       "42                            elementor  \n",
       "43                            elementor  \n",
       "44                              oceanwp  \n",
       "45                                 dist  \n",
       "46                                 dist  \n",
       "47                                       \n",
       "48                                       \n",
       "49                                  1.0  \n",
       "50                                  1.0  \n",
       "51                                   v2  \n",
       "52                                       "
      ]
     },
     "metadata": {},
     "output_type": "display_data"
    }
   ],
   "source": [
    "#Genero un dataframe vacío\n",
    "sitemap_layers = pd.DataFrame()\n",
    "\n",
    "#Genero la primera columna del dataframe eliminando todo lo que va antes de '//' y después del primer '/'\n",
    "bases = pd.Series([url.split('//')[-1].split('/')[0] for url in unique_links])\n",
    "sitemap_layers[0] = bases\n",
    "\n",
    "# Indico cuántos niveles quiero bajar para hacer mi mapa y los recorro\n",
    "layers = 3\n",
    "for layer in range(1, layers+1):\n",
    "    page_layer = []\n",
    "    for url, base in zip(unique_links, bases):\n",
    "        try:\n",
    "            page_layer.append(url.split(base)[1].split('/')[layer])\n",
    "        except:\n",
    "            # There is nothing that deep!\n",
    "            page_layer.append('')\n",
    "\n",
    "    sitemap_layers[layer] = page_layer\n",
    "\n",
    "display(sitemap_layers)"
   ]
  },
  {
   "cell_type": "markdown",
   "metadata": {},
   "source": [
    "#### __Extra 2: Visualizar el mapa de conexiones obtenido__"
   ]
  },
  {
   "cell_type": "markdown",
   "metadata": {},
   "source": [
    "__A. Preparamos un dataframe sin duplicados y que cuente el número de enlaces__"
   ]
  },
  {
   "cell_type": "code",
   "execution_count": 25,
   "metadata": {},
   "outputs": [],
   "source": [
    "# Buscar duplicados, agruparlos y contarlos\n",
    "columns_list = list(sitemap_layers.columns)\n",
    "sitemap_layers = sitemap_layers.groupby(columns_list)[0].count()\\\n",
    "                    .rename('counts').reset_index()\\\n",
    "                    .sort_values(columns_list, ascending=True)\\\n",
    "                    .reset_index(drop=True)\n",
    "\n",
    "\n",
    "# Convertimos los nombres de columnas a formato texto (y guardamos el resultado en csv)\n",
    "sitemap_layers.columns = [str(col) for col in sitemap_layers.columns]\n",
    "sitemap_layers.to_csv('sitemap_layers.csv', index=False)"
   ]
  },
  {
   "cell_type": "markdown",
   "metadata": {},
   "source": [
    "__B. Visualizamos con la libreria graphviz__"
   ]
  },
  {
   "cell_type": "code",
   "execution_count": 26,
   "metadata": {},
   "outputs": [
    {
     "ename": "ModuleNotFoundError",
     "evalue": "No module named 'graphviz'",
     "output_type": "error",
     "traceback": [
      "\u001b[0;31m---------------------------------------------------------------------------\u001b[0m",
      "\u001b[0;31mModuleNotFoundError\u001b[0m                       Traceback (most recent call last)",
      "Input \u001b[0;32mIn [26]\u001b[0m, in \u001b[0;36m<cell line: 1>\u001b[0;34m()\u001b[0m\n\u001b[0;32m----> 1\u001b[0m \u001b[38;5;28;01mimport\u001b[39;00m \u001b[38;5;21;01mgraphviz\u001b[39;00m\n\u001b[1;32m      2\u001b[0m df \u001b[38;5;241m=\u001b[39m sitemap_layers\n\u001b[1;32m      3\u001b[0m graph_depth \u001b[38;5;241m=\u001b[39m \u001b[38;5;241m3\u001b[39m  \u001b[38;5;66;03m# Number of layers deep to plot categorization\u001b[39;00m\n",
      "\u001b[0;31mModuleNotFoundError\u001b[0m: No module named 'graphviz'"
     ]
    }
   ],
   "source": [
    "import graphviz\n",
    "df = sitemap_layers\n",
    "graph_depth = 3  # Number of layers deep to plot categorization\n",
    "limit = 50       # Maximum number of nodes for a branch\n",
    "size = '28,5'     # Size of rendered graph\n",
    "skip = ''        # List of branches to restrict from expanding\n",
    "\n",
    "# Initialize graph\n",
    "f = graphviz.Digraph('sitemap', filename='sitemap_graph_%d_layer' % layers, format='%s' % 'pdf')\n",
    "f.body.extend(['rankdir=LR', 'size=\"%s\"' % size])\n",
    "\n",
    "\n",
    "def add_branch(f, names, vals, limit, connect_to=''):\n",
    "    ''' Adds a set of nodes and edges to nodes on the previous layer. '''\n",
    "\n",
    "    # Get the currently existing node names\n",
    "    node_names = [item.split('\"')[1] for item in f.body if 'label' in item]\n",
    "\n",
    "    # Only add a new branch it it will connect to a previously created node\n",
    "    if connect_to:\n",
    "        if connect_to in node_names:\n",
    "            for name, val in list(zip(names, vals))[:limit]:\n",
    "                f.node(name='%s-%s' % (connect_to, name), label=name)\n",
    "                f.edge(connect_to, '%s-%s' % (connect_to, name), label='{:,}'.format(val))\n",
    "\n",
    "\n",
    "f.attr('node', shape='rectangle') # Plot nodes as rectangles\n",
    "\n",
    "# Add the first layer of nodes\n",
    "for name, counts in df.groupby(['0'])['counts'].sum().reset_index().values:\n",
    "    f.node(name=name, label='{} ({:,})'.format(name, counts))\n",
    "\n",
    "f.attr('node', shape='oval') # Plot nodes as ovals\n",
    "f.graph_attr.update()\n",
    "\n",
    "# Loop over each layer adding nodes and edges to prior nodes\n",
    "for i in range(1, layers+1):\n",
    "    cols = [str(i_) for i_ in range(i)]\n",
    "    nodes = df[cols].drop_duplicates().values\n",
    "    for j, k in enumerate(nodes):\n",
    "\n",
    "        # Compute the mask to select correct data\n",
    "        mask = True\n",
    "        for j_, ki in enumerate(k):\n",
    "            mask &= df[str(j_)] == ki\n",
    "\n",
    "        # Select the data then count branch size, sort, and truncate\n",
    "        data = df[mask].groupby([str(i)])['counts'].sum().reset_index()\n",
    "\n",
    "        # Add to the graph unless specified that we do not want to expand k-1\n",
    "        if (not skip) or (k[-1] not in skip):\n",
    "            add_branch(f,\n",
    "                    names=data[str(i)].values,\n",
    "                    vals=data['counts'].values,\n",
    "                    limit=limit,\n",
    "                    connect_to='-'.join(['%s']*i) % tuple(k))\n",
    "\n",
    "    \n",
    "f.graph_attr = {\n",
    "        'fontname': 'Helvetica',\n",
    "        'fontsize': '18',\n",
    "        'fontcolor': 'black',\n",
    "}\n",
    "\n",
    "f.node_attr = {\n",
    "        'style': 'filled',\n",
    "        'color': 'black',\n",
    "        'fillcolor': '#dbdddd',\n",
    "        'fontname': 'Helvetica',\n",
    "        'fontsize': '14',\n",
    "        'fontcolor': 'black',\n",
    "}\n",
    "    \n",
    "f.edge_attr = {\n",
    "        'color': 'black',\n",
    "        'arrowhead': 'open',\n",
    "        'fontname': 'Helvetica',\n",
    "        'fontsize': '12',\n",
    "        'fontcolor': 'black',\n",
    "    }\n",
    "\n",
    "display(f)\n"
   ]
  },
  {
   "cell_type": "code",
   "execution_count": null,
   "metadata": {},
   "outputs": [],
   "source": [
    "f.render(cleanup=True)"
   ]
  }
 ],
 "metadata": {
  "kernelspec": {
   "display_name": "Python 3 (ipykernel)",
   "language": "python",
   "name": "python3"
  },
  "language_info": {
   "codemirror_mode": {
    "name": "ipython",
    "version": 3
   },
   "file_extension": ".py",
   "mimetype": "text/x-python",
   "name": "python",
   "nbconvert_exporter": "python",
   "pygments_lexer": "ipython3",
   "version": "3.10.6"
  }
 },
 "nbformat": 4,
 "nbformat_minor": 4
}
